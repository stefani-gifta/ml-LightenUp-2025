{
  "cells": [
    {
      "cell_type": "markdown",
      "metadata": {
        "id": "JkuuAtmQXBVi"
      },
      "source": [
        "# Zero DCE for LoL Image Enhancement"
      ]
    },
    {
      "cell_type": "code",
      "execution_count": null,
      "metadata": {
        "colab": {
          "base_uri": "https://localhost:8080/"
        },
        "id": "a7Um4PDkjwlZ",
        "outputId": "3e2f1094-4378-4ad0-c2b9-3ef582ff66f6"
      },
      "outputs": [
        {
          "output_type": "stream",
          "name": "stdout",
          "text": [
            "\u001b[2K   \u001b[90m━━━━━━━━━━━━━━━━━━━━━━━━━━━━━━━━━━━━━━━━\u001b[0m \u001b[32m23.2/23.2 MB\u001b[0m \u001b[31m35.3 MB/s\u001b[0m eta \u001b[36m0:00:00\u001b[0m\n",
            "\u001b[?25h"
          ]
        }
      ],
      "source": [
        "!pip install -qU wandb"
      ]
    },
    {
      "cell_type": "code",
      "execution_count": null,
      "metadata": {
        "id": "4v0jcoGPXT4K"
      },
      "outputs": [],
      "source": [
        "import wandb\n",
        "from wandb.integration.keras import WandbCallback"
      ]
    },
    {
      "cell_type": "code",
      "execution_count": null,
      "metadata": {
        "id": "EVnNr5ovXoHy"
      },
      "outputs": [],
      "source": [
        "import os\n",
        "import random\n",
        "import numpy as np\n",
        "from glob import glob\n",
        "from PIL import Image, ImageOps\n",
        "import matplotlib.pyplot as plt\n",
        "\n",
        "import tensorflow as tf\n",
        "from tensorflow import keras\n",
        "from tensorflow.keras import layers"
      ]
    },
    {
      "cell_type": "code",
      "execution_count": null,
      "metadata": {
        "id": "r7MM0nUmXqDy",
        "colab": {
          "base_uri": "https://localhost:8080/",
          "height": 1000
        },
        "outputId": "3e92cdb0-4836-492f-a202-af3f4091e67c"
      },
      "outputs": [
        {
          "output_type": "display_data",
          "data": {
            "text/plain": [
              "<IPython.core.display.Javascript object>"
            ],
            "application/javascript": [
              "\n",
              "        window._wandbApiKey = new Promise((resolve, reject) => {\n",
              "            function loadScript(url) {\n",
              "            return new Promise(function(resolve, reject) {\n",
              "                let newScript = document.createElement(\"script\");\n",
              "                newScript.onerror = reject;\n",
              "                newScript.onload = resolve;\n",
              "                document.body.appendChild(newScript);\n",
              "                newScript.src = url;\n",
              "            });\n",
              "            }\n",
              "            loadScript(\"https://cdn.jsdelivr.net/npm/postmate/build/postmate.min.js\").then(() => {\n",
              "            const iframe = document.createElement('iframe')\n",
              "            iframe.style.cssText = \"width:0;height:0;border:none\"\n",
              "            document.body.appendChild(iframe)\n",
              "            const handshake = new Postmate({\n",
              "                container: iframe,\n",
              "                url: 'https://wandb.ai/authorize'\n",
              "            });\n",
              "            const timeout = setTimeout(() => reject(\"Couldn't auto authenticate\"), 5000)\n",
              "            handshake.then(function(child) {\n",
              "                child.on('authorize', data => {\n",
              "                    clearTimeout(timeout)\n",
              "                    resolve(data)\n",
              "                });\n",
              "            });\n",
              "            })\n",
              "        });\n",
              "    "
            ]
          },
          "metadata": {}
        },
        {
          "output_type": "stream",
          "name": "stderr",
          "text": [
            "\u001b[34m\u001b[1mwandb\u001b[0m: Logging into wandb.ai. (Learn how to deploy a W&B server locally: https://wandb.me/wandb-server)\n",
            "\u001b[34m\u001b[1mwandb\u001b[0m: You can find your API key in your browser here: https://wandb.ai/authorize?ref=models\n",
            "wandb: Paste an API key from your profile and hit enter:"
          ]
        },
        {
          "name": "stdout",
          "output_type": "stream",
          "text": [
            " ··········\n"
          ]
        },
        {
          "output_type": "stream",
          "name": "stderr",
          "text": [
            "\u001b[34m\u001b[1mwandb\u001b[0m: \u001b[33mWARNING\u001b[0m If you're specifying your api key in code, ensure this code is not shared publicly.\n",
            "\u001b[34m\u001b[1mwandb\u001b[0m: \u001b[33mWARNING\u001b[0m Consider setting the WANDB_API_KEY environment variable, or running `wandb login` from the command line.\n",
            "\u001b[34m\u001b[1mwandb\u001b[0m: No netrc file found, creating one.\n",
            "\u001b[34m\u001b[1mwandb\u001b[0m: Appending key for api.wandb.ai to your netrc file: /root/.netrc\n",
            "\u001b[34m\u001b[1mwandb\u001b[0m: Currently logged in as: \u001b[33mryunuriadi\u001b[0m (\u001b[33mryunuriadi-bina-nusantara\u001b[0m) to \u001b[32mhttps://api.wandb.ai\u001b[0m. Use \u001b[1m`wandb login --relogin`\u001b[0m to force relogin\n"
          ]
        },
        {
          "output_type": "display_data",
          "data": {
            "text/plain": [
              "<IPython.core.display.HTML object>"
            ],
            "text/html": [
              "Tracking run with wandb version 0.20.1"
            ]
          },
          "metadata": {}
        },
        {
          "output_type": "display_data",
          "data": {
            "text/plain": [
              "<IPython.core.display.HTML object>"
            ],
            "text/html": [
              "Run data is saved locally in <code>/content/wandb/run-20250605_090352-6xoi80st</code>"
            ]
          },
          "metadata": {}
        },
        {
          "output_type": "display_data",
          "data": {
            "text/plain": [
              "<IPython.core.display.HTML object>"
            ],
            "text/html": [
              "Syncing run <strong><a href='https://wandb.ai/ryunuriadi-bina-nusantara/uncategorized/runs/6xoi80st' target=\"_blank\">ethereal-lion-10</a></strong> to <a href='https://wandb.ai/ryunuriadi-bina-nusantara/uncategorized' target=\"_blank\">Weights & Biases</a> (<a href='https://wandb.me/developer-guide' target=\"_blank\">docs</a>)<br>"
            ]
          },
          "metadata": {}
        },
        {
          "output_type": "display_data",
          "data": {
            "text/plain": [
              "<IPython.core.display.HTML object>"
            ],
            "text/html": [
              " View project at <a href='https://wandb.ai/ryunuriadi-bina-nusantara/uncategorized' target=\"_blank\">https://wandb.ai/ryunuriadi-bina-nusantara/uncategorized</a>"
            ]
          },
          "metadata": {}
        },
        {
          "output_type": "display_data",
          "data": {
            "text/plain": [
              "<IPython.core.display.HTML object>"
            ],
            "text/html": [
              " View run at <a href='https://wandb.ai/ryunuriadi-bina-nusantara/uncategorized/runs/6xoi80st' target=\"_blank\">https://wandb.ai/ryunuriadi-bina-nusantara/uncategorized/runs/6xoi80st</a>"
            ]
          },
          "metadata": {}
        },
        {
          "output_type": "stream",
          "name": "stderr",
          "text": [
            "\u001b[34m\u001b[1mwandb\u001b[0m: Downloading large artifact Lol_Dataset:v0, 331.09MB. 1 files... \n",
            "\u001b[34m\u001b[1mwandb\u001b[0m:   1 of 1 files downloaded.  \n",
            "Done. 0:0:6.1 (54.7MB/s)\n"
          ]
        },
        {
          "output_type": "stream",
          "name": "stdout",
          "text": [
            "Archive:  /content/artifacts/Lol_Dataset:v0/lol_dataset.zip\n",
            "   creating: lol_dataset/\n",
            "   creating: lol_dataset/eval15/\n",
            "   creating: lol_dataset/eval15/high/\n",
            "  inflating: lol_dataset/eval15/high/748.png  \n",
            "  inflating: lol_dataset/eval15/high/665.png  \n",
            "  inflating: lol_dataset/eval15/high/111.png  \n",
            "  inflating: lol_dataset/eval15/high/493.png  \n",
            "  inflating: lol_dataset/eval15/high/22.png  \n",
            "  inflating: lol_dataset/eval15/high/23.png  \n",
            "  inflating: lol_dataset/eval15/high/669.png  \n",
            "  inflating: lol_dataset/eval15/high/547.png  \n",
            "  inflating: lol_dataset/eval15/high/778.png  \n",
            "  inflating: lol_dataset/eval15/high/55.png  \n",
            "  inflating: lol_dataset/eval15/high/179.png  \n",
            "  inflating: lol_dataset/eval15/high/780.png  \n",
            "  inflating: lol_dataset/eval15/high/79.png  \n",
            "  inflating: lol_dataset/eval15/high/146.png  \n",
            "  inflating: lol_dataset/eval15/high/1.png  \n",
            "  inflating: lol_dataset/eval15/.DS_Store  \n",
            "   creating: lol_dataset/eval15/low/\n",
            "  inflating: lol_dataset/eval15/low/748.png  \n",
            "  inflating: lol_dataset/eval15/low/665.png  \n",
            "  inflating: lol_dataset/eval15/low/111.png  \n",
            "  inflating: lol_dataset/eval15/low/493.png  \n",
            "  inflating: lol_dataset/eval15/low/22.png  \n",
            "  inflating: lol_dataset/eval15/low/23.png  \n",
            "  inflating: lol_dataset/eval15/low/669.png  \n",
            "  inflating: lol_dataset/eval15/low/547.png  \n",
            "  inflating: lol_dataset/eval15/low/778.png  \n",
            "  inflating: lol_dataset/eval15/low/55.png  \n",
            "  inflating: lol_dataset/eval15/low/179.png  \n",
            "  inflating: lol_dataset/eval15/low/780.png  \n",
            "  inflating: lol_dataset/eval15/low/79.png  \n",
            "  inflating: lol_dataset/eval15/low/146.png  \n",
            "  inflating: lol_dataset/eval15/low/1.png  \n",
            "   creating: lol_dataset/our485/\n",
            "   creating: lol_dataset/our485/high/\n",
            "  inflating: lol_dataset/our485/high/638.png  \n",
            "  inflating: lol_dataset/our485/high/176.png  \n",
            "  inflating: lol_dataset/our485/high/88.png  \n",
            "  inflating: lol_dataset/our485/high/610.png  \n",
            "  inflating: lol_dataset/our485/high/604.png  \n",
            "  inflating: lol_dataset/our485/high/162.png  \n",
            "  inflating: lol_dataset/our485/high/189.png  \n",
            "  inflating: lol_dataset/our485/high/77.png  \n",
            "  inflating: lol_dataset/our485/high/63.png  \n",
            "  inflating: lol_dataset/our485/high/758.png  \n",
            "  inflating: lol_dataset/our485/high/764.png  \n",
            "  inflating: lol_dataset/our485/high/770.png  \n",
            "  inflating: lol_dataset/our485/high/228.png  \n",
            "  inflating: lol_dataset/our485/high/566.png  \n",
            "  inflating: lol_dataset/our485/high/200.png  \n",
            "  inflating: lol_dataset/our485/high/572.png  \n",
            "  inflating: lol_dataset/our485/high/598.png  \n",
            "  inflating: lol_dataset/our485/high/215.png  \n",
            "  inflating: lol_dataset/our485/high/573.png  \n",
            "  inflating: lol_dataset/our485/high/567.png  \n",
            "  inflating: lol_dataset/our485/high/201.png  \n",
            "  inflating: lol_dataset/our485/high/229.png  \n",
            "  inflating: lol_dataset/our485/high/771.png  \n",
            "  inflating: lol_dataset/our485/high/765.png  \n",
            "  inflating: lol_dataset/our485/high/759.png  \n",
            "  inflating: lol_dataset/our485/high/62.png  \n",
            "  inflating: lol_dataset/our485/high/188.png  \n",
            "  inflating: lol_dataset/our485/high/76.png  \n",
            "  inflating: lol_dataset/our485/high/605.png  \n",
            "  inflating: lol_dataset/our485/high/611.png  \n",
            "  inflating: lol_dataset/our485/high/89.png  \n",
            "  inflating: lol_dataset/our485/high/639.png  \n",
            "  inflating: lol_dataset/our485/high/149.png  \n",
            "  inflating: lol_dataset/our485/high/607.png  \n",
            "  inflating: lol_dataset/our485/high/613.png  \n",
            "  inflating: lol_dataset/our485/high/175.png  \n",
            "  inflating: lol_dataset/our485/high/60.png  \n",
            "  inflating: lol_dataset/our485/high/74.png  \n",
            "  inflating: lol_dataset/our485/high/48.png  \n",
            "  inflating: lol_dataset/our485/high/773.png  \n",
            "  inflating: lol_dataset/our485/high/559.png  \n",
            "  inflating: lol_dataset/our485/high/571.png  \n",
            "  inflating: lol_dataset/our485/high/203.png  \n",
            "  inflating: lol_dataset/our485/high/565.png  \n",
            "  inflating: lol_dataset/our485/high/202.png  \n",
            "  inflating: lol_dataset/our485/high/564.png  \n",
            "  inflating: lol_dataset/our485/high/570.png  \n",
            "  inflating: lol_dataset/our485/high/216.png  \n",
            "  inflating: lol_dataset/our485/high/558.png  \n",
            "  inflating: lol_dataset/our485/high/766.png  \n",
            "  inflating: lol_dataset/our485/high/772.png  \n",
            "  inflating: lol_dataset/our485/high/75.png  \n",
            "  inflating: lol_dataset/our485/high/61.png  \n",
            "  inflating: lol_dataset/our485/high/612.png  \n",
            "  inflating: lol_dataset/our485/high/174.png  \n",
            "  inflating: lol_dataset/our485/high/160.png  \n",
            "  inflating: lol_dataset/our485/high/606.png  \n",
            "  inflating: lol_dataset/our485/high/616.png  \n",
            "  inflating: lol_dataset/our485/high/59.png  \n",
            "  inflating: lol_dataset/our485/high/776.png  \n",
            "  inflating: lol_dataset/our485/high/762.png  \n",
            "  inflating: lol_dataset/our485/high/789.png  \n",
            "  inflating: lol_dataset/our485/high/212.png  \n",
            "  inflating: lol_dataset/our485/high/.DS_Store  \n",
            "  inflating: lol_dataset/our485/high/574.png  \n",
            "  inflating: lol_dataset/our485/high/560.png  \n",
            "  inflating: lol_dataset/our485/high/206.png  \n",
            "  inflating: lol_dataset/our485/high/548.png  \n",
            "  inflating: lol_dataset/our485/high/549.png  \n",
            "  inflating: lol_dataset/our485/high/561.png  \n",
            "  inflating: lol_dataset/our485/high/207.png  \n",
            "  inflating: lol_dataset/our485/high/213.png  \n",
            "  inflating: lol_dataset/our485/high/575.png  \n",
            "  inflating: lol_dataset/our485/high/788.png  \n",
            "  inflating: lol_dataset/our485/high/763.png  \n",
            "  inflating: lol_dataset/our485/high/777.png  \n",
            "  inflating: lol_dataset/our485/high/70.png  \n",
            "  inflating: lol_dataset/our485/high/64.png  \n",
            "  inflating: lol_dataset/our485/high/58.png  \n",
            "  inflating: lol_dataset/our485/high/159.png  \n",
            "  inflating: lol_dataset/our485/high/171.png  \n",
            "  inflating: lol_dataset/our485/high/617.png  \n",
            "  inflating: lol_dataset/our485/high/615.png  \n",
            "  inflating: lol_dataset/our485/high/173.png  \n",
            "  inflating: lol_dataset/our485/high/167.png  \n",
            "  inflating: lol_dataset/our485/high/601.png  \n",
            "  inflating: lol_dataset/our485/high/99.png  \n",
            "  inflating: lol_dataset/our485/high/629.png  \n",
            "  inflating: lol_dataset/our485/high/198.png  \n",
            "  inflating: lol_dataset/our485/high/761.png  \n",
            "  inflating: lol_dataset/our485/high/775.png  \n",
            "  inflating: lol_dataset/our485/high/563.png  \n",
            "  inflating: lol_dataset/our485/high/211.png  \n",
            "  inflating: lol_dataset/our485/high/239.png  \n",
            "  inflating: lol_dataset/our485/high/588.png  \n",
            "  inflating: lol_dataset/our485/high/238.png  \n",
            "  inflating: lol_dataset/our485/high/576.png  \n",
            "  inflating: lol_dataset/our485/high/210.png  \n",
            "  inflating: lol_dataset/our485/high/204.png  \n",
            "  inflating: lol_dataset/our485/high/562.png  \n",
            "  inflating: lol_dataset/our485/high/774.png  \n",
            "  inflating: lol_dataset/our485/high/760.png  \n",
            "  inflating: lol_dataset/our485/high/199.png  \n",
            "  inflating: lol_dataset/our485/high/67.png  \n",
            "  inflating: lol_dataset/our485/high/73.png  \n",
            "  inflating: lol_dataset/our485/high/9.png  \n",
            "  inflating: lol_dataset/our485/high/628.png  \n",
            "  inflating: lol_dataset/our485/high/98.png  \n",
            "  inflating: lol_dataset/our485/high/600.png  \n",
            "  inflating: lol_dataset/our485/high/614.png  \n",
            "  inflating: lol_dataset/our485/high/172.png  \n",
            "  inflating: lol_dataset/our485/high/471.png  \n",
            "  inflating: lol_dataset/our485/high/129.png  \n",
            "  inflating: lol_dataset/our485/high/115.png  \n",
            "  inflating: lol_dataset/our485/high/101.png  \n",
            "  inflating: lol_dataset/our485/high/667.png  \n",
            "  inflating: lol_dataset/our485/high/14.png  \n",
            "  inflating: lol_dataset/our485/high/698.png  \n",
            "  inflating: lol_dataset/our485/high/28.png  \n",
            "  inflating: lol_dataset/our485/high/713.png  \n",
            "  inflating: lol_dataset/our485/high/539.png  \n",
            "  inflating: lol_dataset/our485/high/263.png  \n",
            "  inflating: lol_dataset/our485/high/505.png  \n",
            "  inflating: lol_dataset/our485/high/511.png  \n",
            "  inflating: lol_dataset/our485/high/262.png  \n",
            "  inflating: lol_dataset/our485/high/504.png  \n",
            "  inflating: lol_dataset/our485/high/538.png  \n",
            "  inflating: lol_dataset/our485/high/712.png  \n",
            "  inflating: lol_dataset/our485/high/699.png  \n",
            "  inflating: lol_dataset/our485/high/15.png  \n",
            "  inflating: lol_dataset/our485/high/100.png  \n",
            "  inflating: lol_dataset/our485/high/666.png  \n",
            "  inflating: lol_dataset/our485/high/114.png  \n",
            "  inflating: lol_dataset/our485/high/128.png  \n",
            "  inflating: lol_dataset/our485/high/464.png  \n",
            "  inflating: lol_dataset/our485/high/470.png  \n",
            "  inflating: lol_dataset/our485/high/328.png  \n",
            "  inflating: lol_dataset/our485/high/472.png  \n",
            "  inflating: lol_dataset/our485/high/499.png  \n",
            "  inflating: lol_dataset/our485/high/658.png  \n",
            "  inflating: lol_dataset/our485/high/664.png  \n",
            "  inflating: lol_dataset/our485/high/102.png  \n",
            "  inflating: lol_dataset/our485/high/116.png  \n",
            "  inflating: lol_dataset/our485/high/670.png  \n",
            "  inflating: lol_dataset/our485/high/17.png  \n",
            "  inflating: lol_dataset/our485/high/738.png  \n",
            "  inflating: lol_dataset/our485/high/710.png  \n",
            "  inflating: lol_dataset/our485/high/704.png  \n",
            "  inflating: lol_dataset/our485/high/248.png  \n",
            "  inflating: lol_dataset/our485/high/512.png  \n",
            "  inflating: lol_dataset/our485/high/506.png  \n",
            "  inflating: lol_dataset/our485/high/260.png  \n",
            "  inflating: lol_dataset/our485/high/507.png  \n",
            "  inflating: lol_dataset/our485/high/261.png  \n",
            "  inflating: lol_dataset/our485/high/249.png  \n",
            "  inflating: lol_dataset/our485/high/711.png  \n",
            "  inflating: lol_dataset/our485/high/739.png  \n",
            "  inflating: lol_dataset/our485/high/16.png  \n",
            "  inflating: lol_dataset/our485/high/117.png  \n",
            "  inflating: lol_dataset/our485/high/671.png  \n",
            "  inflating: lol_dataset/our485/high/103.png  \n",
            "  inflating: lol_dataset/our485/high/659.png  \n",
            "  inflating: lol_dataset/our485/high/498.png  \n",
            "  inflating: lol_dataset/our485/high/473.png  \n",
            "  inflating: lol_dataset/our485/high/477.png  \n",
            "  inflating: lol_dataset/our485/high/488.png  \n",
            "  inflating: lol_dataset/our485/high/107.png  \n",
            "  inflating: lol_dataset/our485/high/661.png  \n",
            "  inflating: lol_dataset/our485/high/675.png  \n",
            "  inflating: lol_dataset/our485/high/113.png  \n",
            "  inflating: lol_dataset/our485/high/649.png  \n",
            "  inflating: lol_dataset/our485/high/12.png  \n",
            "  inflating: lol_dataset/our485/high/715.png  \n",
            "  inflating: lol_dataset/our485/high/701.png  \n",
            "  inflating: lol_dataset/our485/high/729.png  \n",
            "  inflating: lol_dataset/our485/high/517.png  \n",
            "  inflating: lol_dataset/our485/high/265.png  \n",
            "  inflating: lol_dataset/our485/high/259.png  \n",
            "  inflating: lol_dataset/our485/high/258.png  \n",
            "  inflating: lol_dataset/our485/high/264.png  \n",
            "  inflating: lol_dataset/our485/high/502.png  \n",
            "  inflating: lol_dataset/our485/high/728.png  \n",
            "  inflating: lol_dataset/our485/high/700.png  \n",
            "  inflating: lol_dataset/our485/high/714.png  \n",
            "  inflating: lol_dataset/our485/high/13.png  \n",
            "  inflating: lol_dataset/our485/high/648.png  \n",
            "  inflating: lol_dataset/our485/high/674.png  \n",
            "  inflating: lol_dataset/our485/high/112.png  \n",
            "  inflating: lol_dataset/our485/high/106.png  \n",
            "  inflating: lol_dataset/our485/high/660.png  \n",
            "  inflating: lol_dataset/our485/high/489.png  \n",
            "  inflating: lol_dataset/our485/high/476.png  \n",
            "  inflating: lol_dataset/our485/high/474.png  \n",
            "  inflating: lol_dataset/our485/high/460.png  \n",
            "  inflating: lol_dataset/our485/high/110.png  \n",
            "  inflating: lol_dataset/our485/high/676.png  \n",
            "  inflating: lol_dataset/our485/high/662.png  \n",
            "  inflating: lol_dataset/our485/high/104.png  \n",
            "  inflating: lol_dataset/our485/high/138.png  \n",
            "  inflating: lol_dataset/our485/high/39.png  \n",
            "  inflating: lol_dataset/our485/high/689.png  \n",
            "  inflating: lol_dataset/our485/high/702.png  \n",
            "  inflating: lol_dataset/our485/high/716.png  \n",
            "  inflating: lol_dataset/our485/high/500.png  \n",
            "  inflating: lol_dataset/our485/high/514.png  \n",
            "  inflating: lol_dataset/our485/high/528.png  \n",
            "  inflating: lol_dataset/our485/high/529.png  \n",
            "  inflating: lol_dataset/our485/high/515.png  \n",
            "  inflating: lol_dataset/our485/high/501.png  \n",
            "  inflating: lol_dataset/our485/high/267.png  \n",
            "  inflating: lol_dataset/our485/high/717.png  \n",
            "  inflating: lol_dataset/our485/high/703.png  \n",
            "  inflating: lol_dataset/our485/high/10.png  \n",
            "  inflating: lol_dataset/our485/high/688.png  \n",
            "  inflating: lol_dataset/our485/high/38.png  \n",
            "  inflating: lol_dataset/our485/high/139.png  \n",
            "  inflating: lol_dataset/our485/high/663.png  \n",
            "  inflating: lol_dataset/our485/high/105.png  \n",
            "  inflating: lol_dataset/our485/high/677.png  \n",
            "  inflating: lol_dataset/our485/high/475.png  \n",
            "  inflating: lol_dataset/our485/high/478.png  \n",
            "  inflating: lol_dataset/our485/high/450.png  \n",
            "  inflating: lol_dataset/our485/high/487.png  \n",
            "  inflating: lol_dataset/our485/high/120.png  \n",
            "  inflating: lol_dataset/our485/high/646.png  \n",
            "  inflating: lol_dataset/our485/high/35.png  \n",
            "  inflating: lol_dataset/our485/high/21.png  \n",
            "  inflating: lol_dataset/our485/high/691.png  \n",
            "  inflating: lol_dataset/our485/high/685.png  \n",
            "  inflating: lol_dataset/our485/high/726.png  \n",
            "  inflating: lol_dataset/our485/high/732.png  \n",
            "  inflating: lol_dataset/our485/high/242.png  \n",
            "  inflating: lol_dataset/our485/high/524.png  \n",
            "  inflating: lol_dataset/our485/high/530.png  \n",
            "  inflating: lol_dataset/our485/high/531.png  \n",
            "  inflating: lol_dataset/our485/high/257.png  \n",
            "  inflating: lol_dataset/our485/high/243.png  \n",
            "  inflating: lol_dataset/our485/high/525.png  \n",
            "  inflating: lol_dataset/our485/high/733.png  \n",
            "  inflating: lol_dataset/our485/high/727.png  \n",
            "  inflating: lol_dataset/our485/high/684.png  \n",
            "  inflating: lol_dataset/our485/high/690.png  \n",
            "  inflating: lol_dataset/our485/high/121.png  \n",
            "  inflating: lol_dataset/our485/high/647.png  \n",
            "  inflating: lol_dataset/our485/high/653.png  \n",
            "  inflating: lol_dataset/our485/high/135.png  \n",
            "  inflating: lol_dataset/our485/high/109.png  \n",
            "  inflating: lol_dataset/our485/high/486.png  \n",
            "  inflating: lol_dataset/our485/high/492.png  \n",
            "  inflating: lol_dataset/our485/high/479.png  \n",
            "  inflating: lol_dataset/our485/high/484.png  \n",
            "  inflating: lol_dataset/our485/high/490.png  \n",
            "  inflating: lol_dataset/our485/high/679.png  \n",
            "  inflating: lol_dataset/our485/high/645.png  \n",
            "  inflating: lol_dataset/our485/high/123.png  \n",
            "  inflating: lol_dataset/our485/high/137.png  \n",
            "  inflating: lol_dataset/our485/high/651.png  \n",
            "  inflating: lol_dataset/our485/high/36.png  \n",
            "  inflating: lol_dataset/our485/high/686.png  \n",
            "  inflating: lol_dataset/our485/high/692.png  \n",
            "  inflating: lol_dataset/our485/high/719.png  \n",
            "  inflating: lol_dataset/our485/high/731.png  \n",
            "  inflating: lol_dataset/our485/high/725.png  \n",
            "  inflating: lol_dataset/our485/high/533.png  \n",
            "  inflating: lol_dataset/our485/high/527.png  \n",
            "  inflating: lol_dataset/our485/high/241.png  \n",
            "  inflating: lol_dataset/our485/high/526.png  \n",
            "  inflating: lol_dataset/our485/high/240.png  \n",
            "  inflating: lol_dataset/our485/high/254.png  \n",
            "  inflating: lol_dataset/our485/high/532.png  \n",
            "  inflating: lol_dataset/our485/high/724.png  \n",
            "  inflating: lol_dataset/our485/high/730.png  \n",
            "  inflating: lol_dataset/our485/high/718.png  \n",
            "  inflating: lol_dataset/our485/high/693.png  \n",
            "  inflating: lol_dataset/our485/high/687.png  \n",
            "  inflating: lol_dataset/our485/high/136.png  \n",
            "  inflating: lol_dataset/our485/high/650.png  \n",
            "  inflating: lol_dataset/our485/high/644.png  \n",
            "  inflating: lol_dataset/our485/high/122.png  \n",
            "  inflating: lol_dataset/our485/high/678.png  \n",
            "  inflating: lol_dataset/our485/high/491.png  \n",
            "  inflating: lol_dataset/our485/high/485.png  \n",
            "  inflating: lol_dataset/our485/high/330.png  \n",
            "  inflating: lol_dataset/our485/high/481.png  \n",
            "  inflating: lol_dataset/our485/high/495.png  \n",
            "  inflating: lol_dataset/our485/high/126.png  \n",
            "  inflating: lol_dataset/our485/high/640.png  \n",
            "  inflating: lol_dataset/our485/high/654.png  \n",
            "  inflating: lol_dataset/our485/high/132.png  \n",
            "  inflating: lol_dataset/our485/high/668.png  \n",
            "  inflating: lol_dataset/our485/high/683.png  \n",
            "  inflating: lol_dataset/our485/high/697.png  \n",
            "  inflating: lol_dataset/our485/high/27.png  \n",
            "  inflating: lol_dataset/our485/high/33.png  \n",
            "  inflating: lol_dataset/our485/high/734.png  \n",
            "  inflating: lol_dataset/our485/high/720.png  \n",
            "  inflating: lol_dataset/our485/high/708.png  \n",
            "  inflating: lol_dataset/our485/high/250.png  \n",
            "  inflating: lol_dataset/our485/high/244.png  \n",
            "  inflating: lol_dataset/our485/high/522.png  \n",
            "  inflating: lol_dataset/our485/high/523.png  \n",
            "  inflating: lol_dataset/our485/high/537.png  \n",
            "  inflating: lol_dataset/our485/high/251.png  \n",
            "  inflating: lol_dataset/our485/high/709.png  \n",
            "  inflating: lol_dataset/our485/high/721.png  \n",
            "  inflating: lol_dataset/our485/high/735.png  \n",
            "  inflating: lol_dataset/our485/high/26.png  \n",
            "  inflating: lol_dataset/our485/high/696.png  \n",
            "  inflating: lol_dataset/our485/high/682.png  \n",
            "  inflating: lol_dataset/our485/high/655.png  \n",
            "  inflating: lol_dataset/our485/high/127.png  \n",
            "  inflating: lol_dataset/our485/high/641.png  \n",
            "  inflating: lol_dataset/our485/high/494.png  \n",
            "  inflating: lol_dataset/our485/high/480.png  \n",
            "  inflating: lol_dataset/our485/high/469.png  \n",
            "  inflating: lol_dataset/our485/high/496.png  \n",
            "  inflating: lol_dataset/our485/high/482.png  \n",
            "  inflating: lol_dataset/our485/high/131.png  \n",
            "  inflating: lol_dataset/our485/high/643.png  \n",
            "  inflating: lol_dataset/our485/high/125.png  \n",
            "  inflating: lol_dataset/our485/high/119.png  \n",
            "  inflating: lol_dataset/our485/high/694.png  \n",
            "  inflating: lol_dataset/our485/high/680.png  \n",
            "  inflating: lol_dataset/our485/high/18.png  \n",
            "  inflating: lol_dataset/our485/high/24.png  \n",
            "  inflating: lol_dataset/our485/high/723.png  \n",
            "  inflating: lol_dataset/our485/high/737.png  \n",
            "  inflating: lol_dataset/our485/high/247.png  \n",
            "  inflating: lol_dataset/our485/high/253.png  \n",
            "  inflating: lol_dataset/our485/high/535.png  \n",
            "  inflating: lol_dataset/our485/high/508.png  \n",
            "  inflating: lol_dataset/our485/high/252.png  \n",
            "  inflating: lol_dataset/our485/high/534.png  \n",
            "  inflating: lol_dataset/our485/high/246.png  \n",
            "  inflating: lol_dataset/our485/high/736.png  \n",
            "  inflating: lol_dataset/our485/high/722.png  \n",
            "  inflating: lol_dataset/our485/high/25.png  \n",
            "  inflating: lol_dataset/our485/high/681.png  \n",
            "  inflating: lol_dataset/our485/high/695.png  \n",
            "  inflating: lol_dataset/our485/high/118.png  \n",
            "  inflating: lol_dataset/our485/high/642.png  \n",
            "  inflating: lol_dataset/our485/high/124.png  \n",
            "  inflating: lol_dataset/our485/high/130.png  \n",
            "  inflating: lol_dataset/our485/high/483.png  \n",
            "  inflating: lol_dataset/our485/high/497.png  \n",
            "  inflating: lol_dataset/our485/high/468.png  \n",
            "  inflating: lol_dataset/our485/high/95.png  \n",
            "  inflating: lol_dataset/our485/high/81.png  \n",
            "  inflating: lol_dataset/our485/high/157.png  \n",
            "  inflating: lol_dataset/our485/high/625.png  \n",
            "  inflating: lol_dataset/our485/high/143.png  \n",
            "  inflating: lol_dataset/our485/high/56.png  \n",
            "  inflating: lol_dataset/our485/high/42.png  \n",
            "  inflating: lol_dataset/our485/high/194.png  \n",
            "  inflating: lol_dataset/our485/high/180.png  \n",
            "  inflating: lol_dataset/our485/high/779.png  \n",
            "  inflating: lol_dataset/our485/high/745.png  \n",
            "  inflating: lol_dataset/our485/high/751.png  \n",
            "  inflating: lol_dataset/our485/high/786.png  \n",
            "  inflating: lol_dataset/our485/high/209.png  \n",
            "  inflating: lol_dataset/our485/high/221.png  \n",
            "  inflating: lol_dataset/our485/high/235.png  \n",
            "  inflating: lol_dataset/our485/high/553.png  \n",
            "  inflating: lol_dataset/our485/high/590.png  \n",
            "  inflating: lol_dataset/our485/high/591.png  \n",
            "  inflating: lol_dataset/our485/high/585.png  \n",
            "  inflating: lol_dataset/our485/high/552.png  \n",
            "  inflating: lol_dataset/our485/high/546.png  \n",
            "  inflating: lol_dataset/our485/high/220.png  \n",
            "  inflating: lol_dataset/our485/high/787.png  \n",
            "  inflating: lol_dataset/our485/high/750.png  \n",
            "  inflating: lol_dataset/our485/high/744.png  \n",
            "  inflating: lol_dataset/our485/high/195.png  \n",
            "  inflating: lol_dataset/our485/high/43.png  \n",
            "  inflating: lol_dataset/our485/high/5.png  \n",
            "  inflating: lol_dataset/our485/high/57.png  \n",
            "  inflating: lol_dataset/our485/high/624.png  \n",
            "  inflating: lol_dataset/our485/high/142.png  \n",
            "  inflating: lol_dataset/our485/high/630.png  \n",
            "  inflating: lol_dataset/our485/high/80.png  \n",
            "  inflating: lol_dataset/our485/high/94.png  \n",
            "  inflating: lol_dataset/our485/high/342.png  \n",
            "  inflating: lol_dataset/our485/high/82.png  \n",
            "  inflating: lol_dataset/our485/high/96.png  \n",
            "  inflating: lol_dataset/our485/high/140.png  \n",
            "  inflating: lol_dataset/our485/high/626.png  \n",
            "  inflating: lol_dataset/our485/high/154.png  \n",
            "  inflating: lol_dataset/our485/high/183.png  \n",
            "  inflating: lol_dataset/our485/high/69.png  \n",
            "  inflating: lol_dataset/our485/high/752.png  \n",
            "  inflating: lol_dataset/our485/high/746.png  \n",
            "  inflating: lol_dataset/our485/high/785.png  \n",
            "  inflating: lol_dataset/our485/high/578.png  \n",
            "  inflating: lol_dataset/our485/high/550.png  \n",
            "  inflating: lol_dataset/our485/high/236.png  \n",
            "  inflating: lol_dataset/our485/high/222.png  \n",
            "  inflating: lol_dataset/our485/high/544.png  \n",
            "  inflating: lol_dataset/our485/high/593.png  \n",
            "  inflating: lol_dataset/our485/high/587.png  \n",
            "  inflating: lol_dataset/our485/high/586.png  \n",
            "  inflating: lol_dataset/our485/high/592.png  \n",
            "  inflating: lol_dataset/our485/high/545.png  \n",
            "  inflating: lol_dataset/our485/high/551.png  \n",
            "  inflating: lol_dataset/our485/high/237.png  \n",
            "  inflating: lol_dataset/our485/high/579.png  \n",
            "  inflating: lol_dataset/our485/high/784.png  \n",
            "  inflating: lol_dataset/our485/high/747.png  \n",
            "  inflating: lol_dataset/our485/high/68.png  \n",
            "  inflating: lol_dataset/our485/high/196.png  \n",
            "  inflating: lol_dataset/our485/high/54.png  \n",
            "  inflating: lol_dataset/our485/high/6.png  \n",
            "  inflating: lol_dataset/our485/high/40.png  \n",
            "  inflating: lol_dataset/our485/high/633.png  \n",
            "  inflating: lol_dataset/our485/high/141.png  \n",
            "  inflating: lol_dataset/our485/high/627.png  \n",
            "  inflating: lol_dataset/our485/high/97.png  \n",
            "  inflating: lol_dataset/our485/high/169.png  \n",
            "  inflating: lol_dataset/our485/high/83.png  \n",
            "  inflating: lol_dataset/our485/high/623.png  \n",
            "  inflating: lol_dataset/our485/high/145.png  \n",
            "  inflating: lol_dataset/our485/high/151.png  \n",
            "  inflating: lol_dataset/our485/high/637.png  \n",
            "  inflating: lol_dataset/our485/high/87.png  \n",
            "  inflating: lol_dataset/our485/high/93.png  \n",
            "  inflating: lol_dataset/our485/high/78.png  \n",
            "  inflating: lol_dataset/our485/high/186.png  \n",
            "  inflating: lol_dataset/our485/high/44.png  \n",
            "  inflating: lol_dataset/our485/high/2.png  \n",
            "  inflating: lol_dataset/our485/high/50.png  \n",
            "  inflating: lol_dataset/our485/high/757.png  \n",
            "  inflating: lol_dataset/our485/high/743.png  \n",
            "  inflating: lol_dataset/our485/high/233.png  \n",
            "  inflating: lol_dataset/our485/high/555.png  \n",
            "  inflating: lol_dataset/our485/high/541.png  \n",
            "  inflating: lol_dataset/our485/high/227.png  \n",
            "  inflating: lol_dataset/our485/high/569.png  \n",
            "  inflating: lol_dataset/our485/high/596.png  \n",
            "  inflating: lol_dataset/our485/high/583.png  \n",
            "  inflating: lol_dataset/our485/high/597.png  \n",
            "  inflating: lol_dataset/our485/high/568.png  \n",
            "  inflating: lol_dataset/our485/high/540.png  \n",
            "  inflating: lol_dataset/our485/high/232.png  \n",
            "  inflating: lol_dataset/our485/high/554.png  \n",
            "  inflating: lol_dataset/our485/high/781.png  \n",
            "  inflating: lol_dataset/our485/high/51.png  \n",
            "  inflating: lol_dataset/our485/high/45.png  \n",
            "  inflating: lol_dataset/our485/high/193.png  \n",
            "  inflating: lol_dataset/our485/high/187.png  \n",
            "  inflating: lol_dataset/our485/high/92.png  \n",
            "  inflating: lol_dataset/our485/high/86.png  \n",
            "  inflating: lol_dataset/our485/high/150.png  \n",
            "  inflating: lol_dataset/our485/high/622.png  \n",
            "  inflating: lol_dataset/our485/high/144.png  \n",
            "  inflating: lol_dataset/our485/high/344.png  \n",
            "  inflating: lol_dataset/our485/high/634.png  \n",
            "  inflating: lol_dataset/our485/high/152.png  \n",
            "  inflating: lol_dataset/our485/high/620.png  \n",
            "  inflating: lol_dataset/our485/high/608.png  \n",
            "  inflating: lol_dataset/our485/high/84.png  \n",
            "  inflating: lol_dataset/our485/high/191.png  \n",
            "  inflating: lol_dataset/our485/high/185.png  \n",
            "  inflating: lol_dataset/our485/high/53.png  \n",
            "  inflating: lol_dataset/our485/high/47.png  \n",
            "  inflating: lol_dataset/our485/high/740.png  \n",
            "  inflating: lol_dataset/our485/high/783.png  \n",
            "  inflating: lol_dataset/our485/high/542.png  \n",
            "  inflating: lol_dataset/our485/high/556.png  \n",
            "  inflating: lol_dataset/our485/high/230.png  \n",
            "  inflating: lol_dataset/our485/high/595.png  \n",
            "  inflating: lol_dataset/our485/high/594.png  \n",
            "  inflating: lol_dataset/our485/high/580.png  \n",
            "  inflating: lol_dataset/our485/high/219.png  \n",
            "  inflating: lol_dataset/our485/high/557.png  \n",
            "  inflating: lol_dataset/our485/high/231.png  \n",
            "  inflating: lol_dataset/our485/high/225.png  \n",
            "  inflating: lol_dataset/our485/high/543.png  \n",
            "  inflating: lol_dataset/our485/high/782.png  \n",
            "  inflating: lol_dataset/our485/high/769.png  \n",
            "  inflating: lol_dataset/our485/high/741.png  \n",
            "  inflating: lol_dataset/our485/high/46.png  \n",
            "  inflating: lol_dataset/our485/high/52.png  \n",
            "  inflating: lol_dataset/our485/high/184.png  \n",
            "  inflating: lol_dataset/our485/high/91.png  \n",
            "  inflating: lol_dataset/our485/high/609.png  \n",
            "  inflating: lol_dataset/our485/high/147.png  \n",
            "  inflating: lol_dataset/our485/high/621.png  \n",
            "   creating: lol_dataset/our485/low/\n",
            "  inflating: lol_dataset/our485/low/638.png  \n",
            "  inflating: lol_dataset/our485/low/176.png  \n",
            "  inflating: lol_dataset/our485/low/88.png  \n",
            "  inflating: lol_dataset/our485/low/610.png  \n",
            "  inflating: lol_dataset/our485/low/604.png  \n",
            "  inflating: lol_dataset/our485/low/162.png  \n",
            "  inflating: lol_dataset/our485/low/189.png  \n",
            "  inflating: lol_dataset/our485/low/77.png  \n",
            "  inflating: lol_dataset/our485/low/63.png  \n",
            "  inflating: lol_dataset/our485/low/758.png  \n",
            "  inflating: lol_dataset/our485/low/764.png  \n",
            "  inflating: lol_dataset/our485/low/770.png  \n",
            "  inflating: lol_dataset/our485/low/228.png  \n",
            "  inflating: lol_dataset/our485/low/566.png  \n",
            "  inflating: lol_dataset/our485/low/200.png  \n",
            "  inflating: lol_dataset/our485/low/572.png  \n",
            "  inflating: lol_dataset/our485/low/598.png  \n",
            "  inflating: lol_dataset/our485/low/215.png  \n",
            "  inflating: lol_dataset/our485/low/573.png  \n",
            "  inflating: lol_dataset/our485/low/567.png  \n",
            "  inflating: lol_dataset/our485/low/201.png  \n",
            "  inflating: lol_dataset/our485/low/229.png  \n",
            "  inflating: lol_dataset/our485/low/771.png  \n",
            "  inflating: lol_dataset/our485/low/765.png  \n",
            "  inflating: lol_dataset/our485/low/759.png  \n",
            "  inflating: lol_dataset/our485/low/62.png  \n",
            "  inflating: lol_dataset/our485/low/188.png  \n",
            "  inflating: lol_dataset/our485/low/76.png  \n",
            "  inflating: lol_dataset/our485/low/605.png  \n",
            "  inflating: lol_dataset/our485/low/611.png  \n",
            "  inflating: lol_dataset/our485/low/89.png  \n",
            "  inflating: lol_dataset/our485/low/639.png  \n",
            "  inflating: lol_dataset/our485/low/149.png  \n",
            "  inflating: lol_dataset/our485/low/607.png  \n",
            "  inflating: lol_dataset/our485/low/613.png  \n",
            "  inflating: lol_dataset/our485/low/175.png  \n",
            "  inflating: lol_dataset/our485/low/60.png  \n",
            "  inflating: lol_dataset/our485/low/74.png  \n",
            "  inflating: lol_dataset/our485/low/48.png  \n",
            "  inflating: lol_dataset/our485/low/773.png  \n",
            "  inflating: lol_dataset/our485/low/559.png  \n",
            "  inflating: lol_dataset/our485/low/571.png  \n",
            "  inflating: lol_dataset/our485/low/203.png  \n",
            "  inflating: lol_dataset/our485/low/565.png  \n",
            "  inflating: lol_dataset/our485/low/202.png  \n",
            "  inflating: lol_dataset/our485/low/564.png  \n",
            "  inflating: lol_dataset/our485/low/570.png  \n",
            "  inflating: lol_dataset/our485/low/216.png  \n",
            "  inflating: lol_dataset/our485/low/558.png  \n",
            "  inflating: lol_dataset/our485/low/766.png  \n",
            "  inflating: lol_dataset/our485/low/772.png  \n",
            "  inflating: lol_dataset/our485/low/75.png  \n",
            "  inflating: lol_dataset/our485/low/61.png  \n",
            "  inflating: lol_dataset/our485/low/612.png  \n",
            "  inflating: lol_dataset/our485/low/174.png  \n",
            "  inflating: lol_dataset/our485/low/160.png  \n",
            "  inflating: lol_dataset/our485/low/606.png  \n",
            "  inflating: lol_dataset/our485/low/616.png  \n",
            "  inflating: lol_dataset/our485/low/59.png  \n",
            "  inflating: lol_dataset/our485/low/776.png  \n",
            "  inflating: lol_dataset/our485/low/762.png  \n",
            "  inflating: lol_dataset/our485/low/789.png  \n",
            "  inflating: lol_dataset/our485/low/212.png  \n",
            "  inflating: lol_dataset/our485/low/.DS_Store  \n",
            "  inflating: lol_dataset/our485/low/574.png  \n",
            "  inflating: lol_dataset/our485/low/560.png  \n",
            "  inflating: lol_dataset/our485/low/206.png  \n",
            "  inflating: lol_dataset/our485/low/548.png  \n",
            "  inflating: lol_dataset/our485/low/549.png  \n",
            "  inflating: lol_dataset/our485/low/561.png  \n",
            "  inflating: lol_dataset/our485/low/207.png  \n",
            "  inflating: lol_dataset/our485/low/213.png  \n",
            "  inflating: lol_dataset/our485/low/575.png  \n",
            "  inflating: lol_dataset/our485/low/788.png  \n",
            "  inflating: lol_dataset/our485/low/763.png  \n",
            "  inflating: lol_dataset/our485/low/777.png  \n",
            "  inflating: lol_dataset/our485/low/70.png  \n",
            "  inflating: lol_dataset/our485/low/64.png  \n",
            "  inflating: lol_dataset/our485/low/58.png  \n",
            "  inflating: lol_dataset/our485/low/159.png  \n",
            "  inflating: lol_dataset/our485/low/171.png  \n",
            "  inflating: lol_dataset/our485/low/617.png  \n",
            "  inflating: lol_dataset/our485/low/615.png  \n",
            "  inflating: lol_dataset/our485/low/173.png  \n",
            "  inflating: lol_dataset/our485/low/167.png  \n",
            "  inflating: lol_dataset/our485/low/601.png  \n",
            "  inflating: lol_dataset/our485/low/99.png  \n",
            "  inflating: lol_dataset/our485/low/629.png  \n",
            "  inflating: lol_dataset/our485/low/198.png  \n",
            "  inflating: lol_dataset/our485/low/761.png  \n",
            "  inflating: lol_dataset/our485/low/775.png  \n",
            "  inflating: lol_dataset/our485/low/563.png  \n",
            "  inflating: lol_dataset/our485/low/211.png  \n",
            "  inflating: lol_dataset/our485/low/239.png  \n",
            "  inflating: lol_dataset/our485/low/588.png  \n",
            "  inflating: lol_dataset/our485/low/238.png  \n",
            "  inflating: lol_dataset/our485/low/576.png  \n",
            "  inflating: lol_dataset/our485/low/210.png  \n",
            "  inflating: lol_dataset/our485/low/204.png  \n",
            "  inflating: lol_dataset/our485/low/562.png  \n",
            "  inflating: lol_dataset/our485/low/774.png  \n",
            "  inflating: lol_dataset/our485/low/760.png  \n",
            "  inflating: lol_dataset/our485/low/199.png  \n",
            "  inflating: lol_dataset/our485/low/67.png  \n",
            "  inflating: lol_dataset/our485/low/73.png  \n",
            "  inflating: lol_dataset/our485/low/9.png  \n",
            "  inflating: lol_dataset/our485/low/628.png  \n",
            "  inflating: lol_dataset/our485/low/98.png  \n",
            "  inflating: lol_dataset/our485/low/600.png  \n",
            "  inflating: lol_dataset/our485/low/614.png  \n",
            "  inflating: lol_dataset/our485/low/172.png  \n",
            "  inflating: lol_dataset/our485/low/471.png  \n",
            "  inflating: lol_dataset/our485/low/129.png  \n",
            "  inflating: lol_dataset/our485/low/115.png  \n",
            "  inflating: lol_dataset/our485/low/101.png  \n",
            "  inflating: lol_dataset/our485/low/667.png  \n",
            "  inflating: lol_dataset/our485/low/14.png  \n",
            "  inflating: lol_dataset/our485/low/698.png  \n",
            "  inflating: lol_dataset/our485/low/28.png  \n",
            "  inflating: lol_dataset/our485/low/713.png  \n",
            "  inflating: lol_dataset/our485/low/539.png  \n",
            "  inflating: lol_dataset/our485/low/263.png  \n",
            "  inflating: lol_dataset/our485/low/505.png  \n",
            "  inflating: lol_dataset/our485/low/511.png  \n",
            "  inflating: lol_dataset/our485/low/262.png  \n",
            "  inflating: lol_dataset/our485/low/504.png  \n",
            "  inflating: lol_dataset/our485/low/538.png  \n",
            "  inflating: lol_dataset/our485/low/712.png  \n",
            "  inflating: lol_dataset/our485/low/699.png  \n",
            "  inflating: lol_dataset/our485/low/15.png  \n",
            "  inflating: lol_dataset/our485/low/100.png  \n",
            "  inflating: lol_dataset/our485/low/666.png  \n",
            "  inflating: lol_dataset/our485/low/114.png  \n",
            "  inflating: lol_dataset/our485/low/128.png  \n",
            "  inflating: lol_dataset/our485/low/464.png  \n",
            "  inflating: lol_dataset/our485/low/470.png  \n",
            "  inflating: lol_dataset/our485/low/328.png  \n",
            "  inflating: lol_dataset/our485/low/472.png  \n",
            "  inflating: lol_dataset/our485/low/499.png  \n",
            "  inflating: lol_dataset/our485/low/658.png  \n",
            "  inflating: lol_dataset/our485/low/664.png  \n",
            "  inflating: lol_dataset/our485/low/102.png  \n",
            "  inflating: lol_dataset/our485/low/116.png  \n",
            "  inflating: lol_dataset/our485/low/670.png  \n",
            "  inflating: lol_dataset/our485/low/17.png  \n",
            "  inflating: lol_dataset/our485/low/738.png  \n",
            "  inflating: lol_dataset/our485/low/710.png  \n",
            "  inflating: lol_dataset/our485/low/704.png  \n",
            "  inflating: lol_dataset/our485/low/248.png  \n",
            "  inflating: lol_dataset/our485/low/512.png  \n",
            "  inflating: lol_dataset/our485/low/506.png  \n",
            "  inflating: lol_dataset/our485/low/260.png  \n",
            "  inflating: lol_dataset/our485/low/507.png  \n",
            "  inflating: lol_dataset/our485/low/261.png  \n",
            "  inflating: lol_dataset/our485/low/249.png  \n",
            "  inflating: lol_dataset/our485/low/711.png  \n",
            "  inflating: lol_dataset/our485/low/739.png  \n",
            "  inflating: lol_dataset/our485/low/16.png  \n",
            "  inflating: lol_dataset/our485/low/117.png  \n",
            "  inflating: lol_dataset/our485/low/671.png  \n",
            "  inflating: lol_dataset/our485/low/103.png  \n",
            "  inflating: lol_dataset/our485/low/659.png  \n",
            "  inflating: lol_dataset/our485/low/498.png  \n",
            "  inflating: lol_dataset/our485/low/473.png  \n",
            "  inflating: lol_dataset/our485/low/477.png  \n",
            "  inflating: lol_dataset/our485/low/488.png  \n",
            "  inflating: lol_dataset/our485/low/107.png  \n",
            "  inflating: lol_dataset/our485/low/661.png  \n",
            "  inflating: lol_dataset/our485/low/675.png  \n",
            "  inflating: lol_dataset/our485/low/113.png  \n",
            "  inflating: lol_dataset/our485/low/649.png  \n",
            "  inflating: lol_dataset/our485/low/12.png  \n",
            "  inflating: lol_dataset/our485/low/715.png  \n",
            "  inflating: lol_dataset/our485/low/701.png  \n",
            "  inflating: lol_dataset/our485/low/729.png  \n",
            "  inflating: lol_dataset/our485/low/517.png  \n",
            "  inflating: lol_dataset/our485/low/265.png  \n",
            "  inflating: lol_dataset/our485/low/259.png  \n",
            "  inflating: lol_dataset/our485/low/258.png  \n",
            "  inflating: lol_dataset/our485/low/264.png  \n",
            "  inflating: lol_dataset/our485/low/502.png  \n",
            "  inflating: lol_dataset/our485/low/728.png  \n",
            "  inflating: lol_dataset/our485/low/700.png  \n",
            "  inflating: lol_dataset/our485/low/714.png  \n",
            "  inflating: lol_dataset/our485/low/13.png  \n",
            "  inflating: lol_dataset/our485/low/648.png  \n",
            "  inflating: lol_dataset/our485/low/674.png  \n",
            "  inflating: lol_dataset/our485/low/112.png  \n",
            "  inflating: lol_dataset/our485/low/106.png  \n",
            "  inflating: lol_dataset/our485/low/660.png  \n",
            "  inflating: lol_dataset/our485/low/489.png  \n",
            "  inflating: lol_dataset/our485/low/476.png  \n",
            "  inflating: lol_dataset/our485/low/474.png  \n",
            "  inflating: lol_dataset/our485/low/460.png  \n",
            "  inflating: lol_dataset/our485/low/110.png  \n",
            "  inflating: lol_dataset/our485/low/676.png  \n",
            "  inflating: lol_dataset/our485/low/662.png  \n",
            "  inflating: lol_dataset/our485/low/104.png  \n",
            "  inflating: lol_dataset/our485/low/138.png  \n",
            "  inflating: lol_dataset/our485/low/39.png  \n",
            "  inflating: lol_dataset/our485/low/689.png  \n",
            "  inflating: lol_dataset/our485/low/702.png  \n",
            "  inflating: lol_dataset/our485/low/716.png  \n",
            "  inflating: lol_dataset/our485/low/500.png  \n",
            "  inflating: lol_dataset/our485/low/514.png  \n",
            "  inflating: lol_dataset/our485/low/528.png  \n",
            "  inflating: lol_dataset/our485/low/529.png  \n",
            "  inflating: lol_dataset/our485/low/515.png  \n",
            "  inflating: lol_dataset/our485/low/501.png  \n",
            "  inflating: lol_dataset/our485/low/267.png  \n",
            "  inflating: lol_dataset/our485/low/717.png  \n",
            "  inflating: lol_dataset/our485/low/703.png  \n",
            "  inflating: lol_dataset/our485/low/10.png  \n",
            "  inflating: lol_dataset/our485/low/688.png  \n",
            "  inflating: lol_dataset/our485/low/38.png  \n",
            "  inflating: lol_dataset/our485/low/139.png  \n",
            "  inflating: lol_dataset/our485/low/663.png  \n",
            "  inflating: lol_dataset/our485/low/105.png  \n",
            "  inflating: lol_dataset/our485/low/677.png  \n",
            "  inflating: lol_dataset/our485/low/475.png  \n",
            "  inflating: lol_dataset/our485/low/478.png  \n",
            "  inflating: lol_dataset/our485/low/450.png  \n",
            "  inflating: lol_dataset/our485/low/487.png  \n",
            "  inflating: lol_dataset/our485/low/120.png  \n",
            "  inflating: lol_dataset/our485/low/646.png  \n",
            "  inflating: lol_dataset/our485/low/35.png  \n",
            "  inflating: lol_dataset/our485/low/21.png  \n",
            "  inflating: lol_dataset/our485/low/691.png  \n",
            "  inflating: lol_dataset/our485/low/685.png  \n",
            "  inflating: lol_dataset/our485/low/726.png  \n",
            "  inflating: lol_dataset/our485/low/732.png  \n",
            "  inflating: lol_dataset/our485/low/242.png  \n",
            "  inflating: lol_dataset/our485/low/524.png  \n",
            "  inflating: lol_dataset/our485/low/530.png  \n",
            "  inflating: lol_dataset/our485/low/531.png  \n",
            "  inflating: lol_dataset/our485/low/257.png  \n",
            "  inflating: lol_dataset/our485/low/243.png  \n",
            "  inflating: lol_dataset/our485/low/525.png  \n",
            "  inflating: lol_dataset/our485/low/733.png  \n",
            "  inflating: lol_dataset/our485/low/727.png  \n",
            "  inflating: lol_dataset/our485/low/684.png  \n",
            "  inflating: lol_dataset/our485/low/690.png  \n",
            "  inflating: lol_dataset/our485/low/121.png  \n",
            "  inflating: lol_dataset/our485/low/647.png  \n",
            "  inflating: lol_dataset/our485/low/653.png  \n",
            "  inflating: lol_dataset/our485/low/135.png  \n",
            "  inflating: lol_dataset/our485/low/109.png  \n",
            "  inflating: lol_dataset/our485/low/486.png  \n",
            "  inflating: lol_dataset/our485/low/492.png  \n",
            "  inflating: lol_dataset/our485/low/479.png  \n",
            "  inflating: lol_dataset/our485/low/484.png  \n",
            "  inflating: lol_dataset/our485/low/490.png  \n",
            "  inflating: lol_dataset/our485/low/679.png  \n",
            "  inflating: lol_dataset/our485/low/645.png  \n",
            "  inflating: lol_dataset/our485/low/123.png  \n",
            "  inflating: lol_dataset/our485/low/137.png  \n",
            "  inflating: lol_dataset/our485/low/651.png  \n",
            "  inflating: lol_dataset/our485/low/36.png  \n",
            "  inflating: lol_dataset/our485/low/686.png  \n",
            "  inflating: lol_dataset/our485/low/692.png  \n",
            "  inflating: lol_dataset/our485/low/719.png  \n",
            "  inflating: lol_dataset/our485/low/731.png  \n",
            "  inflating: lol_dataset/our485/low/725.png  \n",
            "  inflating: lol_dataset/our485/low/533.png  \n",
            "  inflating: lol_dataset/our485/low/527.png  \n",
            "  inflating: lol_dataset/our485/low/241.png  \n",
            "  inflating: lol_dataset/our485/low/526.png  \n",
            "  inflating: lol_dataset/our485/low/240.png  \n",
            "  inflating: lol_dataset/our485/low/254.png  \n",
            "  inflating: lol_dataset/our485/low/532.png  \n",
            "  inflating: lol_dataset/our485/low/724.png  \n",
            "  inflating: lol_dataset/our485/low/730.png  \n",
            "  inflating: lol_dataset/our485/low/718.png  \n",
            "  inflating: lol_dataset/our485/low/693.png  \n",
            "  inflating: lol_dataset/our485/low/687.png  \n",
            "  inflating: lol_dataset/our485/low/136.png  \n",
            "  inflating: lol_dataset/our485/low/650.png  \n",
            "  inflating: lol_dataset/our485/low/644.png  \n",
            "  inflating: lol_dataset/our485/low/122.png  \n",
            "  inflating: lol_dataset/our485/low/678.png  \n",
            "  inflating: lol_dataset/our485/low/491.png  \n",
            "  inflating: lol_dataset/our485/low/485.png  \n",
            "  inflating: lol_dataset/our485/low/330.png  \n",
            "  inflating: lol_dataset/our485/low/481.png  \n",
            "  inflating: lol_dataset/our485/low/495.png  \n",
            "  inflating: lol_dataset/our485/low/126.png  \n",
            "  inflating: lol_dataset/our485/low/640.png  \n",
            "  inflating: lol_dataset/our485/low/654.png  \n",
            "  inflating: lol_dataset/our485/low/132.png  \n",
            "  inflating: lol_dataset/our485/low/668.png  \n",
            "  inflating: lol_dataset/our485/low/683.png  \n",
            "  inflating: lol_dataset/our485/low/697.png  \n",
            "  inflating: lol_dataset/our485/low/27.png  \n",
            "  inflating: lol_dataset/our485/low/33.png  \n",
            "  inflating: lol_dataset/our485/low/734.png  \n",
            "  inflating: lol_dataset/our485/low/720.png  \n",
            "  inflating: lol_dataset/our485/low/708.png  \n",
            "  inflating: lol_dataset/our485/low/250.png  \n",
            "  inflating: lol_dataset/our485/low/244.png  \n",
            "  inflating: lol_dataset/our485/low/522.png  \n",
            "  inflating: lol_dataset/our485/low/523.png  \n",
            "  inflating: lol_dataset/our485/low/537.png  \n",
            "  inflating: lol_dataset/our485/low/251.png  \n",
            "  inflating: lol_dataset/our485/low/709.png  \n",
            "  inflating: lol_dataset/our485/low/721.png  \n",
            "  inflating: lol_dataset/our485/low/735.png  \n",
            "  inflating: lol_dataset/our485/low/26.png  \n",
            "  inflating: lol_dataset/our485/low/696.png  \n",
            "  inflating: lol_dataset/our485/low/682.png  \n",
            "  inflating: lol_dataset/our485/low/655.png  \n",
            "  inflating: lol_dataset/our485/low/127.png  \n",
            "  inflating: lol_dataset/our485/low/641.png  \n",
            "  inflating: lol_dataset/our485/low/494.png  \n",
            "  inflating: lol_dataset/our485/low/480.png  \n",
            "  inflating: lol_dataset/our485/low/469.png  \n",
            "  inflating: lol_dataset/our485/low/496.png  \n",
            "  inflating: lol_dataset/our485/low/482.png  \n",
            "  inflating: lol_dataset/our485/low/131.png  \n",
            "  inflating: lol_dataset/our485/low/643.png  \n",
            "  inflating: lol_dataset/our485/low/125.png  \n",
            "  inflating: lol_dataset/our485/low/119.png  \n",
            "  inflating: lol_dataset/our485/low/694.png  \n",
            "  inflating: lol_dataset/our485/low/680.png  \n",
            "  inflating: lol_dataset/our485/low/18.png  \n",
            "  inflating: lol_dataset/our485/low/24.png  \n",
            "  inflating: lol_dataset/our485/low/723.png  \n",
            "  inflating: lol_dataset/our485/low/737.png  \n",
            "  inflating: lol_dataset/our485/low/247.png  \n",
            "  inflating: lol_dataset/our485/low/253.png  \n",
            "  inflating: lol_dataset/our485/low/535.png  \n",
            "  inflating: lol_dataset/our485/low/508.png  \n",
            "  inflating: lol_dataset/our485/low/252.png  \n",
            "  inflating: lol_dataset/our485/low/534.png  \n",
            "  inflating: lol_dataset/our485/low/246.png  \n",
            "  inflating: lol_dataset/our485/low/736.png  \n",
            "  inflating: lol_dataset/our485/low/722.png  \n",
            "  inflating: lol_dataset/our485/low/25.png  \n",
            "  inflating: lol_dataset/our485/low/681.png  \n",
            "  inflating: lol_dataset/our485/low/695.png  \n",
            "  inflating: lol_dataset/our485/low/118.png  \n",
            "  inflating: lol_dataset/our485/low/642.png  \n",
            "  inflating: lol_dataset/our485/low/124.png  \n",
            "  inflating: lol_dataset/our485/low/130.png  \n",
            "  inflating: lol_dataset/our485/low/483.png  \n",
            "  inflating: lol_dataset/our485/low/497.png  \n",
            "  inflating: lol_dataset/our485/low/468.png  \n",
            "  inflating: lol_dataset/our485/low/95.png  \n",
            "  inflating: lol_dataset/our485/low/81.png  \n",
            "  inflating: lol_dataset/our485/low/157.png  \n",
            "  inflating: lol_dataset/our485/low/625.png  \n",
            "  inflating: lol_dataset/our485/low/143.png  \n",
            "  inflating: lol_dataset/our485/low/56.png  \n",
            "  inflating: lol_dataset/our485/low/42.png  \n",
            "  inflating: lol_dataset/our485/low/194.png  \n",
            "  inflating: lol_dataset/our485/low/180.png  \n",
            "  inflating: lol_dataset/our485/low/779.png  \n",
            "  inflating: lol_dataset/our485/low/745.png  \n",
            "  inflating: lol_dataset/our485/low/751.png  \n",
            "  inflating: lol_dataset/our485/low/786.png  \n",
            "  inflating: lol_dataset/our485/low/209.png  \n",
            "  inflating: lol_dataset/our485/low/221.png  \n",
            "  inflating: lol_dataset/our485/low/235.png  \n",
            "  inflating: lol_dataset/our485/low/553.png  \n",
            "  inflating: lol_dataset/our485/low/590.png  \n",
            "  inflating: lol_dataset/our485/low/591.png  \n",
            "  inflating: lol_dataset/our485/low/585.png  \n",
            "  inflating: lol_dataset/our485/low/552.png  \n",
            "  inflating: lol_dataset/our485/low/546.png  \n",
            "  inflating: lol_dataset/our485/low/220.png  \n",
            "  inflating: lol_dataset/our485/low/787.png  \n",
            "  inflating: lol_dataset/our485/low/750.png  \n",
            "  inflating: lol_dataset/our485/low/744.png  \n",
            "  inflating: lol_dataset/our485/low/195.png  \n",
            "  inflating: lol_dataset/our485/low/43.png  \n",
            "  inflating: lol_dataset/our485/low/5.png  \n",
            "  inflating: lol_dataset/our485/low/57.png  \n",
            "  inflating: lol_dataset/our485/low/624.png  \n",
            "  inflating: lol_dataset/our485/low/142.png  \n",
            "  inflating: lol_dataset/our485/low/630.png  \n",
            "  inflating: lol_dataset/our485/low/80.png  \n",
            "  inflating: lol_dataset/our485/low/94.png  \n",
            "  inflating: lol_dataset/our485/low/342.png  \n",
            "  inflating: lol_dataset/our485/low/82.png  \n",
            "  inflating: lol_dataset/our485/low/96.png  \n",
            "  inflating: lol_dataset/our485/low/140.png  \n",
            "  inflating: lol_dataset/our485/low/626.png  \n",
            "  inflating: lol_dataset/our485/low/154.png  \n",
            "  inflating: lol_dataset/our485/low/183.png  \n",
            "  inflating: lol_dataset/our485/low/69.png  \n",
            "  inflating: lol_dataset/our485/low/752.png  \n",
            "  inflating: lol_dataset/our485/low/746.png  \n",
            "  inflating: lol_dataset/our485/low/785.png  \n",
            "  inflating: lol_dataset/our485/low/578.png  \n",
            "  inflating: lol_dataset/our485/low/550.png  \n",
            "  inflating: lol_dataset/our485/low/236.png  \n",
            "  inflating: lol_dataset/our485/low/222.png  \n",
            "  inflating: lol_dataset/our485/low/544.png  \n",
            "  inflating: lol_dataset/our485/low/593.png  \n",
            "  inflating: lol_dataset/our485/low/587.png  \n",
            "  inflating: lol_dataset/our485/low/586.png  \n",
            "  inflating: lol_dataset/our485/low/592.png  \n",
            "  inflating: lol_dataset/our485/low/545.png  \n",
            "  inflating: lol_dataset/our485/low/551.png  \n",
            "  inflating: lol_dataset/our485/low/237.png  \n",
            "  inflating: lol_dataset/our485/low/579.png  \n",
            "  inflating: lol_dataset/our485/low/784.png  \n",
            "  inflating: lol_dataset/our485/low/747.png  \n",
            "  inflating: lol_dataset/our485/low/68.png  \n",
            "  inflating: lol_dataset/our485/low/196.png  \n",
            "  inflating: lol_dataset/our485/low/54.png  \n",
            "  inflating: lol_dataset/our485/low/6.png  \n",
            "  inflating: lol_dataset/our485/low/40.png  \n",
            "  inflating: lol_dataset/our485/low/633.png  \n",
            "  inflating: lol_dataset/our485/low/141.png  \n",
            "  inflating: lol_dataset/our485/low/627.png  \n",
            "  inflating: lol_dataset/our485/low/97.png  \n",
            "  inflating: lol_dataset/our485/low/169.png  \n",
            "  inflating: lol_dataset/our485/low/83.png  \n",
            "  inflating: lol_dataset/our485/low/623.png  \n",
            "  inflating: lol_dataset/our485/low/145.png  \n",
            "  inflating: lol_dataset/our485/low/151.png  \n",
            "  inflating: lol_dataset/our485/low/637.png  \n",
            "  inflating: lol_dataset/our485/low/87.png  \n",
            "  inflating: lol_dataset/our485/low/93.png  \n",
            "  inflating: lol_dataset/our485/low/78.png  \n",
            "  inflating: lol_dataset/our485/low/186.png  \n",
            "  inflating: lol_dataset/our485/low/44.png  \n",
            "  inflating: lol_dataset/our485/low/2.png  \n",
            "  inflating: lol_dataset/our485/low/50.png  \n",
            "  inflating: lol_dataset/our485/low/757.png  \n",
            "  inflating: lol_dataset/our485/low/743.png  \n",
            "  inflating: lol_dataset/our485/low/233.png  \n",
            "  inflating: lol_dataset/our485/low/555.png  \n",
            "  inflating: lol_dataset/our485/low/541.png  \n",
            "  inflating: lol_dataset/our485/low/227.png  \n",
            "  inflating: lol_dataset/our485/low/569.png  \n",
            "  inflating: lol_dataset/our485/low/596.png  \n",
            "  inflating: lol_dataset/our485/low/583.png  \n",
            "  inflating: lol_dataset/our485/low/597.png  \n",
            "  inflating: lol_dataset/our485/low/568.png  \n",
            "  inflating: lol_dataset/our485/low/540.png  \n",
            "  inflating: lol_dataset/our485/low/232.png  \n",
            "  inflating: lol_dataset/our485/low/554.png  \n",
            "  inflating: lol_dataset/our485/low/781.png  \n",
            "  inflating: lol_dataset/our485/low/51.png  \n",
            "  inflating: lol_dataset/our485/low/45.png  \n",
            "  inflating: lol_dataset/our485/low/193.png  \n",
            "  inflating: lol_dataset/our485/low/187.png  \n",
            "  inflating: lol_dataset/our485/low/92.png  \n",
            "  inflating: lol_dataset/our485/low/86.png  \n",
            "  inflating: lol_dataset/our485/low/150.png  \n",
            "  inflating: lol_dataset/our485/low/622.png  \n",
            "  inflating: lol_dataset/our485/low/144.png  \n",
            "  inflating: lol_dataset/our485/low/344.png  \n",
            "  inflating: lol_dataset/our485/low/634.png  \n",
            "  inflating: lol_dataset/our485/low/152.png  \n",
            "  inflating: lol_dataset/our485/low/620.png  \n",
            "  inflating: lol_dataset/our485/low/608.png  \n",
            "  inflating: lol_dataset/our485/low/84.png  \n",
            "  inflating: lol_dataset/our485/low/191.png  \n",
            "  inflating: lol_dataset/our485/low/185.png  \n",
            "  inflating: lol_dataset/our485/low/53.png  \n",
            "  inflating: lol_dataset/our485/low/47.png  \n",
            "  inflating: lol_dataset/our485/low/740.png  \n",
            "  inflating: lol_dataset/our485/low/783.png  \n",
            "  inflating: lol_dataset/our485/low/542.png  \n",
            "  inflating: lol_dataset/our485/low/556.png  \n",
            "  inflating: lol_dataset/our485/low/230.png  \n",
            "  inflating: lol_dataset/our485/low/595.png  \n",
            "  inflating: lol_dataset/our485/low/594.png  \n",
            "  inflating: lol_dataset/our485/low/580.png  \n",
            "  inflating: lol_dataset/our485/low/219.png  \n",
            "  inflating: lol_dataset/our485/low/557.png  \n",
            "  inflating: lol_dataset/our485/low/231.png  \n",
            "  inflating: lol_dataset/our485/low/225.png  \n",
            "  inflating: lol_dataset/our485/low/543.png  \n",
            "  inflating: lol_dataset/our485/low/782.png  \n",
            "  inflating: lol_dataset/our485/low/769.png  \n",
            "  inflating: lol_dataset/our485/low/741.png  \n",
            "  inflating: lol_dataset/our485/low/46.png  \n",
            "  inflating: lol_dataset/our485/low/52.png  \n",
            "  inflating: lol_dataset/our485/low/184.png  \n",
            "  inflating: lol_dataset/our485/low/91.png  \n",
            "  inflating: lol_dataset/our485/low/609.png  \n",
            "  inflating: lol_dataset/our485/low/147.png  \n",
            "  inflating: lol_dataset/our485/low/621.png  \n"
          ]
        }
      ],
      "source": [
        "# download LoL dataset\n",
        "\n",
        "run = wandb.init()\n",
        "artifact = run.use_artifact('ivangoncharov/Low Light Enhancement with Zero-DCE/Lol_Dataset:v0', type='dataset')\n",
        "artifact_dir = artifact.download()\n",
        "artifact_path = os.path.join(artifact_dir, \"lol_dataset.zip\")\n",
        "!unzip -o $artifact_path"
      ]
    },
    {
      "cell_type": "code",
      "execution_count": null,
      "metadata": {
        "id": "Z0Cf4CUwYJPk"
      },
      "outputs": [],
      "source": [
        "IMAGE_SIZE = 256\n",
        "BATCH_SIZE = 4\n",
        "MAX_TRAIN_IMAGES = 400\n",
        "\n",
        "def load_data(image_path):\n",
        "    image = tf.io.read_file(image_path)\n",
        "    image = tf.image.decode_png(image, channels=3)\n",
        "    image = tf.image.resize(images=image, size=[IMAGE_SIZE, IMAGE_SIZE])\n",
        "    image = image / 255.0\n",
        "    return image\n",
        "\n",
        "def data_generator(low_light_images):\n",
        "    dataset = tf.data.Dataset.from_tensor_slices((low_light_images))\n",
        "    dataset = dataset.map(load_data, num_parallel_calls=tf.data.AUTOTUNE)\n",
        "    dataset = dataset.batch(BATCH_SIZE, drop_remainder=True)\n",
        "    return dataset\n",
        "\n",
        "train_low_light_images = sorted(glob(\"./lol_dataset/our485/low/*\"))[:MAX_TRAIN_IMAGES]\n",
        "val_low_light_images = sorted(glob(\"./lol_dataset/our485/low/*\"))[MAX_TRAIN_IMAGES:]\n",
        "test_low_light_images = sorted(glob(\"./lol_dataset/eval15/low/*\"))\n",
        "\n",
        "train_dataset = data_generator(train_low_light_images)\n",
        "val_dataset = data_generator(val_low_light_images)"
      ]
    },
    {
      "cell_type": "code",
      "execution_count": null,
      "metadata": {
        "id": "RqJA37PEYUcU",
        "colab": {
          "base_uri": "https://localhost:8080/",
          "height": 263
        },
        "outputId": "8c4e1a62-3902-4d1f-c925-6f938775801c"
      },
      "outputs": [
        {
          "output_type": "display_data",
          "data": {
            "text/plain": [
              "<IPython.core.display.HTML object>"
            ],
            "text/html": [
              "Finishing previous runs because reinit is set to 'default'."
            ]
          },
          "metadata": {}
        },
        {
          "output_type": "display_data",
          "data": {
            "text/plain": [
              "<IPython.core.display.HTML object>"
            ],
            "text/html": []
          },
          "metadata": {}
        },
        {
          "output_type": "display_data",
          "data": {
            "text/plain": [
              "<IPython.core.display.HTML object>"
            ],
            "text/html": [
              " View run <strong style=\"color:#cdcd00\">ethereal-lion-10</strong> at: <a href='https://wandb.ai/ryunuriadi-bina-nusantara/uncategorized/runs/6xoi80st' target=\"_blank\">https://wandb.ai/ryunuriadi-bina-nusantara/uncategorized/runs/6xoi80st</a><br> View project at: <a href='https://wandb.ai/ryunuriadi-bina-nusantara/uncategorized' target=\"_blank\">https://wandb.ai/ryunuriadi-bina-nusantara/uncategorized</a><br>Synced 5 W&B file(s), 0 media file(s), 0 artifact file(s) and 0 other file(s)"
            ]
          },
          "metadata": {}
        },
        {
          "output_type": "display_data",
          "data": {
            "text/plain": [
              "<IPython.core.display.HTML object>"
            ],
            "text/html": [
              "Find logs at: <code>./wandb/run-20250605_090352-6xoi80st/logs</code>"
            ]
          },
          "metadata": {}
        },
        {
          "output_type": "display_data",
          "data": {
            "text/plain": [
              "<IPython.core.display.HTML object>"
            ],
            "text/html": [
              "Tracking run with wandb version 0.20.1"
            ]
          },
          "metadata": {}
        },
        {
          "output_type": "display_data",
          "data": {
            "text/plain": [
              "<IPython.core.display.HTML object>"
            ],
            "text/html": [
              "Run data is saved locally in <code>/content/wandb/run-20250605_090405-mn7iemay</code>"
            ]
          },
          "metadata": {}
        },
        {
          "output_type": "display_data",
          "data": {
            "text/plain": [
              "<IPython.core.display.HTML object>"
            ],
            "text/html": [
              "Syncing run <strong><a href='https://wandb.ai/ryunuriadi-bina-nusantara/low_light_zero_DCE/runs/mn7iemay' target=\"_blank\">worthy-lake-23</a></strong> to <a href='https://wandb.ai/ryunuriadi-bina-nusantara/low_light_zero_DCE' target=\"_blank\">Weights & Biases</a> (<a href='https://wandb.me/developer-guide' target=\"_blank\">docs</a>)<br>"
            ]
          },
          "metadata": {}
        },
        {
          "output_type": "display_data",
          "data": {
            "text/plain": [
              "<IPython.core.display.HTML object>"
            ],
            "text/html": [
              " View project at <a href='https://wandb.ai/ryunuriadi-bina-nusantara/low_light_zero_DCE' target=\"_blank\">https://wandb.ai/ryunuriadi-bina-nusantara/low_light_zero_DCE</a>"
            ]
          },
          "metadata": {}
        },
        {
          "output_type": "display_data",
          "data": {
            "text/plain": [
              "<IPython.core.display.HTML object>"
            ],
            "text/html": [
              " View run at <a href='https://wandb.ai/ryunuriadi-bina-nusantara/low_light_zero_DCE/runs/mn7iemay' target=\"_blank\">https://wandb.ai/ryunuriadi-bina-nusantara/low_light_zero_DCE/runs/mn7iemay</a>"
            ]
          },
          "metadata": {}
        },
        {
          "output_type": "display_data",
          "data": {
            "text/plain": [
              "<IPython.core.display.HTML object>"
            ],
            "text/html": []
          },
          "metadata": {}
        },
        {
          "output_type": "display_data",
          "data": {
            "text/plain": [
              "<IPython.core.display.HTML object>"
            ],
            "text/html": [
              " View run <strong style=\"color:#cdcd00\">worthy-lake-23</strong> at: <a href='https://wandb.ai/ryunuriadi-bina-nusantara/low_light_zero_DCE/runs/mn7iemay' target=\"_blank\">https://wandb.ai/ryunuriadi-bina-nusantara/low_light_zero_DCE/runs/mn7iemay</a><br> View project at: <a href='https://wandb.ai/ryunuriadi-bina-nusantara/low_light_zero_DCE' target=\"_blank\">https://wandb.ai/ryunuriadi-bina-nusantara/low_light_zero_DCE</a><br>Synced 5 W&B file(s), 1 media file(s), 202 artifact file(s) and 0 other file(s)"
            ]
          },
          "metadata": {}
        },
        {
          "output_type": "display_data",
          "data": {
            "text/plain": [
              "<IPython.core.display.HTML object>"
            ],
            "text/html": [
              "Find logs at: <code>./wandb/run-20250605_090405-mn7iemay/logs</code>"
            ]
          },
          "metadata": {}
        }
      ],
      "source": [
        "# get 100 train images\n",
        "\n",
        "wandb.init(project=\"low_light_zero_DCE\")\n",
        "\n",
        "table = wandb.Table(columns=[\"Low light\", \"High light\"])\n",
        "\n",
        "for img_path in train_low_light_images[:100]:\n",
        "  lowlight_image = Image.open(img_path)\n",
        "  highlight_image = Image.open(img_path.replace(\"low\", \"high\"))\n",
        "  table.add_data(\n",
        "        wandb.Image(np.array(lowlight_image)),\n",
        "        wandb.Image(np.array(highlight_image)),\n",
        "    )\n",
        "\n",
        "wandb.log({\"Dataset table\": table})\n",
        "\n",
        "wandb.finish()"
      ]
    },
    {
      "cell_type": "code",
      "execution_count": null,
      "metadata": {
        "id": "MRisR7nBY6EF"
      },
      "outputs": [],
      "source": [
        "def build_dce_net():\n",
        "    input_img = keras.Input(shape=[None, None, 3])\n",
        "    conv1 = layers.Conv2D(\n",
        "        32, (3, 3), strides=(1, 1), activation=\"relu\", padding=\"same\"\n",
        "    )(input_img)\n",
        "    conv2 = layers.Conv2D(\n",
        "        32, (3, 3), strides=(1, 1), activation=\"relu\", padding=\"same\"\n",
        "    )(conv1)\n",
        "    conv3 = layers.Conv2D(\n",
        "        32, (3, 3), strides=(1, 1), activation=\"relu\", padding=\"same\"\n",
        "    )(conv2)\n",
        "    conv4 = layers.Conv2D(\n",
        "        32, (3, 3), strides=(1, 1), activation=\"relu\", padding=\"same\"\n",
        "    )(conv3)\n",
        "    int_con1 = layers.Concatenate(axis=-1)([conv4, conv3])\n",
        "    conv5 = layers.Conv2D(\n",
        "        32, (3, 3), strides=(1, 1), activation=\"relu\", padding=\"same\"\n",
        "    )(int_con1)\n",
        "    int_con2 = layers.Concatenate(axis=-1)([conv5, conv2])\n",
        "    conv6 = layers.Conv2D(\n",
        "        32, (3, 3), strides=(1, 1), activation=\"relu\", padding=\"same\"\n",
        "    )(int_con2)\n",
        "    int_con3 = layers.Concatenate(axis=-1)([conv6, conv1])\n",
        "    x_r = layers.Conv2D(24, (3, 3), strides=(1, 1), activation=\"tanh\", padding=\"same\")(\n",
        "        int_con3\n",
        "    )\n",
        "    return keras.Model(inputs=input_img, outputs=x_r)"
      ]
    },
    {
      "cell_type": "code",
      "execution_count": null,
      "metadata": {
        "id": "HhbeCJnwZUZt"
      },
      "outputs": [],
      "source": [
        "def color_constancy_loss(x):\n",
        "    mean_rgb = tf.reduce_mean(x, axis=(1, 2), keepdims=True)\n",
        "    mr, mg, mb = mean_rgb[:, :, :, 0], mean_rgb[:, :, :, 1], mean_rgb[:, :, :, 2]\n",
        "    d_rg = tf.square(mr - mg)\n",
        "    d_rb = tf.square(mr - mb)\n",
        "    d_gb = tf.square(mb - mg)\n",
        "    return tf.sqrt(tf.square(d_rg) + tf.square(d_rb) + tf.square(d_gb))\n",
        "\n",
        "def exposure_loss(x, mean_val=0.6):\n",
        "    x = tf.reduce_mean(x, axis=3, keepdims=True)\n",
        "    mean = tf.nn.avg_pool2d(x, ksize=16, strides=16, padding=\"VALID\")\n",
        "    return tf.reduce_mean(tf.square(mean - mean_val))\n",
        "\n",
        "def illumination_smoothness_loss(x):\n",
        "    batch_size = tf.shape(x)[0]\n",
        "    h_x = tf.shape(x)[1]\n",
        "    w_x = tf.shape(x)[2]\n",
        "    count_h = (tf.shape(x)[2] - 1) * tf.shape(x)[3]\n",
        "    count_w = tf.shape(x)[2] * (tf.shape(x)[3] - 1)\n",
        "    h_tv = tf.reduce_sum(tf.square((x[:, 1:, :, :] - x[:, : h_x - 1, :, :])))\n",
        "    w_tv = tf.reduce_sum(tf.square((x[:, :, 1:, :] - x[:, :, : w_x - 1, :])))\n",
        "    batch_size = tf.cast(batch_size, dtype=tf.float32)\n",
        "    count_h = tf.cast(count_h, dtype=tf.float32)\n",
        "    count_w = tf.cast(count_w, dtype=tf.float32)\n",
        "    return 2 * (h_tv / count_h + w_tv / count_w) / batch_size\n",
        "\n",
        "class SpatialConsistencyLoss(keras.losses.Loss):\n",
        "    def __init__(self, **kwargs):\n",
        "        super(SpatialConsistencyLoss, self).__init__(reduction=\"none\")\n",
        "\n",
        "        self.left_kernel = tf.constant(\n",
        "            [[[[0, 0, 0]], [[-1, 1, 0]], [[0, 0, 0]]]], dtype=tf.float32\n",
        "        )\n",
        "        self.right_kernel = tf.constant(\n",
        "            [[[[0, 0, 0]], [[0, 1, -1]], [[0, 0, 0]]]], dtype=tf.float32\n",
        "        )\n",
        "        self.up_kernel = tf.constant(\n",
        "            [[[[0, -1, 0]], [[0, 1, 0]], [[0, 0, 0]]]], dtype=tf.float32\n",
        "        )\n",
        "        self.down_kernel = tf.constant(\n",
        "            [[[[0, 0, 0]], [[0, 1, 0]], [[0, -1, 0]]]], dtype=tf.float32\n",
        "        )\n",
        "\n",
        "    def call(self, y_true, y_pred):\n",
        "\n",
        "        original_mean = tf.reduce_mean(y_true, 3, keepdims=True)\n",
        "        enhanced_mean = tf.reduce_mean(y_pred, 3, keepdims=True)\n",
        "        original_pool = tf.nn.avg_pool2d(\n",
        "            original_mean, ksize=4, strides=4, padding=\"VALID\"\n",
        "        )\n",
        "        enhanced_pool = tf.nn.avg_pool2d(\n",
        "            enhanced_mean, ksize=4, strides=4, padding=\"VALID\"\n",
        "        )\n",
        "\n",
        "        d_original_left = tf.nn.conv2d(\n",
        "            original_pool, self.left_kernel, strides=[1, 1, 1, 1], padding=\"SAME\"\n",
        "        )\n",
        "        d_original_right = tf.nn.conv2d(\n",
        "            original_pool, self.right_kernel, strides=[1, 1, 1, 1], padding=\"SAME\"\n",
        "        )\n",
        "        d_original_up = tf.nn.conv2d(\n",
        "            original_pool, self.up_kernel, strides=[1, 1, 1, 1], padding=\"SAME\"\n",
        "        )\n",
        "        d_original_down = tf.nn.conv2d(\n",
        "            original_pool, self.down_kernel, strides=[1, 1, 1, 1], padding=\"SAME\"\n",
        "        )\n",
        "\n",
        "        d_enhanced_left = tf.nn.conv2d(\n",
        "            enhanced_pool, self.left_kernel, strides=[1, 1, 1, 1], padding=\"SAME\"\n",
        "        )\n",
        "        d_enhanced_right = tf.nn.conv2d(\n",
        "            enhanced_pool, self.right_kernel, strides=[1, 1, 1, 1], padding=\"SAME\"\n",
        "        )\n",
        "        d_enhanced_up = tf.nn.conv2d(\n",
        "            enhanced_pool, self.up_kernel, strides=[1, 1, 1, 1], padding=\"SAME\"\n",
        "        )\n",
        "        d_enhanced_down = tf.nn.conv2d(\n",
        "            enhanced_pool, self.down_kernel, strides=[1, 1, 1, 1], padding=\"SAME\"\n",
        "        )\n",
        "\n",
        "        d_left = tf.square(d_original_left - d_enhanced_left)\n",
        "        d_right = tf.square(d_original_right - d_enhanced_right)\n",
        "        d_up = tf.square(d_original_up - d_enhanced_up)\n",
        "        d_down = tf.square(d_original_down - d_enhanced_down)\n",
        "        return d_left + d_right + d_up + d_down"
      ]
    },
    {
      "cell_type": "code",
      "execution_count": null,
      "metadata": {
        "id": "eENlNgJYZiEF"
      },
      "outputs": [],
      "source": [
        "# zero dce model\n",
        "\n",
        "class ZeroDCE(keras.Model):\n",
        "    def __init__(self, **kwargs):\n",
        "        super(ZeroDCE, self).__init__(**kwargs)\n",
        "        self.dce_model = build_dce_net()\n",
        "\n",
        "    def compile(self, learning_rate, **kwargs):\n",
        "        super(ZeroDCE, self).compile(**kwargs)\n",
        "        self.optimizer = keras.optimizers.Adam(learning_rate=learning_rate)\n",
        "        self.spatial_constancy_loss = SpatialConsistencyLoss(reduction=\"none\")\n",
        "\n",
        "    def get_enhanced_image(self, data, output):\n",
        "        r1 = output[:, :, :, :3]\n",
        "        r2 = output[:, :, :, 3:6]\n",
        "        r3 = output[:, :, :, 6:9]\n",
        "        r4 = output[:, :, :, 9:12]\n",
        "        r5 = output[:, :, :, 12:15]\n",
        "        r6 = output[:, :, :, 15:18]\n",
        "        r7 = output[:, :, :, 18:21]\n",
        "        r8 = output[:, :, :, 21:24]\n",
        "        x = data + r1 * (tf.square(data) - data)\n",
        "        x = x + r2 * (tf.square(x) - x)\n",
        "        x = x + r3 * (tf.square(x) - x)\n",
        "        enhanced_image = x + r4 * (tf.square(x) - x)\n",
        "        x = enhanced_image + r5 * (tf.square(enhanced_image) - enhanced_image)\n",
        "        x = x + r6 * (tf.square(x) - x)\n",
        "        x = x + r7 * (tf.square(x) - x)\n",
        "        enhanced_image = x + r8 * (tf.square(x) - x)\n",
        "        return enhanced_image\n",
        "\n",
        "    def call(self, data):\n",
        "        dce_net_output = self.dce_model(data)\n",
        "        return self.get_enhanced_image(data, dce_net_output)\n",
        "\n",
        "    def compute_losses(self, data, output):\n",
        "        enhanced_image = self.get_enhanced_image(data, output)\n",
        "        loss_illumination = 200 * illumination_smoothness_loss(output)\n",
        "        loss_spatial_constancy = tf.reduce_mean(\n",
        "            self.spatial_constancy_loss(enhanced_image, data)\n",
        "        )\n",
        "        loss_color_constancy = 5 * tf.reduce_mean(color_constancy_loss(enhanced_image))\n",
        "        loss_exposure = 10 * tf.reduce_mean(exposure_loss(enhanced_image))\n",
        "        total_loss = (\n",
        "            loss_illumination\n",
        "            + loss_spatial_constancy\n",
        "            + loss_color_constancy\n",
        "            + loss_exposure\n",
        "        )\n",
        "        return {\n",
        "            \"total_loss\": total_loss,\n",
        "            \"illumination_smoothness_loss\": loss_illumination,\n",
        "            \"spatial_constancy_loss\": loss_spatial_constancy,\n",
        "            \"color_constancy_loss\": loss_color_constancy,\n",
        "            \"exposure_loss\": loss_exposure,\n",
        "        }\n",
        "\n",
        "    def train_step(self, data):\n",
        "        with tf.GradientTape() as tape:\n",
        "            output = self.dce_model(data)\n",
        "            losses = self.compute_losses(data, output)\n",
        "        gradients = tape.gradient(\n",
        "            losses[\"total_loss\"], self.dce_model.trainable_weights\n",
        "        )\n",
        "        self.optimizer.apply_gradients(zip(gradients, self.dce_model.trainable_weights))\n",
        "        return losses\n",
        "\n",
        "    def test_step(self, data):\n",
        "        output = self.dce_model(data)\n",
        "        return self.compute_losses(data, output)\n",
        "\n",
        "    def save_weights(self, filepath, overwrite=True, save_format=None, options=None):\n",
        "        self.dce_model.save_weights(\n",
        "            filepath, overwrite=overwrite, save_format=save_format, options=options\n",
        "        )\n",
        "\n",
        "    def load_weights(self, filepath, by_name=False, skip_mismatch=False, options=None):\n",
        "        self.dce_model.load_weights(\n",
        "            filepath=filepath,\n",
        "            by_name=by_name,\n",
        "            skip_mismatch=skip_mismatch,\n",
        "            options=options,\n",
        "        )"
      ]
    },
    {
      "cell_type": "markdown",
      "metadata": {
        "id": "JHBaebR4Zs2e"
      },
      "source": [
        "# Training"
      ]
    },
    {
      "cell_type": "code",
      "execution_count": null,
      "metadata": {
        "id": "Qe1aTKvvZo3d",
        "colab": {
          "base_uri": "https://localhost:8080/",
          "height": 125
        },
        "outputId": "a73fe2a7-9bbc-46d3-b21f-2734d106cc05"
      },
      "outputs": [
        {
          "output_type": "display_data",
          "data": {
            "text/plain": [
              "<IPython.core.display.HTML object>"
            ],
            "text/html": [
              "Tracking run with wandb version 0.20.1"
            ]
          },
          "metadata": {}
        },
        {
          "output_type": "display_data",
          "data": {
            "text/plain": [
              "<IPython.core.display.HTML object>"
            ],
            "text/html": [
              "Run data is saved locally in <code>/content/wandb/run-20250605_090441-4vdw30hr</code>"
            ]
          },
          "metadata": {}
        },
        {
          "output_type": "display_data",
          "data": {
            "text/plain": [
              "<IPython.core.display.HTML object>"
            ],
            "text/html": [
              "Syncing run <strong><a href='https://wandb.ai/ryunuriadi-bina-nusantara/low_light_zero_DCE/runs/4vdw30hr' target=\"_blank\">devout-plasma-24</a></strong> to <a href='https://wandb.ai/ryunuriadi-bina-nusantara/low_light_zero_DCE' target=\"_blank\">Weights & Biases</a> (<a href='https://wandb.me/developer-guide' target=\"_blank\">docs</a>)<br>"
            ]
          },
          "metadata": {}
        },
        {
          "output_type": "display_data",
          "data": {
            "text/plain": [
              "<IPython.core.display.HTML object>"
            ],
            "text/html": [
              " View project at <a href='https://wandb.ai/ryunuriadi-bina-nusantara/low_light_zero_DCE' target=\"_blank\">https://wandb.ai/ryunuriadi-bina-nusantara/low_light_zero_DCE</a>"
            ]
          },
          "metadata": {}
        },
        {
          "output_type": "display_data",
          "data": {
            "text/plain": [
              "<IPython.core.display.HTML object>"
            ],
            "text/html": [
              " View run at <a href='https://wandb.ai/ryunuriadi-bina-nusantara/low_light_zero_DCE/runs/4vdw30hr' target=\"_blank\">https://wandb.ai/ryunuriadi-bina-nusantara/low_light_zero_DCE/runs/4vdw30hr</a>"
            ]
          },
          "metadata": {}
        },
        {
          "output_type": "execute_result",
          "data": {
            "text/html": [
              "<button onClick=\"this.nextSibling.style.display='block';this.style.display='none';\">Display W&B run</button><iframe src='https://wandb.ai/ryunuriadi-bina-nusantara/low_light_zero_DCE/runs/4vdw30hr?jupyter=true' style='border:none;width:100%;height:420px;display:none;'></iframe>"
            ],
            "text/plain": [
              "<wandb.sdk.wandb_run.Run at 0x7ea5c0b30bd0>"
            ]
          },
          "metadata": {},
          "execution_count": 10
        }
      ],
      "source": [
        "wandb.init(project=\"low_light_zero_DCE\", job_type=\"training\")"
      ]
    },
    {
      "cell_type": "code",
      "execution_count": null,
      "metadata": {
        "id": "zQh0HBcTZuJl"
      },
      "outputs": [],
      "source": [
        "wandb.config.learning_rate = 1e-4"
      ]
    },
    {
      "cell_type": "code",
      "execution_count": null,
      "metadata": {
        "colab": {
          "base_uri": "https://localhost:8080/"
        },
        "id": "0Dh4fQhVZwbu",
        "outputId": "a8d5c4b7-af30-482a-bdd9-0c141791acd9"
      },
      "outputs": [
        {
          "output_type": "stream",
          "name": "stderr",
          "text": [
            "\u001b[34m\u001b[1mwandb\u001b[0m: \u001b[33mWARNING\u001b[0m WandbCallback is deprecated and will be removed in a future release. Please use the WandbMetricsLogger, WandbModelCheckpoint, and WandbEvalCallback callbacks instead. See https://docs.wandb.ai/guides/integrations/keras for more information.\n",
            "\u001b[34m\u001b[1mwandb\u001b[0m: \u001b[33mWARNING\u001b[0m The save_model argument by default saves the model in the HDF5 format that cannot save custom objects like subclassed models and custom layers. This behavior will be deprecated in a future release in favor of the SavedModel format. Meanwhile, the HDF5 model is saved as W&B files and the SavedModel as W&B Artifacts.\n"
          ]
        },
        {
          "output_type": "stream",
          "name": "stdout",
          "text": [
            "Epoch 1/50\n",
            "\u001b[1m100/100\u001b[0m \u001b[32m━━━━━━━━━━━━━━━━━━━━\u001b[0m\u001b[37m\u001b[0m \u001b[1m17s\u001b[0m 71ms/step - color_constancy_loss: 0.0031 - exposure_loss: 2.9249 - illumination_smoothness_loss: 1.6222 - spatial_constancy_loss: 5.1070e-05 - total_loss: 4.5503 - val_color_constancy_loss: 2.6370e-04 - val_exposure_loss: 3.1225 - val_illumination_smoothness_loss: 0.4808 - val_spatial_constancy_loss: 3.9605e-05 - val_total_loss: 3.6036\n",
            "Epoch 2/50\n",
            "\u001b[1m100/100\u001b[0m \u001b[32m━━━━━━━━━━━━━━━━━━━━\u001b[0m\u001b[37m\u001b[0m \u001b[1m12s\u001b[0m 57ms/step - color_constancy_loss: 0.0032 - exposure_loss: 2.8632 - illumination_smoothness_loss: 0.6227 - spatial_constancy_loss: 2.4729e-04 - total_loss: 3.4894 - val_color_constancy_loss: 3.3309e-04 - val_exposure_loss: 3.0847 - val_illumination_smoothness_loss: 0.2503 - val_spatial_constancy_loss: 1.3639e-04 - val_total_loss: 3.3355\n",
            "Epoch 3/50\n",
            "\u001b[1m100/100\u001b[0m \u001b[32m━━━━━━━━━━━━━━━━━━━━\u001b[0m\u001b[37m\u001b[0m \u001b[1m6s\u001b[0m 63ms/step - color_constancy_loss: 0.0037 - exposure_loss: 2.8082 - illumination_smoothness_loss: 0.3606 - spatial_constancy_loss: 5.8489e-04 - total_loss: 3.1731 - val_color_constancy_loss: 4.0956e-04 - val_exposure_loss: 3.0375 - val_illumination_smoothness_loss: 0.1518 - val_spatial_constancy_loss: 3.4276e-04 - val_total_loss: 3.1901\n",
            "Epoch 4/50\n",
            "\u001b[1m100/100\u001b[0m \u001b[32m━━━━━━━━━━━━━━━━━━━━\u001b[0m\u001b[37m\u001b[0m \u001b[1m6s\u001b[0m 57ms/step - color_constancy_loss: 0.0044 - exposure_loss: 2.7390 - illumination_smoothness_loss: 0.2434 - spatial_constancy_loss: 0.0012 - total_loss: 2.9880 - val_color_constancy_loss: 5.3601e-04 - val_exposure_loss: 2.9752 - val_illumination_smoothness_loss: 0.1073 - val_spatial_constancy_loss: 7.6566e-04 - val_total_loss: 3.0838\n",
            "Epoch 5/50\n",
            "\u001b[1m100/100\u001b[0m \u001b[32m━━━━━━━━━━━━━━━━━━━━\u001b[0m\u001b[37m\u001b[0m \u001b[1m7s\u001b[0m 66ms/step - color_constancy_loss: 0.0056 - exposure_loss: 2.6405 - illumination_smoothness_loss: 0.1881 - spatial_constancy_loss: 0.0026 - total_loss: 2.8368 - val_color_constancy_loss: 7.9959e-04 - val_exposure_loss: 2.8698 - val_illumination_smoothness_loss: 0.0995 - val_spatial_constancy_loss: 0.0019 - val_total_loss: 2.9720\n",
            "Epoch 6/50\n",
            "\u001b[1m100/100\u001b[0m \u001b[32m━━━━━━━━━━━━━━━━━━━━\u001b[0m\u001b[37m\u001b[0m \u001b[1m10s\u001b[0m 60ms/step - color_constancy_loss: 0.0144 - exposure_loss: 2.1694 - illumination_smoothness_loss: 0.2131 - spatial_constancy_loss: 0.0262 - total_loss: 2.4230 - val_color_constancy_loss: 0.0173 - val_exposure_loss: 1.3776 - val_illumination_smoothness_loss: 0.2337 - val_spatial_constancy_loss: 0.1106 - val_total_loss: 1.7391\n",
            "Epoch 7/50\n",
            "\u001b[1m100/100\u001b[0m \u001b[32m━━━━━━━━━━━━━━━━━━━━\u001b[0m\u001b[37m\u001b[0m \u001b[1m6s\u001b[0m 62ms/step - color_constancy_loss: 0.0740 - exposure_loss: 0.7738 - illumination_smoothness_loss: 0.2302 - spatial_constancy_loss: 0.2576 - total_loss: 1.3357 - val_color_constancy_loss: 0.0224 - val_exposure_loss: 1.0448 - val_illumination_smoothness_loss: 0.1285 - val_spatial_constancy_loss: 0.1911 - val_total_loss: 1.3867\n",
            "Epoch 8/50\n",
            "\u001b[1m100/100\u001b[0m \u001b[32m━━━━━━━━━━━━━━━━━━━━\u001b[0m\u001b[37m\u001b[0m \u001b[1m6s\u001b[0m 57ms/step - color_constancy_loss: 0.0745 - exposure_loss: 0.7372 - illumination_smoothness_loss: 0.1539 - spatial_constancy_loss: 0.2768 - total_loss: 1.2423 - val_color_constancy_loss: 0.0226 - val_exposure_loss: 1.0395 - val_illumination_smoothness_loss: 0.0981 - val_spatial_constancy_loss: 0.1930 - val_total_loss: 1.3532\n",
            "Epoch 9/50\n",
            "\u001b[1m100/100\u001b[0m \u001b[32m━━━━━━━━━━━━━━━━━━━━\u001b[0m\u001b[37m\u001b[0m \u001b[1m10s\u001b[0m 57ms/step - color_constancy_loss: 0.0749 - exposure_loss: 0.7321 - illumination_smoothness_loss: 0.1216 - spatial_constancy_loss: 0.2813 - total_loss: 1.2099 - val_color_constancy_loss: 0.0226 - val_exposure_loss: 1.0437 - val_illumination_smoothness_loss: 0.0728 - val_spatial_constancy_loss: 0.1918 - val_total_loss: 1.3310\n",
            "Epoch 10/50\n",
            "\u001b[1m100/100\u001b[0m \u001b[32m━━━━━━━━━━━━━━━━━━━━\u001b[0m\u001b[37m\u001b[0m \u001b[1m11s\u001b[0m 61ms/step - color_constancy_loss: 0.0752 - exposure_loss: 0.7277 - illumination_smoothness_loss: 0.0989 - spatial_constancy_loss: 0.2844 - total_loss: 1.1862 - val_color_constancy_loss: 0.0229 - val_exposure_loss: 1.0351 - val_illumination_smoothness_loss: 0.0570 - val_spatial_constancy_loss: 0.1946 - val_total_loss: 1.3097\n",
            "Epoch 11/50\n",
            "\u001b[1m100/100\u001b[0m \u001b[32m━━━━━━━━━━━━━━━━━━━━\u001b[0m\u001b[37m\u001b[0m \u001b[1m10s\u001b[0m 60ms/step - color_constancy_loss: 0.0756 - exposure_loss: 0.7247 - illumination_smoothness_loss: 0.0818 - spatial_constancy_loss: 0.2878 - total_loss: 1.1700 - val_color_constancy_loss: 0.0230 - val_exposure_loss: 1.0355 - val_illumination_smoothness_loss: 0.0465 - val_spatial_constancy_loss: 0.1944 - val_total_loss: 1.2994\n",
            "Epoch 12/50\n",
            "\u001b[1m100/100\u001b[0m \u001b[32m━━━━━━━━━━━━━━━━━━━━\u001b[0m\u001b[37m\u001b[0m \u001b[1m11s\u001b[0m 67ms/step - color_constancy_loss: 0.0758 - exposure_loss: 0.7224 - illumination_smoothness_loss: 0.0691 - spatial_constancy_loss: 0.2898 - total_loss: 1.1571 - val_color_constancy_loss: 0.0231 - val_exposure_loss: 1.0355 - val_illumination_smoothness_loss: 0.0393 - val_spatial_constancy_loss: 0.1942 - val_total_loss: 1.2921\n",
            "Epoch 13/50\n",
            "\u001b[1m100/100\u001b[0m \u001b[32m━━━━━━━━━━━━━━━━━━━━\u001b[0m\u001b[37m\u001b[0m \u001b[1m9s\u001b[0m 58ms/step - color_constancy_loss: 0.0763 - exposure_loss: 0.7204 - illumination_smoothness_loss: 0.0597 - spatial_constancy_loss: 0.2912 - total_loss: 1.1475 - val_color_constancy_loss: 0.0230 - val_exposure_loss: 1.0372 - val_illumination_smoothness_loss: 0.0340 - val_spatial_constancy_loss: 0.1936 - val_total_loss: 1.2878\n",
            "Epoch 14/50\n",
            "\u001b[1m100/100\u001b[0m \u001b[32m━━━━━━━━━━━━━━━━━━━━\u001b[0m\u001b[37m\u001b[0m \u001b[1m6s\u001b[0m 60ms/step - color_constancy_loss: 0.0764 - exposure_loss: 0.7188 - illumination_smoothness_loss: 0.0514 - spatial_constancy_loss: 0.2925 - total_loss: 1.1391 - val_color_constancy_loss: 0.0233 - val_exposure_loss: 1.0327 - val_illumination_smoothness_loss: 0.0287 - val_spatial_constancy_loss: 0.1950 - val_total_loss: 1.2797\n",
            "Epoch 15/50\n",
            "\u001b[1m100/100\u001b[0m \u001b[32m━━━━━━━━━━━━━━━━━━━━\u001b[0m\u001b[37m\u001b[0m \u001b[1m11s\u001b[0m 69ms/step - color_constancy_loss: 0.0766 - exposure_loss: 0.7172 - illumination_smoothness_loss: 0.0446 - spatial_constancy_loss: 0.2936 - total_loss: 1.1319 - val_color_constancy_loss: 0.0233 - val_exposure_loss: 1.0327 - val_illumination_smoothness_loss: 0.0249 - val_spatial_constancy_loss: 0.1949 - val_total_loss: 1.2758\n",
            "Epoch 16/50\n",
            "\u001b[1m100/100\u001b[0m \u001b[32m━━━━━━━━━━━━━━━━━━━━\u001b[0m\u001b[37m\u001b[0m \u001b[1m9s\u001b[0m 61ms/step - color_constancy_loss: 0.0768 - exposure_loss: 0.7157 - illumination_smoothness_loss: 0.0388 - spatial_constancy_loss: 0.2946 - total_loss: 1.1258 - val_color_constancy_loss: 0.0236 - val_exposure_loss: 1.0264 - val_illumination_smoothness_loss: 0.0217 - val_spatial_constancy_loss: 0.1970 - val_total_loss: 1.2686\n",
            "Epoch 17/50\n",
            "\u001b[1m100/100\u001b[0m \u001b[32m━━━━━━━━━━━━━━━━━━━━\u001b[0m\u001b[37m\u001b[0m \u001b[1m10s\u001b[0m 61ms/step - color_constancy_loss: 0.0769 - exposure_loss: 0.7149 - illumination_smoothness_loss: 0.0332 - spatial_constancy_loss: 0.2951 - total_loss: 1.1201 - val_color_constancy_loss: 0.0236 - val_exposure_loss: 1.0269 - val_illumination_smoothness_loss: 0.0187 - val_spatial_constancy_loss: 0.1967 - val_total_loss: 1.2658\n",
            "Epoch 18/50\n",
            "\u001b[1m100/100\u001b[0m \u001b[32m━━━━━━━━━━━━━━━━━━━━\u001b[0m\u001b[37m\u001b[0m \u001b[1m6s\u001b[0m 60ms/step - color_constancy_loss: 0.0771 - exposure_loss: 0.7133 - illumination_smoothness_loss: 0.0280 - spatial_constancy_loss: 0.2963 - total_loss: 1.1147 - val_color_constancy_loss: 0.0235 - val_exposure_loss: 1.0285 - val_illumination_smoothness_loss: 0.0157 - val_spatial_constancy_loss: 0.1961 - val_total_loss: 1.2639\n",
            "Epoch 19/50\n",
            "\u001b[1m100/100\u001b[0m \u001b[32m━━━━━━━━━━━━━━━━━━━━\u001b[0m\u001b[37m\u001b[0m \u001b[1m11s\u001b[0m 68ms/step - color_constancy_loss: 0.0772 - exposure_loss: 0.7129 - illumination_smoothness_loss: 0.0250 - spatial_constancy_loss: 0.2964 - total_loss: 1.1114 - val_color_constancy_loss: 0.0236 - val_exposure_loss: 1.0272 - val_illumination_smoothness_loss: 0.0141 - val_spatial_constancy_loss: 0.1964 - val_total_loss: 1.2614\n",
            "Epoch 20/50\n",
            "\u001b[1m100/100\u001b[0m \u001b[32m━━━━━━━━━━━━━━━━━━━━\u001b[0m\u001b[37m\u001b[0m \u001b[1m6s\u001b[0m 58ms/step - color_constancy_loss: 0.0773 - exposure_loss: 0.7118 - illumination_smoothness_loss: 0.0212 - spatial_constancy_loss: 0.2974 - total_loss: 1.1078 - val_color_constancy_loss: 0.0235 - val_exposure_loss: 1.0275 - val_illumination_smoothness_loss: 0.0125 - val_spatial_constancy_loss: 0.1963 - val_total_loss: 1.2599\n",
            "Epoch 21/50\n",
            "\u001b[1m100/100\u001b[0m \u001b[32m━━━━━━━━━━━━━━━━━━━━\u001b[0m\u001b[37m\u001b[0m \u001b[1m11s\u001b[0m 63ms/step - color_constancy_loss: 0.0774 - exposure_loss: 0.7112 - illumination_smoothness_loss: 0.0189 - spatial_constancy_loss: 0.2977 - total_loss: 1.1052 - val_color_constancy_loss: 0.0235 - val_exposure_loss: 1.0278 - val_illumination_smoothness_loss: 0.0110 - val_spatial_constancy_loss: 0.1961 - val_total_loss: 1.2585\n",
            "Epoch 22/50\n",
            "\u001b[1m100/100\u001b[0m \u001b[32m━━━━━━━━━━━━━━━━━━━━\u001b[0m\u001b[37m\u001b[0m \u001b[1m10s\u001b[0m 63ms/step - color_constancy_loss: 0.0775 - exposure_loss: 0.7105 - illumination_smoothness_loss: 0.0169 - spatial_constancy_loss: 0.2982 - total_loss: 1.1031 - val_color_constancy_loss: 0.0235 - val_exposure_loss: 1.0285 - val_illumination_smoothness_loss: 0.0100 - val_spatial_constancy_loss: 0.1958 - val_total_loss: 1.2578\n",
            "Epoch 23/50\n",
            "\u001b[1m100/100\u001b[0m \u001b[32m━━━━━━━━━━━━━━━━━━━━\u001b[0m\u001b[37m\u001b[0m \u001b[1m10s\u001b[0m 58ms/step - color_constancy_loss: 0.0775 - exposure_loss: 0.7099 - illumination_smoothness_loss: 0.0156 - spatial_constancy_loss: 0.2985 - total_loss: 1.1015 - val_color_constancy_loss: 0.0236 - val_exposure_loss: 1.0265 - val_illumination_smoothness_loss: 0.0088 - val_spatial_constancy_loss: 0.1964 - val_total_loss: 1.2553\n",
            "Epoch 24/50\n",
            "\u001b[1m100/100\u001b[0m \u001b[32m━━━━━━━━━━━━━━━━━━━━\u001b[0m\u001b[37m\u001b[0m \u001b[1m10s\u001b[0m 59ms/step - color_constancy_loss: 0.0775 - exposure_loss: 0.7098 - illumination_smoothness_loss: 0.0144 - spatial_constancy_loss: 0.2984 - total_loss: 1.1001 - val_color_constancy_loss: 0.0235 - val_exposure_loss: 1.0291 - val_illumination_smoothness_loss: 0.0085 - val_spatial_constancy_loss: 0.1955 - val_total_loss: 1.2566\n",
            "Epoch 25/50\n",
            "\u001b[1m100/100\u001b[0m \u001b[32m━━━━━━━━━━━━━━━━━━━━\u001b[0m\u001b[37m\u001b[0m \u001b[1m6s\u001b[0m 63ms/step - color_constancy_loss: 0.0776 - exposure_loss: 0.7090 - illumination_smoothness_loss: 0.0128 - spatial_constancy_loss: 0.2990 - total_loss: 1.0985 - val_color_constancy_loss: 0.0235 - val_exposure_loss: 1.0287 - val_illumination_smoothness_loss: 0.0079 - val_spatial_constancy_loss: 0.1956 - val_total_loss: 1.2557\n",
            "Epoch 26/50\n",
            "\u001b[1m100/100\u001b[0m \u001b[32m━━━━━━━━━━━━━━━━━━━━\u001b[0m\u001b[37m\u001b[0m \u001b[1m11s\u001b[0m 68ms/step - color_constancy_loss: 0.0776 - exposure_loss: 0.7088 - illumination_smoothness_loss: 0.0121 - spatial_constancy_loss: 0.2990 - total_loss: 1.0976 - val_color_constancy_loss: 0.0235 - val_exposure_loss: 1.0290 - val_illumination_smoothness_loss: 0.0075 - val_spatial_constancy_loss: 0.1954 - val_total_loss: 1.2554\n",
            "Epoch 27/50\n",
            "\u001b[1m100/100\u001b[0m \u001b[32m━━━━━━━━━━━━━━━━━━━━\u001b[0m\u001b[37m\u001b[0m \u001b[1m6s\u001b[0m 61ms/step - color_constancy_loss: 0.0776 - exposure_loss: 0.7085 - illumination_smoothness_loss: 0.0114 - spatial_constancy_loss: 0.2992 - total_loss: 1.0967 - val_color_constancy_loss: 0.0236 - val_exposure_loss: 1.0279 - val_illumination_smoothness_loss: 0.0070 - val_spatial_constancy_loss: 0.1958 - val_total_loss: 1.2542\n",
            "Epoch 28/50\n",
            "\u001b[1m100/100\u001b[0m \u001b[32m━━━━━━━━━━━━━━━━━━━━\u001b[0m\u001b[37m\u001b[0m \u001b[1m6s\u001b[0m 63ms/step - color_constancy_loss: 0.0777 - exposure_loss: 0.7080 - illumination_smoothness_loss: 0.0107 - spatial_constancy_loss: 0.2994 - total_loss: 1.0958 - val_color_constancy_loss: 0.0236 - val_exposure_loss: 1.0273 - val_illumination_smoothness_loss: 0.0065 - val_spatial_constancy_loss: 0.1959 - val_total_loss: 1.2533\n",
            "Epoch 29/50\n",
            "\u001b[1m100/100\u001b[0m \u001b[32m━━━━━━━━━━━━━━━━━━━━\u001b[0m\u001b[37m\u001b[0m \u001b[1m10s\u001b[0m 61ms/step - color_constancy_loss: 0.0777 - exposure_loss: 0.7076 - illumination_smoothness_loss: 0.0105 - spatial_constancy_loss: 0.2997 - total_loss: 1.0955 - val_color_constancy_loss: 0.0235 - val_exposure_loss: 1.0294 - val_illumination_smoothness_loss: 0.0068 - val_spatial_constancy_loss: 0.1952 - val_total_loss: 1.2549\n",
            "Epoch 30/50\n",
            "\u001b[1m100/100\u001b[0m \u001b[32m━━━━━━━━━━━━━━━━━━━━\u001b[0m\u001b[37m\u001b[0m \u001b[1m6s\u001b[0m 62ms/step - color_constancy_loss: 0.0778 - exposure_loss: 0.7078 - illumination_smoothness_loss: 0.0109 - spatial_constancy_loss: 0.2992 - total_loss: 1.0957 - val_color_constancy_loss: 0.0236 - val_exposure_loss: 1.0274 - val_illumination_smoothness_loss: 0.0060 - val_spatial_constancy_loss: 0.1958 - val_total_loss: 1.2528\n",
            "Epoch 31/50\n",
            "\u001b[1m100/100\u001b[0m \u001b[32m━━━━━━━━━━━━━━━━━━━━\u001b[0m\u001b[37m\u001b[0m \u001b[1m6s\u001b[0m 58ms/step - color_constancy_loss: 0.0777 - exposure_loss: 0.7073 - illumination_smoothness_loss: 0.0097 - spatial_constancy_loss: 0.2997 - total_loss: 1.0944 - val_color_constancy_loss: 0.0235 - val_exposure_loss: 1.0273 - val_illumination_smoothness_loss: 0.0057 - val_spatial_constancy_loss: 0.1958 - val_total_loss: 1.2523\n",
            "Epoch 32/50\n",
            "\u001b[1m100/100\u001b[0m \u001b[32m━━━━━━━━━━━━━━━━━━━━\u001b[0m\u001b[37m\u001b[0m \u001b[1m10s\u001b[0m 59ms/step - color_constancy_loss: 0.0778 - exposure_loss: 0.7072 - illumination_smoothness_loss: 0.0094 - spatial_constancy_loss: 0.2997 - total_loss: 1.0941 - val_color_constancy_loss: 0.0235 - val_exposure_loss: 1.0270 - val_illumination_smoothness_loss: 0.0060 - val_spatial_constancy_loss: 0.1958 - val_total_loss: 1.2525\n",
            "Epoch 33/50\n",
            "\u001b[1m100/100\u001b[0m \u001b[32m━━━━━━━━━━━━━━━━━━━━\u001b[0m\u001b[37m\u001b[0m \u001b[1m7s\u001b[0m 65ms/step - color_constancy_loss: 0.0778 - exposure_loss: 0.7071 - illumination_smoothness_loss: 0.0090 - spatial_constancy_loss: 0.2996 - total_loss: 1.0936 - val_color_constancy_loss: 0.0234 - val_exposure_loss: 1.0302 - val_illumination_smoothness_loss: 0.0057 - val_spatial_constancy_loss: 0.1947 - val_total_loss: 1.2540\n",
            "Epoch 34/50\n",
            "\u001b[1m100/100\u001b[0m \u001b[32m━━━━━━━━━━━━━━━━━━━━\u001b[0m\u001b[37m\u001b[0m \u001b[1m6s\u001b[0m 62ms/step - color_constancy_loss: 0.0779 - exposure_loss: 0.7069 - illumination_smoothness_loss: 0.0084 - spatial_constancy_loss: 0.2999 - total_loss: 1.0930 - val_color_constancy_loss: 0.0234 - val_exposure_loss: 1.0299 - val_illumination_smoothness_loss: 0.0057 - val_spatial_constancy_loss: 0.1948 - val_total_loss: 1.2538\n",
            "Epoch 35/50\n",
            "\u001b[1m100/100\u001b[0m \u001b[32m━━━━━━━━━━━━━━━━━━━━\u001b[0m\u001b[37m\u001b[0m \u001b[1m10s\u001b[0m 62ms/step - color_constancy_loss: 0.0779 - exposure_loss: 0.7066 - illumination_smoothness_loss: 0.0083 - spatial_constancy_loss: 0.2999 - total_loss: 1.0927 - val_color_constancy_loss: 0.0234 - val_exposure_loss: 1.0292 - val_illumination_smoothness_loss: 0.0053 - val_spatial_constancy_loss: 0.1950 - val_total_loss: 1.2530\n",
            "Epoch 36/50\n",
            "\u001b[1m100/100\u001b[0m \u001b[32m━━━━━━━━━━━━━━━━━━━━\u001b[0m\u001b[37m\u001b[0m \u001b[1m10s\u001b[0m 63ms/step - color_constancy_loss: 0.0780 - exposure_loss: 0.7066 - illumination_smoothness_loss: 0.0080 - spatial_constancy_loss: 0.2999 - total_loss: 1.0925 - val_color_constancy_loss: 0.0234 - val_exposure_loss: 1.0299 - val_illumination_smoothness_loss: 0.0053 - val_spatial_constancy_loss: 0.1948 - val_total_loss: 1.2533\n",
            "Epoch 37/50\n",
            "\u001b[1m100/100\u001b[0m \u001b[32m━━━━━━━━━━━━━━━━━━━━\u001b[0m\u001b[37m\u001b[0m \u001b[1m6s\u001b[0m 61ms/step - color_constancy_loss: 0.0780 - exposure_loss: 0.7063 - illumination_smoothness_loss: 0.0078 - spatial_constancy_loss: 0.3000 - total_loss: 1.0921 - val_color_constancy_loss: 0.0234 - val_exposure_loss: 1.0301 - val_illumination_smoothness_loss: 0.0051 - val_spatial_constancy_loss: 0.1947 - val_total_loss: 1.2532\n",
            "Epoch 38/50\n",
            "\u001b[1m100/100\u001b[0m \u001b[32m━━━━━━━━━━━━━━━━━━━━\u001b[0m\u001b[37m\u001b[0m \u001b[1m10s\u001b[0m 63ms/step - color_constancy_loss: 0.0780 - exposure_loss: 0.7062 - illumination_smoothness_loss: 0.0075 - spatial_constancy_loss: 0.3001 - total_loss: 1.0918 - val_color_constancy_loss: 0.0234 - val_exposure_loss: 1.0298 - val_illumination_smoothness_loss: 0.0052 - val_spatial_constancy_loss: 0.1947 - val_total_loss: 1.2531\n",
            "Epoch 39/50\n",
            "\u001b[1m100/100\u001b[0m \u001b[32m━━━━━━━━━━━━━━━━━━━━\u001b[0m\u001b[37m\u001b[0m \u001b[1m6s\u001b[0m 61ms/step - color_constancy_loss: 0.0780 - exposure_loss: 0.7063 - illumination_smoothness_loss: 0.0074 - spatial_constancy_loss: 0.3001 - total_loss: 1.0918 - val_color_constancy_loss: 0.0234 - val_exposure_loss: 1.0288 - val_illumination_smoothness_loss: 0.0048 - val_spatial_constancy_loss: 0.1951 - val_total_loss: 1.2521\n",
            "Epoch 40/50\n",
            "\u001b[1m100/100\u001b[0m \u001b[32m━━━━━━━━━━━━━━━━━━━━\u001b[0m\u001b[37m\u001b[0m \u001b[1m10s\u001b[0m 59ms/step - color_constancy_loss: 0.0780 - exposure_loss: 0.7060 - illumination_smoothness_loss: 0.0076 - spatial_constancy_loss: 0.3001 - total_loss: 1.0918 - val_color_constancy_loss: 0.0235 - val_exposure_loss: 1.0268 - val_illumination_smoothness_loss: 0.0046 - val_spatial_constancy_loss: 0.1957 - val_total_loss: 1.2506\n",
            "Epoch 41/50\n",
            "\u001b[1m100/100\u001b[0m \u001b[32m━━━━━━━━━━━━━━━━━━━━\u001b[0m\u001b[37m\u001b[0m \u001b[1m7s\u001b[0m 69ms/step - color_constancy_loss: 0.0781 - exposure_loss: 0.7055 - illumination_smoothness_loss: 0.0079 - spatial_constancy_loss: 0.3003 - total_loss: 1.0919 - val_color_constancy_loss: 0.0234 - val_exposure_loss: 1.0303 - val_illumination_smoothness_loss: 0.0047 - val_spatial_constancy_loss: 0.1945 - val_total_loss: 1.2529\n",
            "Epoch 42/50\n",
            "\u001b[1m100/100\u001b[0m \u001b[32m━━━━━━━━━━━━━━━━━━━━\u001b[0m\u001b[37m\u001b[0m \u001b[1m9s\u001b[0m 61ms/step - color_constancy_loss: 0.0781 - exposure_loss: 0.7058 - illumination_smoothness_loss: 0.0068 - spatial_constancy_loss: 0.3002 - total_loss: 1.0909 - val_color_constancy_loss: 0.0234 - val_exposure_loss: 1.0290 - val_illumination_smoothness_loss: 0.0047 - val_spatial_constancy_loss: 0.1949 - val_total_loss: 1.2519\n",
            "Epoch 43/50\n",
            "\u001b[1m100/100\u001b[0m \u001b[32m━━━━━━━━━━━━━━━━━━━━\u001b[0m\u001b[37m\u001b[0m \u001b[1m10s\u001b[0m 61ms/step - color_constancy_loss: 0.0781 - exposure_loss: 0.7056 - illumination_smoothness_loss: 0.0070 - spatial_constancy_loss: 0.3004 - total_loss: 1.0911 - val_color_constancy_loss: 0.0234 - val_exposure_loss: 1.0289 - val_illumination_smoothness_loss: 0.0046 - val_spatial_constancy_loss: 0.1949 - val_total_loss: 1.2518\n",
            "Epoch 44/50\n",
            "\u001b[1m100/100\u001b[0m \u001b[32m━━━━━━━━━━━━━━━━━━━━\u001b[0m\u001b[37m\u001b[0m \u001b[1m10s\u001b[0m 59ms/step - color_constancy_loss: 0.0781 - exposure_loss: 0.7056 - illumination_smoothness_loss: 0.0072 - spatial_constancy_loss: 0.3003 - total_loss: 1.0912 - val_color_constancy_loss: 0.0234 - val_exposure_loss: 1.0285 - val_illumination_smoothness_loss: 0.0045 - val_spatial_constancy_loss: 0.1950 - val_total_loss: 1.2515\n",
            "Epoch 45/50\n",
            "\u001b[1m100/100\u001b[0m \u001b[32m━━━━━━━━━━━━━━━━━━━━\u001b[0m\u001b[37m\u001b[0m \u001b[1m10s\u001b[0m 60ms/step - color_constancy_loss: 0.0781 - exposure_loss: 0.7053 - illumination_smoothness_loss: 0.0067 - spatial_constancy_loss: 0.3004 - total_loss: 1.0905 - val_color_constancy_loss: 0.0234 - val_exposure_loss: 1.0297 - val_illumination_smoothness_loss: 0.0044 - val_spatial_constancy_loss: 0.1946 - val_total_loss: 1.2521\n",
            "Epoch 46/50\n",
            "\u001b[1m100/100\u001b[0m \u001b[32m━━━━━━━━━━━━━━━━━━━━\u001b[0m\u001b[37m\u001b[0m \u001b[1m10s\u001b[0m 63ms/step - color_constancy_loss: 0.0782 - exposure_loss: 0.7052 - illumination_smoothness_loss: 0.0064 - spatial_constancy_loss: 0.3004 - total_loss: 1.0903 - val_color_constancy_loss: 0.0234 - val_exposure_loss: 1.0292 - val_illumination_smoothness_loss: 0.0043 - val_spatial_constancy_loss: 0.1948 - val_total_loss: 1.2517\n",
            "Epoch 47/50\n",
            "\u001b[1m100/100\u001b[0m \u001b[32m━━━━━━━━━━━━━━━━━━━━\u001b[0m\u001b[37m\u001b[0m \u001b[1m11s\u001b[0m 69ms/step - color_constancy_loss: 0.0782 - exposure_loss: 0.7051 - illumination_smoothness_loss: 0.0063 - spatial_constancy_loss: 0.3005 - total_loss: 1.0901 - val_color_constancy_loss: 0.0234 - val_exposure_loss: 1.0293 - val_illumination_smoothness_loss: 0.0043 - val_spatial_constancy_loss: 0.1947 - val_total_loss: 1.2516\n",
            "Epoch 48/50\n",
            "\u001b[1m100/100\u001b[0m \u001b[32m━━━━━━━━━━━━━━━━━━━━\u001b[0m\u001b[37m\u001b[0m \u001b[1m9s\u001b[0m 61ms/step - color_constancy_loss: 0.0782 - exposure_loss: 0.7052 - illumination_smoothness_loss: 0.0064 - spatial_constancy_loss: 0.3003 - total_loss: 1.0901 - val_color_constancy_loss: 0.0234 - val_exposure_loss: 1.0278 - val_illumination_smoothness_loss: 0.0040 - val_spatial_constancy_loss: 0.1952 - val_total_loss: 1.2505\n",
            "Epoch 49/50\n",
            "\u001b[1m100/100\u001b[0m \u001b[32m━━━━━━━━━━━━━━━━━━━━\u001b[0m\u001b[37m\u001b[0m \u001b[1m6s\u001b[0m 60ms/step - color_constancy_loss: 0.0783 - exposure_loss: 0.7049 - illumination_smoothness_loss: 0.0061 - spatial_constancy_loss: 0.3006 - total_loss: 1.0898 - val_color_constancy_loss: 0.0234 - val_exposure_loss: 1.0292 - val_illumination_smoothness_loss: 0.0042 - val_spatial_constancy_loss: 0.1947 - val_total_loss: 1.2514\n",
            "Epoch 50/50\n",
            "\u001b[1m100/100\u001b[0m \u001b[32m━━━━━━━━━━━━━━━━━━━━\u001b[0m\u001b[37m\u001b[0m \u001b[1m11s\u001b[0m 63ms/step - color_constancy_loss: 0.0783 - exposure_loss: 0.7050 - illumination_smoothness_loss: 0.0060 - spatial_constancy_loss: 0.3005 - total_loss: 1.0897 - val_color_constancy_loss: 0.0234 - val_exposure_loss: 1.0289 - val_illumination_smoothness_loss: 0.0040 - val_spatial_constancy_loss: 0.1948 - val_total_loss: 1.2511\n"
          ]
        }
      ],
      "source": [
        "zero_dce_model = ZeroDCE()\n",
        "zero_dce_model.compile(learning_rate=wandb.config.learning_rate)\n",
        "history = zero_dce_model.fit(train_dataset, validation_data=val_dataset, epochs=50, callbacks=[WandbCallback()])"
      ]
    },
    {
      "cell_type": "code",
      "execution_count": null,
      "metadata": {
        "colab": {
          "base_uri": "https://localhost:8080/",
          "height": 1000
        },
        "id": "CDbSvt1RZzN-",
        "outputId": "ef19d095-161f-4c2c-910f-db78fa9d070a"
      },
      "outputs": [
        {
          "output_type": "display_data",
          "data": {
            "text/plain": [
              "<Figure size 640x480 with 1 Axes>"
            ],
            "image/png": "[encoded data removed]"
          },
          "metadata": {}
        },
        {
          "output_type": "display_data",
          "data": {
            "text/plain": [
              "<Figure size 640x480 with 1 Axes>"
            ],
            "image/png": "[encoded data removed]"
          },
          "metadata": {}
        },
        {
          "output_type": "display_data",
          "data": {
            "text/plain": [
              "<Figure size 640x480 with 1 Axes>"
            ],
            "image/png": "[encoded data removed]"
          },
          "metadata": {}
        },
        {
          "output_type": "display_data",
          "data": {
            "text/plain": [
              "<Figure size 640x480 with 1 Axes>"
            ],
            "image/png": "[encoded data removed]"
          },
          "metadata": {}
        },
        {
          "output_type": "display_data",
          "data": {
            "text/plain": [
              "<Figure size 640x480 with 1 Axes>"
            ],
            "image/png": "[encoded data removed]"
          },
          "metadata": {}
        }
      ],
      "source": [
        "def plot_result(item):\n",
        "    plt.plot(history.history[item], label=item)\n",
        "    plt.plot(history.history[\"val_\" + item], label=\"val_\" + item)\n",
        "    plt.xlabel(\"Epochs\")\n",
        "    plt.ylabel(item)\n",
        "    plt.title(\"Train and Validation {} Over Epochs\".format(item), fontsize=14)\n",
        "    plt.legend()\n",
        "    plt.grid()\n",
        "    plt.show()\n",
        "\n",
        "plot_result(\"total_loss\")\n",
        "plot_result(\"illumination_smoothness_loss\")\n",
        "plot_result(\"spatial_constancy_loss\")\n",
        "plot_result(\"color_constancy_loss\")\n",
        "plot_result(\"exposure_loss\")"
      ]
    },
    {
      "cell_type": "markdown",
      "metadata": {
        "id": "mCL-ySfhZ-zW"
      },
      "source": [
        "# Inference on test images and visualize results using W&B Tables"
      ]
    },
    {
      "cell_type": "code",
      "execution_count": null,
      "metadata": {
        "colab": {
          "base_uri": "https://localhost:8080/",
          "height": 900
        },
        "id": "CIVbotkOaAfW",
        "outputId": "ad84185c-e250-455e-be54-76e9c44594ad"
      },
      "outputs": [
        {
          "output_type": "display_data",
          "data": {
            "text/plain": [
              "<IPython.core.display.HTML object>"
            ],
            "text/html": [
              "Finishing previous runs because reinit is set to 'default'."
            ]
          },
          "metadata": {}
        },
        {
          "output_type": "display_data",
          "data": {
            "text/plain": [
              "<IPython.core.display.HTML object>"
            ],
            "text/html": []
          },
          "metadata": {}
        },
        {
          "output_type": "display_data",
          "data": {
            "text/plain": [
              "<IPython.core.display.HTML object>"
            ],
            "text/html": [
              "<br>    <style><br>        .wandb-row {<br>            display: flex;<br>            flex-direction: row;<br>            flex-wrap: wrap;<br>            justify-content: flex-start;<br>            width: 100%;<br>        }<br>        .wandb-col {<br>            display: flex;<br>            flex-direction: column;<br>            flex-basis: 100%;<br>            flex: 1;<br>            padding: 10px;<br>        }<br>    </style><br><div class=\"wandb-row\"><div class=\"wandb-col\"><h3>Run history:</h3><br/><table class=\"wandb\"><tr><td>color_constancy_loss</td><td>▁▁▁▁▁▆▇▇▇▇██████████████████████████████</td></tr><tr><td>epoch</td><td>▁▁▁▁▂▂▂▂▂▂▃▃▃▃▃▄▄▄▄▄▅▅▅▅▅▅▆▆▆▆▆▇▇▇▇▇▇███</td></tr><tr><td>exposure_loss</td><td>███▇▇▁▁▁▁▁▁▁▁▁▁▁▁▁▁▁▁▁▁▁▁▁▁▁▁▁▁▁▁▁▁▁▁▁▁▁</td></tr><tr><td>illumination_smoothness_loss</td><td>█▅▃▃▂▂▂▂▁▁▁▁▁▁▁▁▁▁▁▁▁▁▁▁▁▁▁▁▁▁▁▁▁▁▁▁▁▁▁▁</td></tr><tr><td>spatial_constancy_loss</td><td>▁▁▁▁▅███████████████████████████████████</td></tr><tr><td>total_loss</td><td>█▆▅▅▄▁▁▁▁▁▁▁▁▁▁▁▁▁▁▁▁▁▁▁▁▁▁▁▁▁▁▁▁▁▁▁▁▁▁▁</td></tr><tr><td>val_color_constancy_loss</td><td>▁▁▁▆████████████████████████████████████</td></tr><tr><td>val_exposure_loss</td><td>███▇▂▁▁▁▁▁▁▁▁▁▁▁▁▁▁▁▁▁▁▁▁▁▁▁▁▁▁▁▁▁▁▁▁▁▁▁</td></tr><tr><td>val_illumination_smoothness_loss</td><td>█▅▃▃▂▃▂▂▂▂▁▁▁▁▁▁▁▁▁▁▁▁▁▁▁▁▁▁▁▁▁▁▁▁▁▁▁▁▁▁</td></tr><tr><td>val_spatial_constancy_loss</td><td>▁▁▁▁▁███████████████████████████████████</td></tr><tr><td>val_total_loss</td><td>█▇▇▆▆▁▁▁▁▁▁▁▁▁▁▁▁▁▁▁▁▁▁▁▁▁▁▁▁▁▁▁▁▁▁▁▁▁▁▁</td></tr></table><br/></div><div class=\"wandb-col\"><h3>Run summary:</h3><br/><table class=\"wandb\"><tr><td>color_constancy_loss</td><td>0.03302</td></tr><tr><td>epoch</td><td>49</td></tr><tr><td>exposure_loss</td><td>0.55332</td></tr><tr><td>illumination_smoothness_loss</td><td>0.00366</td></tr><tr><td>spatial_constancy_loss</td><td>0.32042</td></tr><tr><td>total_loss</td><td>0.91042</td></tr><tr><td>val_color_constancy_loss</td><td>0.02338</td></tr><tr><td>val_exposure_loss</td><td>1.02886</td></tr><tr><td>val_illumination_smoothness_loss</td><td>0.00405</td></tr><tr><td>val_spatial_constancy_loss</td><td>0.19481</td></tr><tr><td>val_total_loss</td><td>1.2511</td></tr></table><br/></div></div>"
            ]
          },
          "metadata": {}
        },
        {
          "output_type": "display_data",
          "data": {
            "text/plain": [
              "<IPython.core.display.HTML object>"
            ],
            "text/html": [
              " View run <strong style=\"color:#cdcd00\">devout-plasma-24</strong> at: <a href='https://wandb.ai/ryunuriadi-bina-nusantara/low_light_zero_DCE/runs/4vdw30hr' target=\"_blank\">https://wandb.ai/ryunuriadi-bina-nusantara/low_light_zero_DCE/runs/4vdw30hr</a><br> View project at: <a href='https://wandb.ai/ryunuriadi-bina-nusantara/low_light_zero_DCE' target=\"_blank\">https://wandb.ai/ryunuriadi-bina-nusantara/low_light_zero_DCE</a><br>Synced 5 W&B file(s), 1 media file(s), 0 artifact file(s) and 0 other file(s)"
            ]
          },
          "metadata": {}
        },
        {
          "output_type": "display_data",
          "data": {
            "text/plain": [
              "<IPython.core.display.HTML object>"
            ],
            "text/html": [
              "Find logs at: <code>./wandb/run-20250605_090441-4vdw30hr/logs</code>"
            ]
          },
          "metadata": {}
        },
        {
          "output_type": "display_data",
          "data": {
            "text/plain": [
              "<IPython.core.display.HTML object>"
            ],
            "text/html": [
              "Tracking run with wandb version 0.20.1"
            ]
          },
          "metadata": {}
        },
        {
          "output_type": "display_data",
          "data": {
            "text/plain": [
              "<IPython.core.display.HTML object>"
            ],
            "text/html": [
              "Run data is saved locally in <code>/content/wandb/run-20250605_091208-ztqj9iog</code>"
            ]
          },
          "metadata": {}
        },
        {
          "output_type": "display_data",
          "data": {
            "text/plain": [
              "<IPython.core.display.HTML object>"
            ],
            "text/html": [
              "Syncing run <strong><a href='https://wandb.ai/ryunuriadi-bina-nusantara/low_light_zero_DCE/runs/ztqj9iog' target=\"_blank\">crimson-wave-25</a></strong> to <a href='https://wandb.ai/ryunuriadi-bina-nusantara/low_light_zero_DCE' target=\"_blank\">Weights & Biases</a> (<a href='https://wandb.me/developer-guide' target=\"_blank\">docs</a>)<br>"
            ]
          },
          "metadata": {}
        },
        {
          "output_type": "display_data",
          "data": {
            "text/plain": [
              "<IPython.core.display.HTML object>"
            ],
            "text/html": [
              " View project at <a href='https://wandb.ai/ryunuriadi-bina-nusantara/low_light_zero_DCE' target=\"_blank\">https://wandb.ai/ryunuriadi-bina-nusantara/low_light_zero_DCE</a>"
            ]
          },
          "metadata": {}
        },
        {
          "output_type": "display_data",
          "data": {
            "text/plain": [
              "<IPython.core.display.HTML object>"
            ],
            "text/html": [
              " View run at <a href='https://wandb.ai/ryunuriadi-bina-nusantara/low_light_zero_DCE/runs/ztqj9iog' target=\"_blank\">https://wandb.ai/ryunuriadi-bina-nusantara/low_light_zero_DCE/runs/ztqj9iog</a>"
            ]
          },
          "metadata": {}
        },
        {
          "output_type": "display_data",
          "data": {
            "text/plain": [
              "<IPython.core.display.HTML object>"
            ],
            "text/html": []
          },
          "metadata": {}
        },
        {
          "output_type": "display_data",
          "data": {
            "text/plain": [
              "<IPython.core.display.HTML object>"
            ],
            "text/html": [
              " View run <strong style=\"color:#cdcd00\">crimson-wave-25</strong> at: <a href='https://wandb.ai/ryunuriadi-bina-nusantara/low_light_zero_DCE/runs/ztqj9iog' target=\"_blank\">https://wandb.ai/ryunuriadi-bina-nusantara/low_light_zero_DCE/runs/ztqj9iog</a><br> View project at: <a href='https://wandb.ai/ryunuriadi-bina-nusantara/low_light_zero_DCE' target=\"_blank\">https://wandb.ai/ryunuriadi-bina-nusantara/low_light_zero_DCE</a><br>Synced 5 W&B file(s), 1 media file(s), 45 artifact file(s) and 0 other file(s)"
            ]
          },
          "metadata": {}
        },
        {
          "output_type": "display_data",
          "data": {
            "text/plain": [
              "<IPython.core.display.HTML object>"
            ],
            "text/html": [
              "Find logs at: <code>./wandb/run-20250605_091208-ztqj9iog/logs</code>"
            ]
          },
          "metadata": {}
        }
      ],
      "source": [
        "def plot_results(images, titles, figure_size=(12, 12)):\n",
        "    fig = plt.figure(figsize=figure_size)\n",
        "    for i in range(len(images)):\n",
        "        fig.add_subplot(1, len(images), i + 1).set_title(titles[i])\n",
        "        _ = plt.imshow(images[i])\n",
        "        plt.axis(\"off\")\n",
        "    plt.show()\n",
        "\n",
        "\n",
        "def infer(original_image):\n",
        "    image = keras.preprocessing.image.img_to_array(original_image)\n",
        "    image = image.astype(\"float32\") / 255.0\n",
        "    image = np.expand_dims(image, axis=0)\n",
        "    output_image = zero_dce_model(image)\n",
        "    output_image = tf.cast((output_image[0, :, :, :] * 255), dtype=np.uint8)\n",
        "    output_image = Image.fromarray(output_image.numpy())\n",
        "    return output_image\n",
        "\n",
        "wandb.init(project=\"low_light_zero_DCE\", job_type=\"predictions\")\n",
        "\n",
        "table = wandb.Table(columns=[\"Original\", \"PIL Autocontrast\", \"Enhanced\"])\n",
        "for val_image_file in test_low_light_images:\n",
        "    original_image = Image.open(val_image_file)\n",
        "    enhanced_image = infer(original_image)\n",
        "    table.add_data(\n",
        "        wandb.Image(np.array(original_image)),\n",
        "        wandb.Image(np.array(ImageOps.autocontrast(original_image))),\n",
        "        wandb.Image(np.array(enhanced_image))\n",
        "    )\n",
        "\n",
        "wandb.log({\"Inference Table\": table})\n",
        "\n",
        "wandb.finish()"
      ]
    },
    {
      "cell_type": "code",
      "execution_count": null,
      "metadata": {
        "colab": {
          "base_uri": "https://localhost:8080/"
        },
        "id": "d00b382b",
        "outputId": "41beb050-29a4-4152-e4c8-b4e56b8cdb6c"
      },
      "outputs": [
        {
          "output_type": "stream",
          "name": "stdout",
          "text": [
            "Create sweep with ID: ep2unrpq\n",
            "Sweep URL: https://wandb.ai/ryunuriadi-bina-nusantara/Low_Light_Image_Enhancement_Tuning/sweeps/ep2unrpq\n"
          ]
        }
      ],
      "source": [
        "\n",
        "sweep_config = {\n",
        "    'method': 'random',\n",
        "    'metric': {\n",
        "        'name': 'val_loss',\n",
        "        'goal': 'minimize'\n",
        "    },\n",
        "    'parameters': {\n",
        "        'learning_rate': {\n",
        "            'values': [1e-3, 1e-4, 5e-4]\n",
        "        },\n",
        "        'batch_size': {\n",
        "            'values': [8, 16, 32]\n",
        "        },\n",
        "        'epochs': {\n",
        "            'values': [10, 20]\n",
        "        }\n",
        "    }\n",
        "}\n",
        "\n",
        "import wandb\n",
        "sweep_id = wandb.sweep(sweep_config, project='Low_Light_Image_Enhancement_Tuning')\n"
      ]
    },
    {
      "cell_type": "code",
      "execution_count": null,
      "metadata": {
        "id": "218736fe"
      },
      "outputs": [],
      "source": [
        "import os\n",
        "import torch\n",
        "import wandb\n",
        "import torchvision.transforms as transforms\n",
        "from torch.utils.data import DataLoader, Dataset\n",
        "from PIL import Image\n",
        "import torch.nn as nn\n",
        "import torch.optim as optim\n",
        "from torchvision.utils import save_image\n",
        "\n",
        "# Define your model here (placeholder)\n",
        "class SimpleCNN(nn.Module):\n",
        "    def __init__(self):\n",
        "        super(SimpleCNN, self).__init__()\n",
        "        self.net = nn.Sequential(\n",
        "            nn.Conv2d(3, 64, 3, padding=1), nn.ReLU(),\n",
        "            nn.Conv2d(64, 3, 3, padding=1)\n",
        "        )\n",
        "\n",
        "    def forward(self, x):\n",
        "        return self.net(x)\n",
        "\n",
        "# Dataset class\n",
        "class LowLightDataset(Dataset):\n",
        "    def __init__(self, image_dir, transform=None):\n",
        "        assert os.path.exists(image_dir), f\"Directory does not exist: {image_dir}\"\n",
        "        self.image_dir = image_dir\n",
        "        self.transform = transform\n",
        "        self.image_files = [f for f in os.listdir(image_dir) if f.endswith(('.png', '.jpg', '.jpeg'))]\n",
        "\n",
        "    def __len__(self):\n",
        "        return len(self.image_files)\n",
        "\n",
        "    def __getitem__(self, idx):\n",
        "        img_path = os.path.join(self.image_dir, self.image_files[idx])\n",
        "        image = Image.open(img_path).convert(\"RGB\")\n",
        "        if self.transform:\n",
        "            image = self.transform(image)\n",
        "        return image, image  # for autoencoder: input == target\n",
        "\n",
        "# Main training function\n",
        "def train():\n",
        "    wandb.init()\n",
        "    config = wandb.config\n",
        "\n",
        "    device = torch.device(\"cuda\" if torch.cuda.is_available() else \"cpu\")\n",
        "\n",
        "    transform = transforms.Compose([\n",
        "        transforms.Resize((256, 256)),\n",
        "        transforms.ToTensor()\n",
        "    ])\n",
        "\n",
        "    # Set correct paths\n",
        "    train_dataset = LowLightDataset(image_dir='/content/dataset/train', transform=transform)\n",
        "    val_dataset = LowLightDataset(image_dir='/content/dataset/val', transform=transform)\n",
        "\n",
        "    train_loader = DataLoader(train_dataset, batch_size=config.batch_size, shuffle=True)\n",
        "    val_loader = DataLoader(val_dataset, batch_size=config.batch_size, shuffle=False)\n",
        "\n",
        "    model = SimpleCNN().to(device)\n",
        "    criterion = nn.MSELoss()\n",
        "    optimizer = optim.Adam(model.parameters(), lr=config.learning_rate)\n",
        "\n",
        "    for epoch in range(config.epochs):\n",
        "        model.train()\n",
        "        total_loss = 0.0\n",
        "        for inputs, targets in train_loader:\n",
        "            inputs, targets = inputs.to(device), targets.to(device)\n",
        "\n",
        "            optimizer.zero_grad()\n",
        "            outputs = model(inputs)\n",
        "            loss = criterion(outputs, targets)\n",
        "            loss.backward()\n",
        "            optimizer.step()\n",
        "\n",
        "            total_loss += loss.item()\n",
        "\n",
        "        avg_loss = total_loss / len(train_loader)\n",
        "        wandb.log({\"train_loss\": avg_loss, \"epoch\": epoch + 1})\n",
        "\n",
        "        # Validation\n",
        "        model.eval()\n",
        "        val_loss = 0.0\n",
        "        with torch.no_grad():\n",
        "            for inputs, targets in val_loader:\n",
        "                inputs, targets = inputs.to(device), targets.to(device)\n",
        "                outputs = model(inputs)\n",
        "                loss = criterion(outputs, targets)\n",
        "                val_loss += loss.item()\n",
        "\n",
        "        avg_val_loss = val_loss / len(val_loader)\n",
        "        wandb.log({\"val_loss\": avg_val_loss})\n",
        "\n",
        "        print(f\"Epoch [{epoch+1}/{config.epochs}] Train Loss: {avg_loss:.4f}, Val Loss: {avg_val_loss:.4f}\")\n",
        "\n",
        "        # Save sample output\n",
        "        if epoch % 5 == 0:\n",
        "            save_image(outputs[:4], f\"output_epoch_{epoch+1}.png\")\n",
        "            wandb.save(f\"output_epoch_{epoch+1}.png\")\n"
      ]
    },
    {
      "cell_type": "code",
      "execution_count": null,
      "metadata": {
        "colab": {
          "base_uri": "https://localhost:8080/"
        },
        "id": "B9v4DrRstCBH",
        "outputId": "7b229108-5d9b-4cb5-bc5d-cc6923499ab4"
      },
      "outputs": [
        {
          "output_type": "stream",
          "name": "stdout",
          "text": [
            "Populating /content/dataset/train with 400 images...\n",
            "Populating /content/dataset/val with 85 images...\n",
            "Dataset directories populated for PyTorch sweep.\n",
            "First 5 files in /content/dataset/train: ['162.png', '257.png', '67.png', '592.png', '682.png']\n",
            "First 5 files in /content/dataset/val: ['87.png', '765.png', '80.png', '737.png', '729.png']\n"
          ]
        }
      ],
      "source": [
        "# Source from cell with id: \"O4zRhecfYDGr\"\n",
        "import os\n",
        "import shutil\n",
        "from glob import glob\n",
        "\n",
        "# Ensure critical variables from cell 6 (execution_count: 27) are defined or re-defined.\n",
        "# This makes the cell more robust if run independently or if agent context is tricky.\n",
        "if 'MAX_TRAIN_IMAGES' not in globals():\n",
        "    MAX_TRAIN_IMAGES = 400 # This was defined in cell 6\n",
        "if 'train_low_light_images' not in globals() or 'val_low_light_images' not in globals():\n",
        "    print(\"train_low_light_images or val_low_light_images not in globals. Redefining them.\")\n",
        "    # These paths assume the current working directory is /content/, which is typical for Colab.\n",
        "    # The lol_dataset was unzipped here by cell 5.\n",
        "    train_low_light_images = sorted(glob(\"./lol_dataset/our485/low/*\"))[:MAX_TRAIN_IMAGES]\n",
        "    val_low_light_images = sorted(glob(\"./lol_dataset/our485/low/*\"))[MAX_TRAIN_IMAGES:]\n",
        "\n",
        "target_train_dir = '/content/dataset/train'\n",
        "target_val_dir = '/content/dataset/val'\n",
        "\n",
        "os.makedirs(target_train_dir, exist_ok=True)\n",
        "os.makedirs(target_val_dir, exist_ok=True)\n",
        "\n",
        "print(f\"Populating {target_train_dir} with {len(train_low_light_images)} images...\")\n",
        "for img_path in train_low_light_images:\n",
        "    shutil.copy(img_path, target_train_dir)\n",
        "\n",
        "print(f\"Populating {target_val_dir} with {len(val_low_light_images)} images...\")\n",
        "for img_path in val_low_light_images:\n",
        "    shutil.copy(img_path, target_val_dir)\n",
        "\n",
        "print(\"Dataset directories populated for PyTorch sweep.\")\n",
        "\n",
        "# Optional: Verify a few files exist to confirm population\n",
        "if os.path.exists(target_train_dir) and os.listdir(target_train_dir):\n",
        "    print(f\"First 5 files in {target_train_dir}: {os.listdir(target_train_dir)[:5]}\")\n",
        "if os.path.exists(target_val_dir) and os.listdir(target_val_dir):\n",
        "    print(f\"First 5 files in {target_val_dir}: {os.listdir(target_val_dir)[:5]}\")"
      ]
    },
    {
      "cell_type": "code",
      "execution_count": null,
      "metadata": {
        "id": "a92d0095",
        "colab": {
          "base_uri": "https://localhost:8080/",
          "height": 1000
        },
        "outputId": "9396bbca-a5fb-4220-92f7-8deb8c8f513b"
      },
      "outputs": [
        {
          "output_type": "stream",
          "name": "stderr",
          "text": [
            "\u001b[34m\u001b[1mwandb\u001b[0m: Agent Starting Run: vvb7pmuy with config:\n",
            "\u001b[34m\u001b[1mwandb\u001b[0m: \tbatch_size: 8\n",
            "\u001b[34m\u001b[1mwandb\u001b[0m: \tepochs: 20\n",
            "\u001b[34m\u001b[1mwandb\u001b[0m: \tlearning_rate: 0.0001\n"
          ]
        },
        {
          "output_type": "display_data",
          "data": {
            "text/plain": [
              "<IPython.core.display.HTML object>"
            ],
            "text/html": [
              "Tracking run with wandb version 0.20.1"
            ]
          },
          "metadata": {}
        },
        {
          "output_type": "display_data",
          "data": {
            "text/plain": [
              "<IPython.core.display.HTML object>"
            ],
            "text/html": [
              "Run data is saved locally in <code>/content/wandb/run-20250605_091250-vvb7pmuy</code>"
            ]
          },
          "metadata": {}
        },
        {
          "output_type": "display_data",
          "data": {
            "text/plain": [
              "<IPython.core.display.HTML object>"
            ],
            "text/html": [
              "Syncing run <strong><a href='https://wandb.ai/ryunuriadi-bina-nusantara/Low_Light_Image_Enhancement_Tuning/runs/vvb7pmuy' target=\"_blank\">warm-sweep-1</a></strong> to <a href='https://wandb.ai/ryunuriadi-bina-nusantara/Low_Light_Image_Enhancement_Tuning' target=\"_blank\">Weights & Biases</a> (<a href='https://wandb.me/developer-guide' target=\"_blank\">docs</a>)<br>Sweep page: <a href='https://wandb.ai/ryunuriadi-bina-nusantara/Low_Light_Image_Enhancement_Tuning/sweeps/ep2unrpq' target=\"_blank\">https://wandb.ai/ryunuriadi-bina-nusantara/Low_Light_Image_Enhancement_Tuning/sweeps/ep2unrpq</a>"
            ]
          },
          "metadata": {}
        },
        {
          "output_type": "display_data",
          "data": {
            "text/plain": [
              "<IPython.core.display.HTML object>"
            ],
            "text/html": [
              " View project at <a href='https://wandb.ai/ryunuriadi-bina-nusantara/Low_Light_Image_Enhancement_Tuning' target=\"_blank\">https://wandb.ai/ryunuriadi-bina-nusantara/Low_Light_Image_Enhancement_Tuning</a>"
            ]
          },
          "metadata": {}
        },
        {
          "output_type": "display_data",
          "data": {
            "text/plain": [
              "<IPython.core.display.HTML object>"
            ],
            "text/html": [
              " View sweep at <a href='https://wandb.ai/ryunuriadi-bina-nusantara/Low_Light_Image_Enhancement_Tuning/sweeps/ep2unrpq' target=\"_blank\">https://wandb.ai/ryunuriadi-bina-nusantara/Low_Light_Image_Enhancement_Tuning/sweeps/ep2unrpq</a>"
            ]
          },
          "metadata": {}
        },
        {
          "output_type": "display_data",
          "data": {
            "text/plain": [
              "<IPython.core.display.HTML object>"
            ],
            "text/html": [
              " View run at <a href='https://wandb.ai/ryunuriadi-bina-nusantara/Low_Light_Image_Enhancement_Tuning/runs/vvb7pmuy' target=\"_blank\">https://wandb.ai/ryunuriadi-bina-nusantara/Low_Light_Image_Enhancement_Tuning/runs/vvb7pmuy</a>"
            ]
          },
          "metadata": {}
        },
        {
          "output_type": "stream",
          "name": "stdout",
          "text": [
            "Epoch [1/20] Train Loss: 0.0026, Val Loss: 0.0010\n",
            "Epoch [2/20] Train Loss: 0.0007, Val Loss: 0.0004\n",
            "Epoch [3/20] Train Loss: 0.0004, Val Loss: 0.0003\n",
            "Epoch [4/20] Train Loss: 0.0003, Val Loss: 0.0003\n",
            "Epoch [5/20] Train Loss: 0.0003, Val Loss: 0.0002\n",
            "Epoch [6/20] Train Loss: 0.0002, Val Loss: 0.0002\n",
            "Epoch [7/20] Train Loss: 0.0002, Val Loss: 0.0002\n",
            "Epoch [8/20] Train Loss: 0.0001, Val Loss: 0.0002\n",
            "Epoch [9/20] Train Loss: 0.0001, Val Loss: 0.0001\n",
            "Epoch [10/20] Train Loss: 0.0001, Val Loss: 0.0001\n",
            "Epoch [11/20] Train Loss: 0.0001, Val Loss: 0.0001\n",
            "Epoch [12/20] Train Loss: 0.0001, Val Loss: 0.0001\n",
            "Epoch [13/20] Train Loss: 0.0001, Val Loss: 0.0001\n",
            "Epoch [14/20] Train Loss: 0.0001, Val Loss: 0.0001\n",
            "Epoch [15/20] Train Loss: 0.0001, Val Loss: 0.0001\n",
            "Epoch [16/20] Train Loss: 0.0001, Val Loss: 0.0001\n",
            "Epoch [17/20] Train Loss: 0.0001, Val Loss: 0.0001\n",
            "Epoch [18/20] Train Loss: 0.0001, Val Loss: 0.0001\n",
            "Epoch [19/20] Train Loss: 0.0000, Val Loss: 0.0001\n",
            "Epoch [20/20] Train Loss: 0.0000, Val Loss: 0.0000\n"
          ]
        },
        {
          "output_type": "display_data",
          "data": {
            "text/plain": [
              "<IPython.core.display.HTML object>"
            ],
            "text/html": []
          },
          "metadata": {}
        },
        {
          "output_type": "display_data",
          "data": {
            "text/plain": [
              "<IPython.core.display.HTML object>"
            ],
            "text/html": [
              "<br>    <style><br>        .wandb-row {<br>            display: flex;<br>            flex-direction: row;<br>            flex-wrap: wrap;<br>            justify-content: flex-start;<br>            width: 100%;<br>        }<br>        .wandb-col {<br>            display: flex;<br>            flex-direction: column;<br>            flex-basis: 100%;<br>            flex: 1;<br>            padding: 10px;<br>        }<br>    </style><br><div class=\"wandb-row\"><div class=\"wandb-col\"><h3>Run history:</h3><br/><table class=\"wandb\"><tr><td>epoch</td><td>▁▁▂▂▂▃▃▄▄▄▅▅▅▆▆▇▇▇██</td></tr><tr><td>train_loss</td><td>█▃▂▂▂▁▁▁▁▁▁▁▁▁▁▁▁▁▁▁</td></tr><tr><td>val_loss</td><td>█▄▃▃▂▂▂▂▂▂▁▁▁▁▁▁▁▁▁▁</td></tr></table><br/></div><div class=\"wandb-col\"><h3>Run summary:</h3><br/><table class=\"wandb\"><tr><td>epoch</td><td>20</td></tr><tr><td>train_loss</td><td>4e-05</td></tr><tr><td>val_loss</td><td>5e-05</td></tr></table><br/></div></div>"
            ]
          },
          "metadata": {}
        },
        {
          "output_type": "display_data",
          "data": {
            "text/plain": [
              "<IPython.core.display.HTML object>"
            ],
            "text/html": [
              " View run <strong style=\"color:#cdcd00\">warm-sweep-1</strong> at: <a href='https://wandb.ai/ryunuriadi-bina-nusantara/Low_Light_Image_Enhancement_Tuning/runs/vvb7pmuy' target=\"_blank\">https://wandb.ai/ryunuriadi-bina-nusantara/Low_Light_Image_Enhancement_Tuning/runs/vvb7pmuy</a><br> View project at: <a href='https://wandb.ai/ryunuriadi-bina-nusantara/Low_Light_Image_Enhancement_Tuning' target=\"_blank\">https://wandb.ai/ryunuriadi-bina-nusantara/Low_Light_Image_Enhancement_Tuning</a><br>Synced 5 W&B file(s), 0 media file(s), 0 artifact file(s) and 4 other file(s)"
            ]
          },
          "metadata": {}
        },
        {
          "output_type": "display_data",
          "data": {
            "text/plain": [
              "<IPython.core.display.HTML object>"
            ],
            "text/html": [
              "Find logs at: <code>./wandb/run-20250605_091250-vvb7pmuy/logs</code>"
            ]
          },
          "metadata": {}
        },
        {
          "output_type": "stream",
          "name": "stderr",
          "text": [
            "\u001b[34m\u001b[1mwandb\u001b[0m: Agent Starting Run: b3im8ndn with config:\n",
            "\u001b[34m\u001b[1mwandb\u001b[0m: \tbatch_size: 32\n",
            "\u001b[34m\u001b[1mwandb\u001b[0m: \tepochs: 20\n",
            "\u001b[34m\u001b[1mwandb\u001b[0m: \tlearning_rate: 0.0001\n"
          ]
        },
        {
          "output_type": "display_data",
          "data": {
            "text/plain": [
              "<IPython.core.display.HTML object>"
            ],
            "text/html": [
              "Tracking run with wandb version 0.20.1"
            ]
          },
          "metadata": {}
        },
        {
          "output_type": "display_data",
          "data": {
            "text/plain": [
              "<IPython.core.display.HTML object>"
            ],
            "text/html": [
              "Run data is saved locally in <code>/content/wandb/run-20250605_091458-b3im8ndn</code>"
            ]
          },
          "metadata": {}
        },
        {
          "output_type": "display_data",
          "data": {
            "text/plain": [
              "<IPython.core.display.HTML object>"
            ],
            "text/html": [
              "Syncing run <strong><a href='https://wandb.ai/ryunuriadi-bina-nusantara/Low_Light_Image_Enhancement_Tuning/runs/b3im8ndn' target=\"_blank\">playful-sweep-2</a></strong> to <a href='https://wandb.ai/ryunuriadi-bina-nusantara/Low_Light_Image_Enhancement_Tuning' target=\"_blank\">Weights & Biases</a> (<a href='https://wandb.me/developer-guide' target=\"_blank\">docs</a>)<br>Sweep page: <a href='https://wandb.ai/ryunuriadi-bina-nusantara/Low_Light_Image_Enhancement_Tuning/sweeps/ep2unrpq' target=\"_blank\">https://wandb.ai/ryunuriadi-bina-nusantara/Low_Light_Image_Enhancement_Tuning/sweeps/ep2unrpq</a>"
            ]
          },
          "metadata": {}
        },
        {
          "output_type": "display_data",
          "data": {
            "text/plain": [
              "<IPython.core.display.HTML object>"
            ],
            "text/html": [
              " View project at <a href='https://wandb.ai/ryunuriadi-bina-nusantara/Low_Light_Image_Enhancement_Tuning' target=\"_blank\">https://wandb.ai/ryunuriadi-bina-nusantara/Low_Light_Image_Enhancement_Tuning</a>"
            ]
          },
          "metadata": {}
        },
        {
          "output_type": "display_data",
          "data": {
            "text/plain": [
              "<IPython.core.display.HTML object>"
            ],
            "text/html": [
              " View sweep at <a href='https://wandb.ai/ryunuriadi-bina-nusantara/Low_Light_Image_Enhancement_Tuning/sweeps/ep2unrpq' target=\"_blank\">https://wandb.ai/ryunuriadi-bina-nusantara/Low_Light_Image_Enhancement_Tuning/sweeps/ep2unrpq</a>"
            ]
          },
          "metadata": {}
        },
        {
          "output_type": "display_data",
          "data": {
            "text/plain": [
              "<IPython.core.display.HTML object>"
            ],
            "text/html": [
              " View run at <a href='https://wandb.ai/ryunuriadi-bina-nusantara/Low_Light_Image_Enhancement_Tuning/runs/b3im8ndn' target=\"_blank\">https://wandb.ai/ryunuriadi-bina-nusantara/Low_Light_Image_Enhancement_Tuning/runs/b3im8ndn</a>"
            ]
          },
          "metadata": {}
        },
        {
          "output_type": "stream",
          "name": "stdout",
          "text": [
            "Epoch [1/20] Train Loss: 0.0046, Val Loss: 0.0030\n",
            "Epoch [2/20] Train Loss: 0.0033, Val Loss: 0.0022\n",
            "Epoch [3/20] Train Loss: 0.0025, Val Loss: 0.0016\n",
            "Epoch [4/20] Train Loss: 0.0017, Val Loss: 0.0011\n",
            "Epoch [5/20] Train Loss: 0.0012, Val Loss: 0.0008\n",
            "Epoch [6/20] Train Loss: 0.0008, Val Loss: 0.0005\n",
            "Epoch [7/20] Train Loss: 0.0005, Val Loss: 0.0004\n",
            "Epoch [8/20] Train Loss: 0.0004, Val Loss: 0.0004\n",
            "Epoch [9/20] Train Loss: 0.0004, Val Loss: 0.0003\n",
            "Epoch [10/20] Train Loss: 0.0003, Val Loss: 0.0003\n",
            "Epoch [11/20] Train Loss: 0.0003, Val Loss: 0.0003\n",
            "Epoch [12/20] Train Loss: 0.0003, Val Loss: 0.0003\n",
            "Epoch [13/20] Train Loss: 0.0003, Val Loss: 0.0003\n",
            "Epoch [14/20] Train Loss: 0.0002, Val Loss: 0.0002\n",
            "Epoch [15/20] Train Loss: 0.0002, Val Loss: 0.0002\n",
            "Epoch [16/20] Train Loss: 0.0002, Val Loss: 0.0002\n",
            "Epoch [17/20] Train Loss: 0.0002, Val Loss: 0.0002\n",
            "Epoch [18/20] Train Loss: 0.0002, Val Loss: 0.0002\n",
            "Epoch [19/20] Train Loss: 0.0002, Val Loss: 0.0002\n",
            "Epoch [20/20] Train Loss: 0.0002, Val Loss: 0.0002\n"
          ]
        },
        {
          "output_type": "display_data",
          "data": {
            "text/plain": [
              "<IPython.core.display.HTML object>"
            ],
            "text/html": []
          },
          "metadata": {}
        },
        {
          "output_type": "display_data",
          "data": {
            "text/plain": [
              "<IPython.core.display.HTML object>"
            ],
            "text/html": [
              "<br>    <style><br>        .wandb-row {<br>            display: flex;<br>            flex-direction: row;<br>            flex-wrap: wrap;<br>            justify-content: flex-start;<br>            width: 100%;<br>        }<br>        .wandb-col {<br>            display: flex;<br>            flex-direction: column;<br>            flex-basis: 100%;<br>            flex: 1;<br>            padding: 10px;<br>        }<br>    </style><br><div class=\"wandb-row\"><div class=\"wandb-col\"><h3>Run history:</h3><br/><table class=\"wandb\"><tr><td>epoch</td><td>▁▁▂▂▂▃▃▄▄▄▅▅▅▆▆▇▇▇██</td></tr><tr><td>train_loss</td><td>█▆▅▃▃▂▂▁▁▁▁▁▁▁▁▁▁▁▁▁</td></tr><tr><td>val_loss</td><td>█▆▅▃▃▂▂▁▁▁▁▁▁▁▁▁▁▁▁▁</td></tr></table><br/></div><div class=\"wandb-col\"><h3>Run summary:</h3><br/><table class=\"wandb\"><tr><td>epoch</td><td>20</td></tr><tr><td>train_loss</td><td>0.00016</td></tr><tr><td>val_loss</td><td>0.00017</td></tr></table><br/></div></div>"
            ]
          },
          "metadata": {}
        },
        {
          "output_type": "display_data",
          "data": {
            "text/plain": [
              "<IPython.core.display.HTML object>"
            ],
            "text/html": [
              " View run <strong style=\"color:#cdcd00\">playful-sweep-2</strong> at: <a href='https://wandb.ai/ryunuriadi-bina-nusantara/Low_Light_Image_Enhancement_Tuning/runs/b3im8ndn' target=\"_blank\">https://wandb.ai/ryunuriadi-bina-nusantara/Low_Light_Image_Enhancement_Tuning/runs/b3im8ndn</a><br> View project at: <a href='https://wandb.ai/ryunuriadi-bina-nusantara/Low_Light_Image_Enhancement_Tuning' target=\"_blank\">https://wandb.ai/ryunuriadi-bina-nusantara/Low_Light_Image_Enhancement_Tuning</a><br>Synced 5 W&B file(s), 0 media file(s), 0 artifact file(s) and 4 other file(s)"
            ]
          },
          "metadata": {}
        },
        {
          "output_type": "display_data",
          "data": {
            "text/plain": [
              "<IPython.core.display.HTML object>"
            ],
            "text/html": [
              "Find logs at: <code>./wandb/run-20250605_091458-b3im8ndn/logs</code>"
            ]
          },
          "metadata": {}
        },
        {
          "output_type": "stream",
          "name": "stderr",
          "text": [
            "\u001b[34m\u001b[1mwandb\u001b[0m: Agent Starting Run: uhvrhekr with config:\n",
            "\u001b[34m\u001b[1mwandb\u001b[0m: \tbatch_size: 8\n",
            "\u001b[34m\u001b[1mwandb\u001b[0m: \tepochs: 20\n",
            "\u001b[34m\u001b[1mwandb\u001b[0m: \tlearning_rate: 0.0005\n"
          ]
        },
        {
          "output_type": "display_data",
          "data": {
            "text/plain": [
              "<IPython.core.display.HTML object>"
            ],
            "text/html": [
              "Tracking run with wandb version 0.20.1"
            ]
          },
          "metadata": {}
        },
        {
          "output_type": "display_data",
          "data": {
            "text/plain": [
              "<IPython.core.display.HTML object>"
            ],
            "text/html": [
              "Run data is saved locally in <code>/content/wandb/run-20250605_091655-uhvrhekr</code>"
            ]
          },
          "metadata": {}
        },
        {
          "output_type": "display_data",
          "data": {
            "text/plain": [
              "<IPython.core.display.HTML object>"
            ],
            "text/html": [
              "Syncing run <strong><a href='https://wandb.ai/ryunuriadi-bina-nusantara/Low_Light_Image_Enhancement_Tuning/runs/uhvrhekr' target=\"_blank\">good-sweep-3</a></strong> to <a href='https://wandb.ai/ryunuriadi-bina-nusantara/Low_Light_Image_Enhancement_Tuning' target=\"_blank\">Weights & Biases</a> (<a href='https://wandb.me/developer-guide' target=\"_blank\">docs</a>)<br>Sweep page: <a href='https://wandb.ai/ryunuriadi-bina-nusantara/Low_Light_Image_Enhancement_Tuning/sweeps/ep2unrpq' target=\"_blank\">https://wandb.ai/ryunuriadi-bina-nusantara/Low_Light_Image_Enhancement_Tuning/sweeps/ep2unrpq</a>"
            ]
          },
          "metadata": {}
        },
        {
          "output_type": "display_data",
          "data": {
            "text/plain": [
              "<IPython.core.display.HTML object>"
            ],
            "text/html": [
              " View project at <a href='https://wandb.ai/ryunuriadi-bina-nusantara/Low_Light_Image_Enhancement_Tuning' target=\"_blank\">https://wandb.ai/ryunuriadi-bina-nusantara/Low_Light_Image_Enhancement_Tuning</a>"
            ]
          },
          "metadata": {}
        },
        {
          "output_type": "display_data",
          "data": {
            "text/plain": [
              "<IPython.core.display.HTML object>"
            ],
            "text/html": [
              " View sweep at <a href='https://wandb.ai/ryunuriadi-bina-nusantara/Low_Light_Image_Enhancement_Tuning/sweeps/ep2unrpq' target=\"_blank\">https://wandb.ai/ryunuriadi-bina-nusantara/Low_Light_Image_Enhancement_Tuning/sweeps/ep2unrpq</a>"
            ]
          },
          "metadata": {}
        },
        {
          "output_type": "display_data",
          "data": {
            "text/plain": [
              "<IPython.core.display.HTML object>"
            ],
            "text/html": [
              " View run at <a href='https://wandb.ai/ryunuriadi-bina-nusantara/Low_Light_Image_Enhancement_Tuning/runs/uhvrhekr' target=\"_blank\">https://wandb.ai/ryunuriadi-bina-nusantara/Low_Light_Image_Enhancement_Tuning/runs/uhvrhekr</a>"
            ]
          },
          "metadata": {}
        },
        {
          "output_type": "stream",
          "name": "stdout",
          "text": [
            "Epoch [1/20] Train Loss: 0.0013, Val Loss: 0.0002\n",
            "Epoch [2/20] Train Loss: 0.0001, Val Loss: 0.0002\n",
            "Epoch [3/20] Train Loss: 0.0001, Val Loss: 0.0001\n",
            "Epoch [4/20] Train Loss: 0.0001, Val Loss: 0.0001\n",
            "Epoch [5/20] Train Loss: 0.0001, Val Loss: 0.0001\n",
            "Epoch [6/20] Train Loss: 0.0001, Val Loss: 0.0001\n",
            "Epoch [7/20] Train Loss: 0.0000, Val Loss: 0.0000\n",
            "Epoch [8/20] Train Loss: 0.0000, Val Loss: 0.0000\n",
            "Epoch [9/20] Train Loss: 0.0000, Val Loss: 0.0000\n",
            "Epoch [10/20] Train Loss: 0.0000, Val Loss: 0.0000\n",
            "Epoch [11/20] Train Loss: 0.0000, Val Loss: 0.0000\n",
            "Epoch [12/20] Train Loss: 0.0000, Val Loss: 0.0000\n",
            "Epoch [13/20] Train Loss: 0.0000, Val Loss: 0.0000\n",
            "Epoch [14/20] Train Loss: 0.0000, Val Loss: 0.0000\n",
            "Epoch [15/20] Train Loss: 0.0000, Val Loss: 0.0000\n",
            "Epoch [16/20] Train Loss: 0.0000, Val Loss: 0.0000\n",
            "Epoch [17/20] Train Loss: 0.0000, Val Loss: 0.0000\n",
            "Epoch [18/20] Train Loss: 0.0000, Val Loss: 0.0000\n",
            "Epoch [19/20] Train Loss: 0.0000, Val Loss: 0.0000\n",
            "Epoch [20/20] Train Loss: 0.0000, Val Loss: 0.0000\n"
          ]
        },
        {
          "output_type": "display_data",
          "data": {
            "text/plain": [
              "<IPython.core.display.HTML object>"
            ],
            "text/html": []
          },
          "metadata": {}
        },
        {
          "output_type": "display_data",
          "data": {
            "text/plain": [
              "<IPython.core.display.HTML object>"
            ],
            "text/html": [
              "<br>    <style><br>        .wandb-row {<br>            display: flex;<br>            flex-direction: row;<br>            flex-wrap: wrap;<br>            justify-content: flex-start;<br>            width: 100%;<br>        }<br>        .wandb-col {<br>            display: flex;<br>            flex-direction: column;<br>            flex-basis: 100%;<br>            flex: 1;<br>            padding: 10px;<br>        }<br>    </style><br><div class=\"wandb-row\"><div class=\"wandb-col\"><h3>Run history:</h3><br/><table class=\"wandb\"><tr><td>epoch</td><td>▁▁▂▂▂▃▃▄▄▄▅▅▅▆▆▇▇▇██</td></tr><tr><td>train_loss</td><td>█▂▁▁▁▁▁▁▁▁▁▁▁▁▁▁▁▁▁▁</td></tr><tr><td>val_loss</td><td>█▆▄▃▃▂▂▂▂▁▁▁▁▁▁▁▁▁▁▁</td></tr></table><br/></div><div class=\"wandb-col\"><h3>Run summary:</h3><br/><table class=\"wandb\"><tr><td>epoch</td><td>20</td></tr><tr><td>train_loss</td><td>1e-05</td></tr><tr><td>val_loss</td><td>1e-05</td></tr></table><br/></div></div>"
            ]
          },
          "metadata": {}
        },
        {
          "output_type": "display_data",
          "data": {
            "text/plain": [
              "<IPython.core.display.HTML object>"
            ],
            "text/html": [
              " View run <strong style=\"color:#cdcd00\">good-sweep-3</strong> at: <a href='https://wandb.ai/ryunuriadi-bina-nusantara/Low_Light_Image_Enhancement_Tuning/runs/uhvrhekr' target=\"_blank\">https://wandb.ai/ryunuriadi-bina-nusantara/Low_Light_Image_Enhancement_Tuning/runs/uhvrhekr</a><br> View project at: <a href='https://wandb.ai/ryunuriadi-bina-nusantara/Low_Light_Image_Enhancement_Tuning' target=\"_blank\">https://wandb.ai/ryunuriadi-bina-nusantara/Low_Light_Image_Enhancement_Tuning</a><br>Synced 5 W&B file(s), 0 media file(s), 0 artifact file(s) and 4 other file(s)"
            ]
          },
          "metadata": {}
        },
        {
          "output_type": "display_data",
          "data": {
            "text/plain": [
              "<IPython.core.display.HTML object>"
            ],
            "text/html": [
              "Find logs at: <code>./wandb/run-20250605_091655-uhvrhekr/logs</code>"
            ]
          },
          "metadata": {}
        },
        {
          "output_type": "stream",
          "name": "stderr",
          "text": [
            "\u001b[34m\u001b[1mwandb\u001b[0m: Agent Starting Run: opzxaand with config:\n",
            "\u001b[34m\u001b[1mwandb\u001b[0m: \tbatch_size: 8\n",
            "\u001b[34m\u001b[1mwandb\u001b[0m: \tepochs: 10\n",
            "\u001b[34m\u001b[1mwandb\u001b[0m: \tlearning_rate: 0.0005\n"
          ]
        },
        {
          "output_type": "display_data",
          "data": {
            "text/plain": [
              "<IPython.core.display.HTML object>"
            ],
            "text/html": [
              "Tracking run with wandb version 0.20.1"
            ]
          },
          "metadata": {}
        },
        {
          "output_type": "display_data",
          "data": {
            "text/plain": [
              "<IPython.core.display.HTML object>"
            ],
            "text/html": [
              "Run data is saved locally in <code>/content/wandb/run-20250605_091901-opzxaand</code>"
            ]
          },
          "metadata": {}
        },
        {
          "output_type": "display_data",
          "data": {
            "text/plain": [
              "<IPython.core.display.HTML object>"
            ],
            "text/html": [
              "Syncing run <strong><a href='https://wandb.ai/ryunuriadi-bina-nusantara/Low_Light_Image_Enhancement_Tuning/runs/opzxaand' target=\"_blank\">hardy-sweep-4</a></strong> to <a href='https://wandb.ai/ryunuriadi-bina-nusantara/Low_Light_Image_Enhancement_Tuning' target=\"_blank\">Weights & Biases</a> (<a href='https://wandb.me/developer-guide' target=\"_blank\">docs</a>)<br>Sweep page: <a href='https://wandb.ai/ryunuriadi-bina-nusantara/Low_Light_Image_Enhancement_Tuning/sweeps/ep2unrpq' target=\"_blank\">https://wandb.ai/ryunuriadi-bina-nusantara/Low_Light_Image_Enhancement_Tuning/sweeps/ep2unrpq</a>"
            ]
          },
          "metadata": {}
        },
        {
          "output_type": "display_data",
          "data": {
            "text/plain": [
              "<IPython.core.display.HTML object>"
            ],
            "text/html": [
              " View project at <a href='https://wandb.ai/ryunuriadi-bina-nusantara/Low_Light_Image_Enhancement_Tuning' target=\"_blank\">https://wandb.ai/ryunuriadi-bina-nusantara/Low_Light_Image_Enhancement_Tuning</a>"
            ]
          },
          "metadata": {}
        },
        {
          "output_type": "display_data",
          "data": {
            "text/plain": [
              "<IPython.core.display.HTML object>"
            ],
            "text/html": [
              " View sweep at <a href='https://wandb.ai/ryunuriadi-bina-nusantara/Low_Light_Image_Enhancement_Tuning/sweeps/ep2unrpq' target=\"_blank\">https://wandb.ai/ryunuriadi-bina-nusantara/Low_Light_Image_Enhancement_Tuning/sweeps/ep2unrpq</a>"
            ]
          },
          "metadata": {}
        },
        {
          "output_type": "display_data",
          "data": {
            "text/plain": [
              "<IPython.core.display.HTML object>"
            ],
            "text/html": [
              " View run at <a href='https://wandb.ai/ryunuriadi-bina-nusantara/Low_Light_Image_Enhancement_Tuning/runs/opzxaand' target=\"_blank\">https://wandb.ai/ryunuriadi-bina-nusantara/Low_Light_Image_Enhancement_Tuning/runs/opzxaand</a>"
            ]
          },
          "metadata": {}
        },
        {
          "output_type": "stream",
          "name": "stdout",
          "text": [
            "Epoch [1/10] Train Loss: 0.0015, Val Loss: 0.0002\n",
            "Epoch [2/10] Train Loss: 0.0002, Val Loss: 0.0001\n",
            "Epoch [3/10] Train Loss: 0.0001, Val Loss: 0.0001\n",
            "Epoch [4/10] Train Loss: 0.0001, Val Loss: 0.0001\n",
            "Epoch [5/10] Train Loss: 0.0001, Val Loss: 0.0001\n",
            "Epoch [6/10] Train Loss: 0.0000, Val Loss: 0.0000\n",
            "Epoch [7/10] Train Loss: 0.0000, Val Loss: 0.0000\n",
            "Epoch [8/10] Train Loss: 0.0000, Val Loss: 0.0000\n",
            "Epoch [9/10] Train Loss: 0.0000, Val Loss: 0.0000\n",
            "Epoch [10/10] Train Loss: 0.0000, Val Loss: 0.0000\n"
          ]
        },
        {
          "output_type": "display_data",
          "data": {
            "text/plain": [
              "<IPython.core.display.HTML object>"
            ],
            "text/html": []
          },
          "metadata": {}
        },
        {
          "output_type": "display_data",
          "data": {
            "text/plain": [
              "<IPython.core.display.HTML object>"
            ],
            "text/html": [
              "<br>    <style><br>        .wandb-row {<br>            display: flex;<br>            flex-direction: row;<br>            flex-wrap: wrap;<br>            justify-content: flex-start;<br>            width: 100%;<br>        }<br>        .wandb-col {<br>            display: flex;<br>            flex-direction: column;<br>            flex-basis: 100%;<br>            flex: 1;<br>            padding: 10px;<br>        }<br>    </style><br><div class=\"wandb-row\"><div class=\"wandb-col\"><h3>Run history:</h3><br/><table class=\"wandb\"><tr><td>epoch</td><td>▁▂▃▃▄▅▆▆▇█</td></tr><tr><td>train_loss</td><td>█▂▁▁▁▁▁▁▁▁</td></tr><tr><td>val_loss</td><td>█▅▄▃▂▂▁▁▁▁</td></tr></table><br/></div><div class=\"wandb-col\"><h3>Run summary:</h3><br/><table class=\"wandb\"><tr><td>epoch</td><td>10</td></tr><tr><td>train_loss</td><td>2e-05</td></tr><tr><td>val_loss</td><td>2e-05</td></tr></table><br/></div></div>"
            ]
          },
          "metadata": {}
        },
        {
          "output_type": "display_data",
          "data": {
            "text/plain": [
              "<IPython.core.display.HTML object>"
            ],
            "text/html": [
              " View run <strong style=\"color:#cdcd00\">hardy-sweep-4</strong> at: <a href='https://wandb.ai/ryunuriadi-bina-nusantara/Low_Light_Image_Enhancement_Tuning/runs/opzxaand' target=\"_blank\">https://wandb.ai/ryunuriadi-bina-nusantara/Low_Light_Image_Enhancement_Tuning/runs/opzxaand</a><br> View project at: <a href='https://wandb.ai/ryunuriadi-bina-nusantara/Low_Light_Image_Enhancement_Tuning' target=\"_blank\">https://wandb.ai/ryunuriadi-bina-nusantara/Low_Light_Image_Enhancement_Tuning</a><br>Synced 5 W&B file(s), 0 media file(s), 0 artifact file(s) and 2 other file(s)"
            ]
          },
          "metadata": {}
        },
        {
          "output_type": "display_data",
          "data": {
            "text/plain": [
              "<IPython.core.display.HTML object>"
            ],
            "text/html": [
              "Find logs at: <code>./wandb/run-20250605_091901-opzxaand/logs</code>"
            ]
          },
          "metadata": {}
        },
        {
          "output_type": "stream",
          "name": "stderr",
          "text": [
            "\u001b[34m\u001b[1mwandb\u001b[0m: Agent Starting Run: spdmgeqm with config:\n",
            "\u001b[34m\u001b[1mwandb\u001b[0m: \tbatch_size: 32\n",
            "\u001b[34m\u001b[1mwandb\u001b[0m: \tepochs: 10\n",
            "\u001b[34m\u001b[1mwandb\u001b[0m: \tlearning_rate: 0.0005\n"
          ]
        },
        {
          "output_type": "display_data",
          "data": {
            "text/plain": [
              "<IPython.core.display.HTML object>"
            ],
            "text/html": [
              "Tracking run with wandb version 0.20.1"
            ]
          },
          "metadata": {}
        },
        {
          "output_type": "display_data",
          "data": {
            "text/plain": [
              "<IPython.core.display.HTML object>"
            ],
            "text/html": [
              "Run data is saved locally in <code>/content/wandb/run-20250605_092008-spdmgeqm</code>"
            ]
          },
          "metadata": {}
        },
        {
          "output_type": "display_data",
          "data": {
            "text/plain": [
              "<IPython.core.display.HTML object>"
            ],
            "text/html": [
              "Syncing run <strong><a href='https://wandb.ai/ryunuriadi-bina-nusantara/Low_Light_Image_Enhancement_Tuning/runs/spdmgeqm' target=\"_blank\">zany-sweep-5</a></strong> to <a href='https://wandb.ai/ryunuriadi-bina-nusantara/Low_Light_Image_Enhancement_Tuning' target=\"_blank\">Weights & Biases</a> (<a href='https://wandb.me/developer-guide' target=\"_blank\">docs</a>)<br>Sweep page: <a href='https://wandb.ai/ryunuriadi-bina-nusantara/Low_Light_Image_Enhancement_Tuning/sweeps/ep2unrpq' target=\"_blank\">https://wandb.ai/ryunuriadi-bina-nusantara/Low_Light_Image_Enhancement_Tuning/sweeps/ep2unrpq</a>"
            ]
          },
          "metadata": {}
        },
        {
          "output_type": "display_data",
          "data": {
            "text/plain": [
              "<IPython.core.display.HTML object>"
            ],
            "text/html": [
              " View project at <a href='https://wandb.ai/ryunuriadi-bina-nusantara/Low_Light_Image_Enhancement_Tuning' target=\"_blank\">https://wandb.ai/ryunuriadi-bina-nusantara/Low_Light_Image_Enhancement_Tuning</a>"
            ]
          },
          "metadata": {}
        },
        {
          "output_type": "display_data",
          "data": {
            "text/plain": [
              "<IPython.core.display.HTML object>"
            ],
            "text/html": [
              " View sweep at <a href='https://wandb.ai/ryunuriadi-bina-nusantara/Low_Light_Image_Enhancement_Tuning/sweeps/ep2unrpq' target=\"_blank\">https://wandb.ai/ryunuriadi-bina-nusantara/Low_Light_Image_Enhancement_Tuning/sweeps/ep2unrpq</a>"
            ]
          },
          "metadata": {}
        },
        {
          "output_type": "display_data",
          "data": {
            "text/plain": [
              "<IPython.core.display.HTML object>"
            ],
            "text/html": [
              " View run at <a href='https://wandb.ai/ryunuriadi-bina-nusantara/Low_Light_Image_Enhancement_Tuning/runs/spdmgeqm' target=\"_blank\">https://wandb.ai/ryunuriadi-bina-nusantara/Low_Light_Image_Enhancement_Tuning/runs/spdmgeqm</a>"
            ]
          },
          "metadata": {}
        },
        {
          "output_type": "stream",
          "name": "stdout",
          "text": [
            "Epoch [1/10] Train Loss: 0.0016, Val Loss: 0.0003\n",
            "Epoch [2/10] Train Loss: 0.0004, Val Loss: 0.0002\n",
            "Epoch [3/10] Train Loss: 0.0002, Val Loss: 0.0002\n",
            "Epoch [4/10] Train Loss: 0.0001, Val Loss: 0.0001\n",
            "Epoch [5/10] Train Loss: 0.0001, Val Loss: 0.0001\n",
            "Epoch [6/10] Train Loss: 0.0001, Val Loss: 0.0001\n",
            "Epoch [7/10] Train Loss: 0.0001, Val Loss: 0.0001\n",
            "Epoch [8/10] Train Loss: 0.0001, Val Loss: 0.0001\n",
            "Epoch [9/10] Train Loss: 0.0001, Val Loss: 0.0001\n",
            "Epoch [10/10] Train Loss: 0.0000, Val Loss: 0.0001\n"
          ]
        },
        {
          "output_type": "display_data",
          "data": {
            "text/plain": [
              "<IPython.core.display.HTML object>"
            ],
            "text/html": []
          },
          "metadata": {}
        },
        {
          "output_type": "display_data",
          "data": {
            "text/plain": [
              "<IPython.core.display.HTML object>"
            ],
            "text/html": [
              "<br>    <style><br>        .wandb-row {<br>            display: flex;<br>            flex-direction: row;<br>            flex-wrap: wrap;<br>            justify-content: flex-start;<br>            width: 100%;<br>        }<br>        .wandb-col {<br>            display: flex;<br>            flex-direction: column;<br>            flex-basis: 100%;<br>            flex: 1;<br>            padding: 10px;<br>        }<br>    </style><br><div class=\"wandb-row\"><div class=\"wandb-col\"><h3>Run history:</h3><br/><table class=\"wandb\"><tr><td>epoch</td><td>▁▂▃▃▄▅▆▆▇█</td></tr><tr><td>train_loss</td><td>█▂▂▁▁▁▁▁▁▁</td></tr><tr><td>val_loss</td><td>█▇▅▃▃▂▂▂▁▁</td></tr></table><br/></div><div class=\"wandb-col\"><h3>Run summary:</h3><br/><table class=\"wandb\"><tr><td>epoch</td><td>10</td></tr><tr><td>train_loss</td><td>5e-05</td></tr><tr><td>val_loss</td><td>6e-05</td></tr></table><br/></div></div>"
            ]
          },
          "metadata": {}
        },
        {
          "output_type": "display_data",
          "data": {
            "text/plain": [
              "<IPython.core.display.HTML object>"
            ],
            "text/html": [
              " View run <strong style=\"color:#cdcd00\">zany-sweep-5</strong> at: <a href='https://wandb.ai/ryunuriadi-bina-nusantara/Low_Light_Image_Enhancement_Tuning/runs/spdmgeqm' target=\"_blank\">https://wandb.ai/ryunuriadi-bina-nusantara/Low_Light_Image_Enhancement_Tuning/runs/spdmgeqm</a><br> View project at: <a href='https://wandb.ai/ryunuriadi-bina-nusantara/Low_Light_Image_Enhancement_Tuning' target=\"_blank\">https://wandb.ai/ryunuriadi-bina-nusantara/Low_Light_Image_Enhancement_Tuning</a><br>Synced 5 W&B file(s), 0 media file(s), 0 artifact file(s) and 2 other file(s)"
            ]
          },
          "metadata": {}
        },
        {
          "output_type": "display_data",
          "data": {
            "text/plain": [
              "<IPython.core.display.HTML object>"
            ],
            "text/html": [
              "Find logs at: <code>./wandb/run-20250605_092008-spdmgeqm/logs</code>"
            ]
          },
          "metadata": {}
        },
        {
          "output_type": "stream",
          "name": "stderr",
          "text": [
            "\u001b[34m\u001b[1mwandb\u001b[0m: Agent Starting Run: 9fo8equ5 with config:\n",
            "\u001b[34m\u001b[1mwandb\u001b[0m: \tbatch_size: 8\n",
            "\u001b[34m\u001b[1mwandb\u001b[0m: \tepochs: 20\n",
            "\u001b[34m\u001b[1mwandb\u001b[0m: \tlearning_rate: 0.0001\n"
          ]
        },
        {
          "output_type": "display_data",
          "data": {
            "text/plain": [
              "<IPython.core.display.HTML object>"
            ],
            "text/html": [
              "Tracking run with wandb version 0.20.1"
            ]
          },
          "metadata": {}
        },
        {
          "output_type": "display_data",
          "data": {
            "text/plain": [
              "<IPython.core.display.HTML object>"
            ],
            "text/html": [
              "Run data is saved locally in <code>/content/wandb/run-20250605_092109-9fo8equ5</code>"
            ]
          },
          "metadata": {}
        },
        {
          "output_type": "display_data",
          "data": {
            "text/plain": [
              "<IPython.core.display.HTML object>"
            ],
            "text/html": [
              "Syncing run <strong><a href='https://wandb.ai/ryunuriadi-bina-nusantara/Low_Light_Image_Enhancement_Tuning/runs/9fo8equ5' target=\"_blank\">comfy-sweep-6</a></strong> to <a href='https://wandb.ai/ryunuriadi-bina-nusantara/Low_Light_Image_Enhancement_Tuning' target=\"_blank\">Weights & Biases</a> (<a href='https://wandb.me/developer-guide' target=\"_blank\">docs</a>)<br>Sweep page: <a href='https://wandb.ai/ryunuriadi-bina-nusantara/Low_Light_Image_Enhancement_Tuning/sweeps/ep2unrpq' target=\"_blank\">https://wandb.ai/ryunuriadi-bina-nusantara/Low_Light_Image_Enhancement_Tuning/sweeps/ep2unrpq</a>"
            ]
          },
          "metadata": {}
        },
        {
          "output_type": "display_data",
          "data": {
            "text/plain": [
              "<IPython.core.display.HTML object>"
            ],
            "text/html": [
              " View project at <a href='https://wandb.ai/ryunuriadi-bina-nusantara/Low_Light_Image_Enhancement_Tuning' target=\"_blank\">https://wandb.ai/ryunuriadi-bina-nusantara/Low_Light_Image_Enhancement_Tuning</a>"
            ]
          },
          "metadata": {}
        },
        {
          "output_type": "display_data",
          "data": {
            "text/plain": [
              "<IPython.core.display.HTML object>"
            ],
            "text/html": [
              " View sweep at <a href='https://wandb.ai/ryunuriadi-bina-nusantara/Low_Light_Image_Enhancement_Tuning/sweeps/ep2unrpq' target=\"_blank\">https://wandb.ai/ryunuriadi-bina-nusantara/Low_Light_Image_Enhancement_Tuning/sweeps/ep2unrpq</a>"
            ]
          },
          "metadata": {}
        },
        {
          "output_type": "display_data",
          "data": {
            "text/plain": [
              "<IPython.core.display.HTML object>"
            ],
            "text/html": [
              " View run at <a href='https://wandb.ai/ryunuriadi-bina-nusantara/Low_Light_Image_Enhancement_Tuning/runs/9fo8equ5' target=\"_blank\">https://wandb.ai/ryunuriadi-bina-nusantara/Low_Light_Image_Enhancement_Tuning/runs/9fo8equ5</a>"
            ]
          },
          "metadata": {}
        },
        {
          "output_type": "stream",
          "name": "stdout",
          "text": [
            "Epoch [1/20] Train Loss: 0.0031, Val Loss: 0.0009\n",
            "Epoch [2/20] Train Loss: 0.0007, Val Loss: 0.0004\n",
            "Epoch [3/20] Train Loss: 0.0003, Val Loss: 0.0003\n",
            "Epoch [4/20] Train Loss: 0.0002, Val Loss: 0.0002\n",
            "Epoch [5/20] Train Loss: 0.0002, Val Loss: 0.0002\n",
            "Epoch [6/20] Train Loss: 0.0001, Val Loss: 0.0001\n",
            "Epoch [7/20] Train Loss: 0.0001, Val Loss: 0.0001\n",
            "Epoch [8/20] Train Loss: 0.0001, Val Loss: 0.0001\n",
            "Epoch [9/20] Train Loss: 0.0001, Val Loss: 0.0001\n",
            "Epoch [10/20] Train Loss: 0.0001, Val Loss: 0.0001\n",
            "Epoch [11/20] Train Loss: 0.0001, Val Loss: 0.0001\n",
            "Epoch [12/20] Train Loss: 0.0001, Val Loss: 0.0001\n",
            "Epoch [13/20] Train Loss: 0.0001, Val Loss: 0.0001\n",
            "Epoch [14/20] Train Loss: 0.0001, Val Loss: 0.0001\n",
            "Epoch [15/20] Train Loss: 0.0001, Val Loss: 0.0001\n",
            "Epoch [16/20] Train Loss: 0.0001, Val Loss: 0.0001\n",
            "Epoch [17/20] Train Loss: 0.0001, Val Loss: 0.0001\n",
            "Epoch [18/20] Train Loss: 0.0001, Val Loss: 0.0001\n",
            "Epoch [19/20] Train Loss: 0.0000, Val Loss: 0.0001\n",
            "Epoch [20/20] Train Loss: 0.0000, Val Loss: 0.0001\n"
          ]
        },
        {
          "output_type": "display_data",
          "data": {
            "text/plain": [
              "<IPython.core.display.HTML object>"
            ],
            "text/html": []
          },
          "metadata": {}
        },
        {
          "output_type": "display_data",
          "data": {
            "text/plain": [
              "<IPython.core.display.HTML object>"
            ],
            "text/html": [
              "<br>    <style><br>        .wandb-row {<br>            display: flex;<br>            flex-direction: row;<br>            flex-wrap: wrap;<br>            justify-content: flex-start;<br>            width: 100%;<br>        }<br>        .wandb-col {<br>            display: flex;<br>            flex-direction: column;<br>            flex-basis: 100%;<br>            flex: 1;<br>            padding: 10px;<br>        }<br>    </style><br><div class=\"wandb-row\"><div class=\"wandb-col\"><h3>Run history:</h3><br/><table class=\"wandb\"><tr><td>epoch</td><td>▁▁▂▂▂▃▃▄▄▄▅▅▅▆▆▇▇▇██</td></tr><tr><td>train_loss</td><td>█▂▂▁▁▁▁▁▁▁▁▁▁▁▁▁▁▁▁▁</td></tr><tr><td>val_loss</td><td>█▄▃▂▂▂▂▁▁▁▁▁▁▁▁▁▁▁▁▁</td></tr></table><br/></div><div class=\"wandb-col\"><h3>Run summary:</h3><br/><table class=\"wandb\"><tr><td>epoch</td><td>20</td></tr><tr><td>train_loss</td><td>5e-05</td></tr><tr><td>val_loss</td><td>5e-05</td></tr></table><br/></div></div>"
            ]
          },
          "metadata": {}
        },
        {
          "output_type": "display_data",
          "data": {
            "text/plain": [
              "<IPython.core.display.HTML object>"
            ],
            "text/html": [
              " View run <strong style=\"color:#cdcd00\">comfy-sweep-6</strong> at: <a href='https://wandb.ai/ryunuriadi-bina-nusantara/Low_Light_Image_Enhancement_Tuning/runs/9fo8equ5' target=\"_blank\">https://wandb.ai/ryunuriadi-bina-nusantara/Low_Light_Image_Enhancement_Tuning/runs/9fo8equ5</a><br> View project at: <a href='https://wandb.ai/ryunuriadi-bina-nusantara/Low_Light_Image_Enhancement_Tuning' target=\"_blank\">https://wandb.ai/ryunuriadi-bina-nusantara/Low_Light_Image_Enhancement_Tuning</a><br>Synced 5 W&B file(s), 0 media file(s), 0 artifact file(s) and 4 other file(s)"
            ]
          },
          "metadata": {}
        },
        {
          "output_type": "display_data",
          "data": {
            "text/plain": [
              "<IPython.core.display.HTML object>"
            ],
            "text/html": [
              "Find logs at: <code>./wandb/run-20250605_092109-9fo8equ5/logs</code>"
            ]
          },
          "metadata": {}
        },
        {
          "output_type": "stream",
          "name": "stderr",
          "text": [
            "\u001b[34m\u001b[1mwandb\u001b[0m: Agent Starting Run: nmt6tq71 with config:\n",
            "\u001b[34m\u001b[1mwandb\u001b[0m: \tbatch_size: 32\n",
            "\u001b[34m\u001b[1mwandb\u001b[0m: \tepochs: 20\n",
            "\u001b[34m\u001b[1mwandb\u001b[0m: \tlearning_rate: 0.001\n"
          ]
        },
        {
          "output_type": "display_data",
          "data": {
            "text/plain": [
              "<IPython.core.display.HTML object>"
            ],
            "text/html": [
              "Tracking run with wandb version 0.20.1"
            ]
          },
          "metadata": {}
        },
        {
          "output_type": "display_data",
          "data": {
            "text/plain": [
              "<IPython.core.display.HTML object>"
            ],
            "text/html": [
              "Run data is saved locally in <code>/content/wandb/run-20250605_092310-nmt6tq71</code>"
            ]
          },
          "metadata": {}
        },
        {
          "output_type": "display_data",
          "data": {
            "text/plain": [
              "<IPython.core.display.HTML object>"
            ],
            "text/html": [
              "Syncing run <strong><a href='https://wandb.ai/ryunuriadi-bina-nusantara/Low_Light_Image_Enhancement_Tuning/runs/nmt6tq71' target=\"_blank\">robust-sweep-7</a></strong> to <a href='https://wandb.ai/ryunuriadi-bina-nusantara/Low_Light_Image_Enhancement_Tuning' target=\"_blank\">Weights & Biases</a> (<a href='https://wandb.me/developer-guide' target=\"_blank\">docs</a>)<br>Sweep page: <a href='https://wandb.ai/ryunuriadi-bina-nusantara/Low_Light_Image_Enhancement_Tuning/sweeps/ep2unrpq' target=\"_blank\">https://wandb.ai/ryunuriadi-bina-nusantara/Low_Light_Image_Enhancement_Tuning/sweeps/ep2unrpq</a>"
            ]
          },
          "metadata": {}
        },
        {
          "output_type": "display_data",
          "data": {
            "text/plain": [
              "<IPython.core.display.HTML object>"
            ],
            "text/html": [
              " View project at <a href='https://wandb.ai/ryunuriadi-bina-nusantara/Low_Light_Image_Enhancement_Tuning' target=\"_blank\">https://wandb.ai/ryunuriadi-bina-nusantara/Low_Light_Image_Enhancement_Tuning</a>"
            ]
          },
          "metadata": {}
        },
        {
          "output_type": "display_data",
          "data": {
            "text/plain": [
              "<IPython.core.display.HTML object>"
            ],
            "text/html": [
              " View sweep at <a href='https://wandb.ai/ryunuriadi-bina-nusantara/Low_Light_Image_Enhancement_Tuning/sweeps/ep2unrpq' target=\"_blank\">https://wandb.ai/ryunuriadi-bina-nusantara/Low_Light_Image_Enhancement_Tuning/sweeps/ep2unrpq</a>"
            ]
          },
          "metadata": {}
        },
        {
          "output_type": "display_data",
          "data": {
            "text/plain": [
              "<IPython.core.display.HTML object>"
            ],
            "text/html": [
              " View run at <a href='https://wandb.ai/ryunuriadi-bina-nusantara/Low_Light_Image_Enhancement_Tuning/runs/nmt6tq71' target=\"_blank\">https://wandb.ai/ryunuriadi-bina-nusantara/Low_Light_Image_Enhancement_Tuning/runs/nmt6tq71</a>"
            ]
          },
          "metadata": {}
        },
        {
          "output_type": "stream",
          "name": "stdout",
          "text": [
            "Epoch [1/20] Train Loss: 0.0037, Val Loss: 0.0005\n",
            "Epoch [2/20] Train Loss: 0.0005, Val Loss: 0.0004\n",
            "Epoch [3/20] Train Loss: 0.0003, Val Loss: 0.0002\n",
            "Epoch [4/20] Train Loss: 0.0002, Val Loss: 0.0002\n",
            "Epoch [5/20] Train Loss: 0.0001, Val Loss: 0.0002\n",
            "Epoch [6/20] Train Loss: 0.0001, Val Loss: 0.0001\n",
            "Epoch [7/20] Train Loss: 0.0001, Val Loss: 0.0001\n",
            "Epoch [8/20] Train Loss: 0.0001, Val Loss: 0.0001\n",
            "Epoch [9/20] Train Loss: 0.0001, Val Loss: 0.0001\n",
            "Epoch [10/20] Train Loss: 0.0000, Val Loss: 0.0001\n",
            "Epoch [11/20] Train Loss: 0.0000, Val Loss: 0.0001\n",
            "Epoch [12/20] Train Loss: 0.0000, Val Loss: 0.0000\n",
            "Epoch [13/20] Train Loss: 0.0000, Val Loss: 0.0000\n",
            "Epoch [14/20] Train Loss: 0.0000, Val Loss: 0.0000\n",
            "Epoch [15/20] Train Loss: 0.0000, Val Loss: 0.0000\n",
            "Epoch [16/20] Train Loss: 0.0000, Val Loss: 0.0000\n",
            "Epoch [17/20] Train Loss: 0.0000, Val Loss: 0.0000\n",
            "Epoch [18/20] Train Loss: 0.0000, Val Loss: 0.0000\n",
            "Epoch [19/20] Train Loss: 0.0000, Val Loss: 0.0000\n",
            "Epoch [20/20] Train Loss: 0.0000, Val Loss: 0.0000\n"
          ]
        },
        {
          "output_type": "display_data",
          "data": {
            "text/plain": [
              "<IPython.core.display.HTML object>"
            ],
            "text/html": []
          },
          "metadata": {}
        },
        {
          "output_type": "display_data",
          "data": {
            "text/plain": [
              "<IPython.core.display.HTML object>"
            ],
            "text/html": [
              "<br>    <style><br>        .wandb-row {<br>            display: flex;<br>            flex-direction: row;<br>            flex-wrap: wrap;<br>            justify-content: flex-start;<br>            width: 100%;<br>        }<br>        .wandb-col {<br>            display: flex;<br>            flex-direction: column;<br>            flex-basis: 100%;<br>            flex: 1;<br>            padding: 10px;<br>        }<br>    </style><br><div class=\"wandb-row\"><div class=\"wandb-col\"><h3>Run history:</h3><br/><table class=\"wandb\"><tr><td>epoch</td><td>▁▁▂▂▂▃▃▄▄▄▅▅▅▆▆▇▇▇██</td></tr><tr><td>train_loss</td><td>█▂▂▁▁▁▁▁▁▁▁▁▁▁▁▁▁▁▁▁</td></tr><tr><td>val_loss</td><td>█▇▄▄▃▂▂▂▂▁▁▁▁▁▁▁▁▁▁▁</td></tr></table><br/></div><div class=\"wandb-col\"><h3>Run summary:</h3><br/><table class=\"wandb\"><tr><td>epoch</td><td>20</td></tr><tr><td>train_loss</td><td>2e-05</td></tr><tr><td>val_loss</td><td>2e-05</td></tr></table><br/></div></div>"
            ]
          },
          "metadata": {}
        },
        {
          "output_type": "display_data",
          "data": {
            "text/plain": [
              "<IPython.core.display.HTML object>"
            ],
            "text/html": [
              " View run <strong style=\"color:#cdcd00\">robust-sweep-7</strong> at: <a href='https://wandb.ai/ryunuriadi-bina-nusantara/Low_Light_Image_Enhancement_Tuning/runs/nmt6tq71' target=\"_blank\">https://wandb.ai/ryunuriadi-bina-nusantara/Low_Light_Image_Enhancement_Tuning/runs/nmt6tq71</a><br> View project at: <a href='https://wandb.ai/ryunuriadi-bina-nusantara/Low_Light_Image_Enhancement_Tuning' target=\"_blank\">https://wandb.ai/ryunuriadi-bina-nusantara/Low_Light_Image_Enhancement_Tuning</a><br>Synced 5 W&B file(s), 0 media file(s), 0 artifact file(s) and 4 other file(s)"
            ]
          },
          "metadata": {}
        },
        {
          "output_type": "display_data",
          "data": {
            "text/plain": [
              "<IPython.core.display.HTML object>"
            ],
            "text/html": [
              "Find logs at: <code>./wandb/run-20250605_092310-nmt6tq71/logs</code>"
            ]
          },
          "metadata": {}
        },
        {
          "output_type": "stream",
          "name": "stderr",
          "text": [
            "\u001b[34m\u001b[1mwandb\u001b[0m: Agent Starting Run: v4sdji0c with config:\n",
            "\u001b[34m\u001b[1mwandb\u001b[0m: \tbatch_size: 16\n",
            "\u001b[34m\u001b[1mwandb\u001b[0m: \tepochs: 20\n",
            "\u001b[34m\u001b[1mwandb\u001b[0m: \tlearning_rate: 0.0001\n"
          ]
        },
        {
          "output_type": "display_data",
          "data": {
            "text/plain": [
              "<IPython.core.display.HTML object>"
            ],
            "text/html": [
              "Tracking run with wandb version 0.20.1"
            ]
          },
          "metadata": {}
        },
        {
          "output_type": "display_data",
          "data": {
            "text/plain": [
              "<IPython.core.display.HTML object>"
            ],
            "text/html": [
              "Run data is saved locally in <code>/content/wandb/run-20250605_092507-v4sdji0c</code>"
            ]
          },
          "metadata": {}
        },
        {
          "output_type": "display_data",
          "data": {
            "text/plain": [
              "<IPython.core.display.HTML object>"
            ],
            "text/html": [
              "Syncing run <strong><a href='https://wandb.ai/ryunuriadi-bina-nusantara/Low_Light_Image_Enhancement_Tuning/runs/v4sdji0c' target=\"_blank\">ethereal-sweep-8</a></strong> to <a href='https://wandb.ai/ryunuriadi-bina-nusantara/Low_Light_Image_Enhancement_Tuning' target=\"_blank\">Weights & Biases</a> (<a href='https://wandb.me/developer-guide' target=\"_blank\">docs</a>)<br>Sweep page: <a href='https://wandb.ai/ryunuriadi-bina-nusantara/Low_Light_Image_Enhancement_Tuning/sweeps/ep2unrpq' target=\"_blank\">https://wandb.ai/ryunuriadi-bina-nusantara/Low_Light_Image_Enhancement_Tuning/sweeps/ep2unrpq</a>"
            ]
          },
          "metadata": {}
        },
        {
          "output_type": "display_data",
          "data": {
            "text/plain": [
              "<IPython.core.display.HTML object>"
            ],
            "text/html": [
              " View project at <a href='https://wandb.ai/ryunuriadi-bina-nusantara/Low_Light_Image_Enhancement_Tuning' target=\"_blank\">https://wandb.ai/ryunuriadi-bina-nusantara/Low_Light_Image_Enhancement_Tuning</a>"
            ]
          },
          "metadata": {}
        },
        {
          "output_type": "display_data",
          "data": {
            "text/plain": [
              "<IPython.core.display.HTML object>"
            ],
            "text/html": [
              " View sweep at <a href='https://wandb.ai/ryunuriadi-bina-nusantara/Low_Light_Image_Enhancement_Tuning/sweeps/ep2unrpq' target=\"_blank\">https://wandb.ai/ryunuriadi-bina-nusantara/Low_Light_Image_Enhancement_Tuning/sweeps/ep2unrpq</a>"
            ]
          },
          "metadata": {}
        },
        {
          "output_type": "display_data",
          "data": {
            "text/plain": [
              "<IPython.core.display.HTML object>"
            ],
            "text/html": [
              " View run at <a href='https://wandb.ai/ryunuriadi-bina-nusantara/Low_Light_Image_Enhancement_Tuning/runs/v4sdji0c' target=\"_blank\">https://wandb.ai/ryunuriadi-bina-nusantara/Low_Light_Image_Enhancement_Tuning/runs/v4sdji0c</a>"
            ]
          },
          "metadata": {}
        },
        {
          "output_type": "stream",
          "name": "stdout",
          "text": [
            "Epoch [1/20] Train Loss: 0.0037, Val Loss: 0.0025\n",
            "Epoch [2/20] Train Loss: 0.0023, Val Loss: 0.0016\n",
            "Epoch [3/20] Train Loss: 0.0013, Val Loss: 0.0009\n",
            "Epoch [4/20] Train Loss: 0.0007, Val Loss: 0.0005\n",
            "Epoch [5/20] Train Loss: 0.0004, Val Loss: 0.0004\n",
            "Epoch [6/20] Train Loss: 0.0003, Val Loss: 0.0003\n",
            "Epoch [7/20] Train Loss: 0.0003, Val Loss: 0.0003\n",
            "Epoch [8/20] Train Loss: 0.0002, Val Loss: 0.0002\n",
            "Epoch [9/20] Train Loss: 0.0002, Val Loss: 0.0002\n",
            "Epoch [10/20] Train Loss: 0.0002, Val Loss: 0.0002\n",
            "Epoch [11/20] Train Loss: 0.0002, Val Loss: 0.0002\n",
            "Epoch [12/20] Train Loss: 0.0001, Val Loss: 0.0002\n",
            "Epoch [13/20] Train Loss: 0.0001, Val Loss: 0.0001\n",
            "Epoch [14/20] Train Loss: 0.0001, Val Loss: 0.0001\n",
            "Epoch [15/20] Train Loss: 0.0001, Val Loss: 0.0001\n",
            "Epoch [16/20] Train Loss: 0.0001, Val Loss: 0.0001\n",
            "Epoch [17/20] Train Loss: 0.0001, Val Loss: 0.0001\n",
            "Epoch [18/20] Train Loss: 0.0001, Val Loss: 0.0001\n",
            "Epoch [19/20] Train Loss: 0.0001, Val Loss: 0.0001\n",
            "Epoch [20/20] Train Loss: 0.0001, Val Loss: 0.0001\n"
          ]
        },
        {
          "output_type": "display_data",
          "data": {
            "text/plain": [
              "<IPython.core.display.HTML object>"
            ],
            "text/html": []
          },
          "metadata": {}
        },
        {
          "output_type": "display_data",
          "data": {
            "text/plain": [
              "<IPython.core.display.HTML object>"
            ],
            "text/html": [
              "<br>    <style><br>        .wandb-row {<br>            display: flex;<br>            flex-direction: row;<br>            flex-wrap: wrap;<br>            justify-content: flex-start;<br>            width: 100%;<br>        }<br>        .wandb-col {<br>            display: flex;<br>            flex-direction: column;<br>            flex-basis: 100%;<br>            flex: 1;<br>            padding: 10px;<br>        }<br>    </style><br><div class=\"wandb-row\"><div class=\"wandb-col\"><h3>Run history:</h3><br/><table class=\"wandb\"><tr><td>epoch</td><td>▁▁▂▂▂▃▃▄▄▄▅▅▅▆▆▇▇▇██</td></tr><tr><td>train_loss</td><td>█▅▃▂▂▁▁▁▁▁▁▁▁▁▁▁▁▁▁▁</td></tr><tr><td>val_loss</td><td>█▅▃▂▂▂▂▁▁▁▁▁▁▁▁▁▁▁▁▁</td></tr></table><br/></div><div class=\"wandb-col\"><h3>Run summary:</h3><br/><table class=\"wandb\"><tr><td>epoch</td><td>20</td></tr><tr><td>train_loss</td><td>7e-05</td></tr><tr><td>val_loss</td><td>8e-05</td></tr></table><br/></div></div>"
            ]
          },
          "metadata": {}
        },
        {
          "output_type": "display_data",
          "data": {
            "text/plain": [
              "<IPython.core.display.HTML object>"
            ],
            "text/html": [
              " View run <strong style=\"color:#cdcd00\">ethereal-sweep-8</strong> at: <a href='https://wandb.ai/ryunuriadi-bina-nusantara/Low_Light_Image_Enhancement_Tuning/runs/v4sdji0c' target=\"_blank\">https://wandb.ai/ryunuriadi-bina-nusantara/Low_Light_Image_Enhancement_Tuning/runs/v4sdji0c</a><br> View project at: <a href='https://wandb.ai/ryunuriadi-bina-nusantara/Low_Light_Image_Enhancement_Tuning' target=\"_blank\">https://wandb.ai/ryunuriadi-bina-nusantara/Low_Light_Image_Enhancement_Tuning</a><br>Synced 5 W&B file(s), 0 media file(s), 0 artifact file(s) and 4 other file(s)"
            ]
          },
          "metadata": {}
        },
        {
          "output_type": "display_data",
          "data": {
            "text/plain": [
              "<IPython.core.display.HTML object>"
            ],
            "text/html": [
              "Find logs at: <code>./wandb/run-20250605_092507-v4sdji0c/logs</code>"
            ]
          },
          "metadata": {}
        },
        {
          "output_type": "stream",
          "name": "stderr",
          "text": [
            "\u001b[34m\u001b[1mwandb\u001b[0m: Sweep Agent: Waiting for job.\n",
            "\u001b[34m\u001b[1mwandb\u001b[0m: Job received.\n",
            "\u001b[34m\u001b[1mwandb\u001b[0m: Agent Starting Run: dai06yo8 with config:\n",
            "\u001b[34m\u001b[1mwandb\u001b[0m: \tbatch_size: 16\n",
            "\u001b[34m\u001b[1mwandb\u001b[0m: \tepochs: 20\n",
            "\u001b[34m\u001b[1mwandb\u001b[0m: \tlearning_rate: 0.001\n"
          ]
        },
        {
          "output_type": "display_data",
          "data": {
            "text/plain": [
              "<IPython.core.display.HTML object>"
            ],
            "text/html": [
              "Tracking run with wandb version 0.20.1"
            ]
          },
          "metadata": {}
        },
        {
          "output_type": "display_data",
          "data": {
            "text/plain": [
              "<IPython.core.display.HTML object>"
            ],
            "text/html": [
              "Run data is saved locally in <code>/content/wandb/run-20250605_092718-dai06yo8</code>"
            ]
          },
          "metadata": {}
        },
        {
          "output_type": "display_data",
          "data": {
            "text/plain": [
              "<IPython.core.display.HTML object>"
            ],
            "text/html": [
              "Syncing run <strong><a href='https://wandb.ai/ryunuriadi-bina-nusantara/Low_Light_Image_Enhancement_Tuning/runs/dai06yo8' target=\"_blank\">glamorous-sweep-9</a></strong> to <a href='https://wandb.ai/ryunuriadi-bina-nusantara/Low_Light_Image_Enhancement_Tuning' target=\"_blank\">Weights & Biases</a> (<a href='https://wandb.me/developer-guide' target=\"_blank\">docs</a>)<br>Sweep page: <a href='https://wandb.ai/ryunuriadi-bina-nusantara/Low_Light_Image_Enhancement_Tuning/sweeps/ep2unrpq' target=\"_blank\">https://wandb.ai/ryunuriadi-bina-nusantara/Low_Light_Image_Enhancement_Tuning/sweeps/ep2unrpq</a>"
            ]
          },
          "metadata": {}
        },
        {
          "output_type": "display_data",
          "data": {
            "text/plain": [
              "<IPython.core.display.HTML object>"
            ],
            "text/html": [
              " View project at <a href='https://wandb.ai/ryunuriadi-bina-nusantara/Low_Light_Image_Enhancement_Tuning' target=\"_blank\">https://wandb.ai/ryunuriadi-bina-nusantara/Low_Light_Image_Enhancement_Tuning</a>"
            ]
          },
          "metadata": {}
        },
        {
          "output_type": "display_data",
          "data": {
            "text/plain": [
              "<IPython.core.display.HTML object>"
            ],
            "text/html": [
              " View sweep at <a href='https://wandb.ai/ryunuriadi-bina-nusantara/Low_Light_Image_Enhancement_Tuning/sweeps/ep2unrpq' target=\"_blank\">https://wandb.ai/ryunuriadi-bina-nusantara/Low_Light_Image_Enhancement_Tuning/sweeps/ep2unrpq</a>"
            ]
          },
          "metadata": {}
        },
        {
          "output_type": "display_data",
          "data": {
            "text/plain": [
              "<IPython.core.display.HTML object>"
            ],
            "text/html": [
              " View run at <a href='https://wandb.ai/ryunuriadi-bina-nusantara/Low_Light_Image_Enhancement_Tuning/runs/dai06yo8' target=\"_blank\">https://wandb.ai/ryunuriadi-bina-nusantara/Low_Light_Image_Enhancement_Tuning/runs/dai06yo8</a>"
            ]
          },
          "metadata": {}
        },
        {
          "output_type": "stream",
          "name": "stdout",
          "text": [
            "Epoch [1/20] Train Loss: 0.0026, Val Loss: 0.0005\n",
            "Epoch [2/20] Train Loss: 0.0004, Val Loss: 0.0002\n",
            "Epoch [3/20] Train Loss: 0.0001, Val Loss: 0.0001\n",
            "Epoch [4/20] Train Loss: 0.0001, Val Loss: 0.0001\n",
            "Epoch [5/20] Train Loss: 0.0001, Val Loss: 0.0001\n",
            "Epoch [6/20] Train Loss: 0.0001, Val Loss: 0.0001\n",
            "Epoch [7/20] Train Loss: 0.0000, Val Loss: 0.0001\n",
            "Epoch [8/20] Train Loss: 0.0000, Val Loss: 0.0000\n",
            "Epoch [9/20] Train Loss: 0.0000, Val Loss: 0.0000\n",
            "Epoch [10/20] Train Loss: 0.0000, Val Loss: 0.0000\n",
            "Epoch [11/20] Train Loss: 0.0000, Val Loss: 0.0000\n",
            "Epoch [12/20] Train Loss: 0.0000, Val Loss: 0.0000\n",
            "Epoch [13/20] Train Loss: 0.0000, Val Loss: 0.0000\n",
            "Epoch [14/20] Train Loss: 0.0000, Val Loss: 0.0000\n",
            "Epoch [15/20] Train Loss: 0.0000, Val Loss: 0.0000\n",
            "Epoch [16/20] Train Loss: 0.0000, Val Loss: 0.0000\n",
            "Epoch [17/20] Train Loss: 0.0000, Val Loss: 0.0000\n",
            "Epoch [18/20] Train Loss: 0.0000, Val Loss: 0.0000\n",
            "Epoch [19/20] Train Loss: 0.0000, Val Loss: 0.0000\n",
            "Epoch [20/20] Train Loss: 0.0000, Val Loss: 0.0000\n"
          ]
        },
        {
          "output_type": "display_data",
          "data": {
            "text/plain": [
              "<IPython.core.display.HTML object>"
            ],
            "text/html": []
          },
          "metadata": {}
        },
        {
          "output_type": "display_data",
          "data": {
            "text/plain": [
              "<IPython.core.display.HTML object>"
            ],
            "text/html": [
              "<br>    <style><br>        .wandb-row {<br>            display: flex;<br>            flex-direction: row;<br>            flex-wrap: wrap;<br>            justify-content: flex-start;<br>            width: 100%;<br>        }<br>        .wandb-col {<br>            display: flex;<br>            flex-direction: column;<br>            flex-basis: 100%;<br>            flex: 1;<br>            padding: 10px;<br>        }<br>    </style><br><div class=\"wandb-row\"><div class=\"wandb-col\"><h3>Run history:</h3><br/><table class=\"wandb\"><tr><td>epoch</td><td>▁▁▂▂▂▃▃▄▄▄▅▅▅▆▆▇▇▇██</td></tr><tr><td>train_loss</td><td>█▂▁▁▁▁▁▁▁▁▁▁▁▁▁▁▁▁▁▁</td></tr><tr><td>val_loss</td><td>█▄▃▂▂▂▂▁▁▁▁▁▁▁▁▁▁▁▁▁</td></tr></table><br/></div><div class=\"wandb-col\"><h3>Run summary:</h3><br/><table class=\"wandb\"><tr><td>epoch</td><td>20</td></tr><tr><td>train_loss</td><td>1e-05</td></tr><tr><td>val_loss</td><td>1e-05</td></tr></table><br/></div></div>"
            ]
          },
          "metadata": {}
        },
        {
          "output_type": "display_data",
          "data": {
            "text/plain": [
              "<IPython.core.display.HTML object>"
            ],
            "text/html": [
              " View run <strong style=\"color:#cdcd00\">glamorous-sweep-9</strong> at: <a href='https://wandb.ai/ryunuriadi-bina-nusantara/Low_Light_Image_Enhancement_Tuning/runs/dai06yo8' target=\"_blank\">https://wandb.ai/ryunuriadi-bina-nusantara/Low_Light_Image_Enhancement_Tuning/runs/dai06yo8</a><br> View project at: <a href='https://wandb.ai/ryunuriadi-bina-nusantara/Low_Light_Image_Enhancement_Tuning' target=\"_blank\">https://wandb.ai/ryunuriadi-bina-nusantara/Low_Light_Image_Enhancement_Tuning</a><br>Synced 5 W&B file(s), 0 media file(s), 0 artifact file(s) and 4 other file(s)"
            ]
          },
          "metadata": {}
        },
        {
          "output_type": "display_data",
          "data": {
            "text/plain": [
              "<IPython.core.display.HTML object>"
            ],
            "text/html": [
              "Find logs at: <code>./wandb/run-20250605_092718-dai06yo8/logs</code>"
            ]
          },
          "metadata": {}
        },
        {
          "output_type": "stream",
          "name": "stderr",
          "text": [
            "\u001b[34m\u001b[1mwandb\u001b[0m: Agent Starting Run: 0h857rzs with config:\n",
            "\u001b[34m\u001b[1mwandb\u001b[0m: \tbatch_size: 32\n",
            "\u001b[34m\u001b[1mwandb\u001b[0m: \tepochs: 20\n",
            "\u001b[34m\u001b[1mwandb\u001b[0m: \tlearning_rate: 0.0001\n"
          ]
        },
        {
          "output_type": "display_data",
          "data": {
            "text/plain": [
              "<IPython.core.display.HTML object>"
            ],
            "text/html": [
              "Tracking run with wandb version 0.20.1"
            ]
          },
          "metadata": {}
        },
        {
          "output_type": "display_data",
          "data": {
            "text/plain": [
              "<IPython.core.display.HTML object>"
            ],
            "text/html": [
              "Run data is saved locally in <code>/content/wandb/run-20250605_092920-0h857rzs</code>"
            ]
          },
          "metadata": {}
        },
        {
          "output_type": "display_data",
          "data": {
            "text/plain": [
              "<IPython.core.display.HTML object>"
            ],
            "text/html": [
              "Syncing run <strong><a href='https://wandb.ai/ryunuriadi-bina-nusantara/Low_Light_Image_Enhancement_Tuning/runs/0h857rzs' target=\"_blank\">hopeful-sweep-10</a></strong> to <a href='https://wandb.ai/ryunuriadi-bina-nusantara/Low_Light_Image_Enhancement_Tuning' target=\"_blank\">Weights & Biases</a> (<a href='https://wandb.me/developer-guide' target=\"_blank\">docs</a>)<br>Sweep page: <a href='https://wandb.ai/ryunuriadi-bina-nusantara/Low_Light_Image_Enhancement_Tuning/sweeps/ep2unrpq' target=\"_blank\">https://wandb.ai/ryunuriadi-bina-nusantara/Low_Light_Image_Enhancement_Tuning/sweeps/ep2unrpq</a>"
            ]
          },
          "metadata": {}
        },
        {
          "output_type": "display_data",
          "data": {
            "text/plain": [
              "<IPython.core.display.HTML object>"
            ],
            "text/html": [
              " View project at <a href='https://wandb.ai/ryunuriadi-bina-nusantara/Low_Light_Image_Enhancement_Tuning' target=\"_blank\">https://wandb.ai/ryunuriadi-bina-nusantara/Low_Light_Image_Enhancement_Tuning</a>"
            ]
          },
          "metadata": {}
        },
        {
          "output_type": "display_data",
          "data": {
            "text/plain": [
              "<IPython.core.display.HTML object>"
            ],
            "text/html": [
              " View sweep at <a href='https://wandb.ai/ryunuriadi-bina-nusantara/Low_Light_Image_Enhancement_Tuning/sweeps/ep2unrpq' target=\"_blank\">https://wandb.ai/ryunuriadi-bina-nusantara/Low_Light_Image_Enhancement_Tuning/sweeps/ep2unrpq</a>"
            ]
          },
          "metadata": {}
        },
        {
          "output_type": "display_data",
          "data": {
            "text/plain": [
              "<IPython.core.display.HTML object>"
            ],
            "text/html": [
              " View run at <a href='https://wandb.ai/ryunuriadi-bina-nusantara/Low_Light_Image_Enhancement_Tuning/runs/0h857rzs' target=\"_blank\">https://wandb.ai/ryunuriadi-bina-nusantara/Low_Light_Image_Enhancement_Tuning/runs/0h857rzs</a>"
            ]
          },
          "metadata": {}
        },
        {
          "output_type": "stream",
          "name": "stdout",
          "text": [
            "Epoch [1/20] Train Loss: 0.0095, Val Loss: 0.0071\n",
            "Epoch [2/20] Train Loss: 0.0069, Val Loss: 0.0051\n",
            "Epoch [3/20] Train Loss: 0.0050, Val Loss: 0.0036\n",
            "Epoch [4/20] Train Loss: 0.0035, Val Loss: 0.0026\n",
            "Epoch [5/20] Train Loss: 0.0025, Val Loss: 0.0019\n",
            "Epoch [6/20] Train Loss: 0.0018, Val Loss: 0.0014\n",
            "Epoch [7/20] Train Loss: 0.0013, Val Loss: 0.0011\n",
            "Epoch [8/20] Train Loss: 0.0010, Val Loss: 0.0008\n",
            "Epoch [9/20] Train Loss: 0.0008, Val Loss: 0.0006\n",
            "Epoch [10/20] Train Loss: 0.0006, Val Loss: 0.0005\n",
            "Epoch [11/20] Train Loss: 0.0005, Val Loss: 0.0005\n",
            "Epoch [12/20] Train Loss: 0.0005, Val Loss: 0.0004\n",
            "Epoch [13/20] Train Loss: 0.0004, Val Loss: 0.0004\n",
            "Epoch [14/20] Train Loss: 0.0004, Val Loss: 0.0003\n",
            "Epoch [15/20] Train Loss: 0.0003, Val Loss: 0.0003\n",
            "Epoch [16/20] Train Loss: 0.0003, Val Loss: 0.0003\n",
            "Epoch [17/20] Train Loss: 0.0003, Val Loss: 0.0003\n",
            "Epoch [18/20] Train Loss: 0.0002, Val Loss: 0.0002\n",
            "Epoch [19/20] Train Loss: 0.0002, Val Loss: 0.0002\n",
            "Epoch [20/20] Train Loss: 0.0002, Val Loss: 0.0002\n"
          ]
        },
        {
          "output_type": "display_data",
          "data": {
            "text/plain": [
              "<IPython.core.display.HTML object>"
            ],
            "text/html": []
          },
          "metadata": {}
        },
        {
          "output_type": "display_data",
          "data": {
            "text/plain": [
              "<IPython.core.display.HTML object>"
            ],
            "text/html": [
              "<br>    <style><br>        .wandb-row {<br>            display: flex;<br>            flex-direction: row;<br>            flex-wrap: wrap;<br>            justify-content: flex-start;<br>            width: 100%;<br>        }<br>        .wandb-col {<br>            display: flex;<br>            flex-direction: column;<br>            flex-basis: 100%;<br>            flex: 1;<br>            padding: 10px;<br>        }<br>    </style><br><div class=\"wandb-row\"><div class=\"wandb-col\"><h3>Run history:</h3><br/><table class=\"wandb\"><tr><td>epoch</td><td>▁▁▂▂▂▃▃▄▄▄▅▅▅▆▆▇▇▇██</td></tr><tr><td>train_loss</td><td>█▆▅▃▃▂▂▂▁▁▁▁▁▁▁▁▁▁▁▁</td></tr><tr><td>val_loss</td><td>█▆▄▃▃▂▂▂▁▁▁▁▁▁▁▁▁▁▁▁</td></tr></table><br/></div><div class=\"wandb-col\"><h3>Run summary:</h3><br/><table class=\"wandb\"><tr><td>epoch</td><td>20</td></tr><tr><td>train_loss</td><td>0.00022</td></tr><tr><td>val_loss</td><td>0.00021</td></tr></table><br/></div></div>"
            ]
          },
          "metadata": {}
        },
        {
          "output_type": "display_data",
          "data": {
            "text/plain": [
              "<IPython.core.display.HTML object>"
            ],
            "text/html": [
              " View run <strong style=\"color:#cdcd00\">hopeful-sweep-10</strong> at: <a href='https://wandb.ai/ryunuriadi-bina-nusantara/Low_Light_Image_Enhancement_Tuning/runs/0h857rzs' target=\"_blank\">https://wandb.ai/ryunuriadi-bina-nusantara/Low_Light_Image_Enhancement_Tuning/runs/0h857rzs</a><br> View project at: <a href='https://wandb.ai/ryunuriadi-bina-nusantara/Low_Light_Image_Enhancement_Tuning' target=\"_blank\">https://wandb.ai/ryunuriadi-bina-nusantara/Low_Light_Image_Enhancement_Tuning</a><br>Synced 5 W&B file(s), 0 media file(s), 0 artifact file(s) and 4 other file(s)"
            ]
          },
          "metadata": {}
        },
        {
          "output_type": "display_data",
          "data": {
            "text/plain": [
              "<IPython.core.display.HTML object>"
            ],
            "text/html": [
              "Find logs at: <code>./wandb/run-20250605_092920-0h857rzs/logs</code>"
            ]
          },
          "metadata": {}
        }
      ],
      "source": [
        "wandb.agent(sweep_id, function=train, count=10)"
      ]
    },
    {
      "cell_type": "code",
      "execution_count": null,
      "metadata": {
        "id": "0gKrl87VX2ne",
        "colab": {
          "base_uri": "https://localhost:8080/"
        },
        "outputId": "58f4adbd-04b7-4f6d-81bc-83aae03b48ec"
      },
      "outputs": [
        {
          "output_type": "stream",
          "name": "stdout",
          "text": [
            "Using sweep_id: ep2unrpq\n",
            "\n",
            "--- Best Run ---\n",
            "Run ID: uhvrhekr\n",
            "Run Name: good-sweep-3\n",
            "Validation Loss (val_loss): 1.3390095690820916e-05\n",
            "\n",
            "Best Hyperparameters:\n",
            "  epochs: 20\n",
            "  batch_size: 8\n",
            "  learning_rate: 0.0005\n",
            "\n",
            "Other Summary Metrics for the Best Run:\n",
            "  _wandb: {'runtime': 122}\n",
            "  epoch: 20\n",
            "  train_loss: 1.1065689259339706e-05\n"
          ]
        }
      ],
      "source": [
        "import wandb\n",
        "\n",
        "# sweep_id should be defined in the previous cell (cell 37)\n",
        "# For example, if your sweep_id was '3m7gbi9l'\n",
        "# sweep_id = '3m7gbi9l'\n",
        "# If sweep_id is not in globals (e.g. running this cell independently after kernel restart)\n",
        "# you'll need to set it manually or re-run the cell that defines it.\n",
        "if 'sweep_id' not in globals():\n",
        "    print(\"sweep_id is not defined. Please define it or re-run the cell that creates the sweep.\")\n",
        "    # As a placeholder if you need to run this cell and the sweep_id was previously printed:\n",
        "    # sweep_id = \"YOUR_SWEEP_ID_HERE\" # Replace with your actual sweep_id\n",
        "else:\n",
        "    print(f\"Using sweep_id: {sweep_id}\")\n",
        "\n",
        "    # Initialize wandb API\n",
        "    api = wandb.Api()\n",
        "\n",
        "    # Get the sweep\n",
        "    try:\n",
        "        sweep = api.sweep(f\"ryunuriadi-bina-nusantara/Low_Light_Image_Enhancement_Tuning/{sweep_id}\") # Replace with your entity/project\n",
        "\n",
        "        # Get all runs from the sweep, ordered by the metric (val_loss, minimized)\n",
        "        # Note: sweep.best_run() might be simpler if you only need the single best run.\n",
        "        # However, to ensure we get the one with the numerically lowest val_loss if multiple runs have the same best_value:\n",
        "        runs = sorted(sweep.runs, key=lambda run: run.summary.get(\"val_loss\", float('inf')))\n",
        "\n",
        "\n",
        "        if runs:\n",
        "            best_run = runs[0]  # The first run in the sorted list is the best\n",
        "            print(\"\\n--- Best Run ---\")\n",
        "            print(f\"Run ID: {best_run.id}\")\n",
        "            print(f\"Run Name: {best_run.name}\")\n",
        "            print(f\"Validation Loss (val_loss): {best_run.summary.get('val_loss', 'N/A')}\")\n",
        "            print(\"\\nBest Hyperparameters:\")\n",
        "            for key, value in best_run.config.items():\n",
        "                # Wandb sometimes adds its own keys starting with '_'. We can ignore them.\n",
        "                if not key.startswith(\"_\"):\n",
        "                    print(f\"  {key}: {value}\")\n",
        "\n",
        "            # You can also print other summary metrics if available\n",
        "            print(\"\\nOther Summary Metrics for the Best Run:\")\n",
        "            for metric, value in best_run.summary.items():\n",
        "                if metric not in ['val_loss', '_runtime', '_timestamp', '_step']: # Exclude some common ones\n",
        "                     print(f\"  {metric}: {value}\")\n",
        "\n",
        "        else:\n",
        "            print(\"No runs found for this sweep yet, or the sweep did not complete successfully.\")\n",
        "\n",
        "    except Exception as e:\n",
        "        print(f\"An error occurred while fetching sweep data: {e}\")\n",
        "        print(\"Please ensure the sweep_id and project path (entity/project/sweep_id) are correct.\")\n",
        "        print(\"Also, make sure you are logged into wandb (wandb login).\")"
      ]
    },
    {
      "cell_type": "code",
      "source": [
        "base_model = build_dce_net()"
      ],
      "metadata": {
        "id": "Diyno5w4cHNZ"
      },
      "execution_count": null,
      "outputs": []
    },
    {
      "cell_type": "code",
      "source": [
        "base_model.save(\"base_model.h5\")"
      ],
      "metadata": {
        "colab": {
          "base_uri": "https://localhost:8080/"
        },
        "id": "pjt2CQsQdU_e",
        "outputId": "e8269aab-6a3c-4817-e7bd-7366bee6b618"
      },
      "execution_count": null,
      "outputs": [
        {
          "output_type": "stream",
          "name": "stderr",
          "text": [
            "WARNING:absl:You are saving your model as an HDF5 file via `model.save()` or `keras.saving.save_model(model)`. This file format is considered legacy. We recommend using instead the native Keras format, e.g. `model.save('my_model.keras')` or `keras.saving.save_model(model, 'my_model.keras')`. \n"
          ]
        }
      ]
    },
    {
      "cell_type": "code",
      "source": [
        "from google.colab import files\n",
        "files.download(\"base_model.h5\")"
      ],
      "metadata": {
        "colab": {
          "base_uri": "https://localhost:8080/",
          "height": 17
        },
        "id": "qcq9rOqud9GI",
        "outputId": "a4b02798-046c-486a-9946-2db6875a00f8"
      },
      "execution_count": null,
      "outputs": [
        {
          "output_type": "display_data",
          "data": {
            "text/plain": [
              "<IPython.core.display.Javascript object>"
            ],
            "application/javascript": [
              "\n",
              "    async function download(id, filename, size) {\n",
              "      if (!google.colab.kernel.accessAllowed) {\n",
              "        return;\n",
              "      }\n",
              "      const div = document.createElement('div');\n",
              "      const label = document.createElement('label');\n",
              "      label.textContent = `Downloading \"${filename}\": `;\n",
              "      div.appendChild(label);\n",
              "      const progress = document.createElement('progress');\n",
              "      progress.max = size;\n",
              "      div.appendChild(progress);\n",
              "      document.body.appendChild(div);\n",
              "\n",
              "      const buffers = [];\n",
              "      let downloaded = 0;\n",
              "\n",
              "      const channel = await google.colab.kernel.comms.open(id);\n",
              "      // Send a message to notify the kernel that we're ready.\n",
              "      channel.send({})\n",
              "\n",
              "      for await (const message of channel.messages) {\n",
              "        // Send a message to notify the kernel that we're ready.\n",
              "        channel.send({})\n",
              "        if (message.buffers) {\n",
              "          for (const buffer of message.buffers) {\n",
              "            buffers.push(buffer);\n",
              "            downloaded += buffer.byteLength;\n",
              "            progress.value = downloaded;\n",
              "          }\n",
              "        }\n",
              "      }\n",
              "      const blob = new Blob(buffers, {type: 'application/binary'});\n",
              "      const a = document.createElement('a');\n",
              "      a.href = window.URL.createObjectURL(blob);\n",
              "      a.download = filename;\n",
              "      div.appendChild(a);\n",
              "      a.click();\n",
              "      div.remove();\n",
              "    }\n",
              "  "
            ]
          },
          "metadata": {}
        },
        {
          "output_type": "display_data",
          "data": {
            "text/plain": [
              "<IPython.core.display.Javascript object>"
            ],
            "application/javascript": [
              "download(\"download_f24e85c5-b4f8-4051-ba95-3286a554f8bf\", \"base_model.h5\", 358704)"
            ]
          },
          "metadata": {}
        }
      ]
    },
    {
      "cell_type": "code",
      "source": [
        "from tensorflow.keras.models import load_model"
      ],
      "metadata": {
        "id": "jbqvy_PuehNG"
      },
      "execution_count": null,
      "outputs": []
    },
    {
      "cell_type": "code",
      "source": [
        "model = load_model(\"base_model.h5\", compile=False)"
      ],
      "metadata": {
        "id": "4SFdSHZFeuOU"
      },
      "execution_count": null,
      "outputs": []
    },
    {
      "cell_type": "code",
      "source": [
        "model.summary()"
      ],
      "metadata": {
        "colab": {
          "base_uri": "https://localhost:8080/",
          "height": 684
        },
        "id": "iAM_OMi1ev2v",
        "outputId": "154a995a-0cad-48cb-ede3-13b2ca765b8d"
      },
      "execution_count": null,
      "outputs": [
        {
          "output_type": "display_data",
          "data": {
            "text/plain": [
              "\u001b[1mModel: \"functional_2\"\u001b[0m\n"
            ],
            "text/html": [
              "<pre style=\"white-space:pre;overflow-x:auto;line-height:normal;font-family:Menlo,'DejaVu Sans Mono',consolas,'Courier New',monospace\"><span style=\"font-weight: bold\">Model: \"functional_2\"</span>\n",
              "</pre>\n"
            ]
          },
          "metadata": {}
        },
        {
          "output_type": "display_data",
          "data": {
            "text/plain": [
              "┏━━━━━━━━━━━━━━━━━━━━━┳━━━━━━━━━━━━━━━━━━━┳━━━━━━━━━━━━┳━━━━━━━━━━━━━━━━━━━┓\n",
              "┃\u001b[1m \u001b[0m\u001b[1mLayer (type)       \u001b[0m\u001b[1m \u001b[0m┃\u001b[1m \u001b[0m\u001b[1mOutput Shape     \u001b[0m\u001b[1m \u001b[0m┃\u001b[1m \u001b[0m\u001b[1m   Param #\u001b[0m\u001b[1m \u001b[0m┃\u001b[1m \u001b[0m\u001b[1mConnected to     \u001b[0m\u001b[1m \u001b[0m┃\n",
              "┡━━━━━━━━━━━━━━━━━━━━━╇━━━━━━━━━━━━━━━━━━━╇━━━━━━━━━━━━╇━━━━━━━━━━━━━━━━━━━┩\n",
              "│ input_layer_2       │ (\u001b[38;5;45mNone\u001b[0m, \u001b[38;5;45mNone\u001b[0m,      │          \u001b[38;5;34m0\u001b[0m │ -                 │\n",
              "│ (\u001b[38;5;33mInputLayer\u001b[0m)        │ \u001b[38;5;45mNone\u001b[0m, \u001b[38;5;34m3\u001b[0m)          │            │                   │\n",
              "├─────────────────────┼───────────────────┼────────────┼───────────────────┤\n",
              "│ conv2d_14 (\u001b[38;5;33mConv2D\u001b[0m)  │ (\u001b[38;5;45mNone\u001b[0m, \u001b[38;5;45mNone\u001b[0m,      │        \u001b[38;5;34m896\u001b[0m │ input_layer_2[\u001b[38;5;34m0\u001b[0m]… │\n",
              "│                     │ \u001b[38;5;45mNone\u001b[0m, \u001b[38;5;34m32\u001b[0m)         │            │                   │\n",
              "├─────────────────────┼───────────────────┼────────────┼───────────────────┤\n",
              "│ conv2d_15 (\u001b[38;5;33mConv2D\u001b[0m)  │ (\u001b[38;5;45mNone\u001b[0m, \u001b[38;5;45mNone\u001b[0m,      │      \u001b[38;5;34m9,248\u001b[0m │ conv2d_14[\u001b[38;5;34m0\u001b[0m][\u001b[38;5;34m0\u001b[0m]   │\n",
              "│                     │ \u001b[38;5;45mNone\u001b[0m, \u001b[38;5;34m32\u001b[0m)         │            │                   │\n",
              "├─────────────────────┼───────────────────┼────────────┼───────────────────┤\n",
              "│ conv2d_16 (\u001b[38;5;33mConv2D\u001b[0m)  │ (\u001b[38;5;45mNone\u001b[0m, \u001b[38;5;45mNone\u001b[0m,      │      \u001b[38;5;34m9,248\u001b[0m │ conv2d_15[\u001b[38;5;34m0\u001b[0m][\u001b[38;5;34m0\u001b[0m]   │\n",
              "│                     │ \u001b[38;5;45mNone\u001b[0m, \u001b[38;5;34m32\u001b[0m)         │            │                   │\n",
              "├─────────────────────┼───────────────────┼────────────┼───────────────────┤\n",
              "│ conv2d_17 (\u001b[38;5;33mConv2D\u001b[0m)  │ (\u001b[38;5;45mNone\u001b[0m, \u001b[38;5;45mNone\u001b[0m,      │      \u001b[38;5;34m9,248\u001b[0m │ conv2d_16[\u001b[38;5;34m0\u001b[0m][\u001b[38;5;34m0\u001b[0m]   │\n",
              "│                     │ \u001b[38;5;45mNone\u001b[0m, \u001b[38;5;34m32\u001b[0m)         │            │                   │\n",
              "├─────────────────────┼───────────────────┼────────────┼───────────────────┤\n",
              "│ concatenate_6       │ (\u001b[38;5;45mNone\u001b[0m, \u001b[38;5;45mNone\u001b[0m,      │          \u001b[38;5;34m0\u001b[0m │ conv2d_17[\u001b[38;5;34m0\u001b[0m][\u001b[38;5;34m0\u001b[0m],  │\n",
              "│ (\u001b[38;5;33mConcatenate\u001b[0m)       │ \u001b[38;5;45mNone\u001b[0m, \u001b[38;5;34m64\u001b[0m)         │            │ conv2d_16[\u001b[38;5;34m0\u001b[0m][\u001b[38;5;34m0\u001b[0m]   │\n",
              "├─────────────────────┼───────────────────┼────────────┼───────────────────┤\n",
              "│ conv2d_18 (\u001b[38;5;33mConv2D\u001b[0m)  │ (\u001b[38;5;45mNone\u001b[0m, \u001b[38;5;45mNone\u001b[0m,      │     \u001b[38;5;34m18,464\u001b[0m │ concatenate_6[\u001b[38;5;34m0\u001b[0m]… │\n",
              "│                     │ \u001b[38;5;45mNone\u001b[0m, \u001b[38;5;34m32\u001b[0m)         │            │                   │\n",
              "├─────────────────────┼───────────────────┼────────────┼───────────────────┤\n",
              "│ concatenate_7       │ (\u001b[38;5;45mNone\u001b[0m, \u001b[38;5;45mNone\u001b[0m,      │          \u001b[38;5;34m0\u001b[0m │ conv2d_18[\u001b[38;5;34m0\u001b[0m][\u001b[38;5;34m0\u001b[0m],  │\n",
              "│ (\u001b[38;5;33mConcatenate\u001b[0m)       │ \u001b[38;5;45mNone\u001b[0m, \u001b[38;5;34m64\u001b[0m)         │            │ conv2d_15[\u001b[38;5;34m0\u001b[0m][\u001b[38;5;34m0\u001b[0m]   │\n",
              "├─────────────────────┼───────────────────┼────────────┼───────────────────┤\n",
              "│ conv2d_19 (\u001b[38;5;33mConv2D\u001b[0m)  │ (\u001b[38;5;45mNone\u001b[0m, \u001b[38;5;45mNone\u001b[0m,      │     \u001b[38;5;34m18,464\u001b[0m │ concatenate_7[\u001b[38;5;34m0\u001b[0m]… │\n",
              "│                     │ \u001b[38;5;45mNone\u001b[0m, \u001b[38;5;34m32\u001b[0m)         │            │                   │\n",
              "├─────────────────────┼───────────────────┼────────────┼───────────────────┤\n",
              "│ concatenate_8       │ (\u001b[38;5;45mNone\u001b[0m, \u001b[38;5;45mNone\u001b[0m,      │          \u001b[38;5;34m0\u001b[0m │ conv2d_19[\u001b[38;5;34m0\u001b[0m][\u001b[38;5;34m0\u001b[0m],  │\n",
              "│ (\u001b[38;5;33mConcatenate\u001b[0m)       │ \u001b[38;5;45mNone\u001b[0m, \u001b[38;5;34m64\u001b[0m)         │            │ conv2d_14[\u001b[38;5;34m0\u001b[0m][\u001b[38;5;34m0\u001b[0m]   │\n",
              "├─────────────────────┼───────────────────┼────────────┼───────────────────┤\n",
              "│ conv2d_20 (\u001b[38;5;33mConv2D\u001b[0m)  │ (\u001b[38;5;45mNone\u001b[0m, \u001b[38;5;45mNone\u001b[0m,      │     \u001b[38;5;34m13,848\u001b[0m │ concatenate_8[\u001b[38;5;34m0\u001b[0m]… │\n",
              "│                     │ \u001b[38;5;45mNone\u001b[0m, \u001b[38;5;34m24\u001b[0m)         │            │                   │\n",
              "└─────────────────────┴───────────────────┴────────────┴───────────────────┘\n"
            ],
            "text/html": [
              "<pre style=\"white-space:pre;overflow-x:auto;line-height:normal;font-family:Menlo,'DejaVu Sans Mono',consolas,'Courier New',monospace\">┏━━━━━━━━━━━━━━━━━━━━━┳━━━━━━━━━━━━━━━━━━━┳━━━━━━━━━━━━┳━━━━━━━━━━━━━━━━━━━┓\n",
              "┃<span style=\"font-weight: bold\"> Layer (type)        </span>┃<span style=\"font-weight: bold\"> Output Shape      </span>┃<span style=\"font-weight: bold\">    Param # </span>┃<span style=\"font-weight: bold\"> Connected to      </span>┃\n",
              "┡━━━━━━━━━━━━━━━━━━━━━╇━━━━━━━━━━━━━━━━━━━╇━━━━━━━━━━━━╇━━━━━━━━━━━━━━━━━━━┩\n",
              "│ input_layer_2       │ (<span style=\"color: #00d7ff; text-decoration-color: #00d7ff\">None</span>, <span style=\"color: #00d7ff; text-decoration-color: #00d7ff\">None</span>,      │          <span style=\"color: #00af00; text-decoration-color: #00af00\">0</span> │ -                 │\n",
              "│ (<span style=\"color: #0087ff; text-decoration-color: #0087ff\">InputLayer</span>)        │ <span style=\"color: #00d7ff; text-decoration-color: #00d7ff\">None</span>, <span style=\"color: #00af00; text-decoration-color: #00af00\">3</span>)          │            │                   │\n",
              "├─────────────────────┼───────────────────┼────────────┼───────────────────┤\n",
              "│ conv2d_14 (<span style=\"color: #0087ff; text-decoration-color: #0087ff\">Conv2D</span>)  │ (<span style=\"color: #00d7ff; text-decoration-color: #00d7ff\">None</span>, <span style=\"color: #00d7ff; text-decoration-color: #00d7ff\">None</span>,      │        <span style=\"color: #00af00; text-decoration-color: #00af00\">896</span> │ input_layer_2[<span style=\"color: #00af00; text-decoration-color: #00af00\">0</span>]… │\n",
              "│                     │ <span style=\"color: #00d7ff; text-decoration-color: #00d7ff\">None</span>, <span style=\"color: #00af00; text-decoration-color: #00af00\">32</span>)         │            │                   │\n",
              "├─────────────────────┼───────────────────┼────────────┼───────────────────┤\n",
              "│ conv2d_15 (<span style=\"color: #0087ff; text-decoration-color: #0087ff\">Conv2D</span>)  │ (<span style=\"color: #00d7ff; text-decoration-color: #00d7ff\">None</span>, <span style=\"color: #00d7ff; text-decoration-color: #00d7ff\">None</span>,      │      <span style=\"color: #00af00; text-decoration-color: #00af00\">9,248</span> │ conv2d_14[<span style=\"color: #00af00; text-decoration-color: #00af00\">0</span>][<span style=\"color: #00af00; text-decoration-color: #00af00\">0</span>]   │\n",
              "│                     │ <span style=\"color: #00d7ff; text-decoration-color: #00d7ff\">None</span>, <span style=\"color: #00af00; text-decoration-color: #00af00\">32</span>)         │            │                   │\n",
              "├─────────────────────┼───────────────────┼────────────┼───────────────────┤\n",
              "│ conv2d_16 (<span style=\"color: #0087ff; text-decoration-color: #0087ff\">Conv2D</span>)  │ (<span style=\"color: #00d7ff; text-decoration-color: #00d7ff\">None</span>, <span style=\"color: #00d7ff; text-decoration-color: #00d7ff\">None</span>,      │      <span style=\"color: #00af00; text-decoration-color: #00af00\">9,248</span> │ conv2d_15[<span style=\"color: #00af00; text-decoration-color: #00af00\">0</span>][<span style=\"color: #00af00; text-decoration-color: #00af00\">0</span>]   │\n",
              "│                     │ <span style=\"color: #00d7ff; text-decoration-color: #00d7ff\">None</span>, <span style=\"color: #00af00; text-decoration-color: #00af00\">32</span>)         │            │                   │\n",
              "├─────────────────────┼───────────────────┼────────────┼───────────────────┤\n",
              "│ conv2d_17 (<span style=\"color: #0087ff; text-decoration-color: #0087ff\">Conv2D</span>)  │ (<span style=\"color: #00d7ff; text-decoration-color: #00d7ff\">None</span>, <span style=\"color: #00d7ff; text-decoration-color: #00d7ff\">None</span>,      │      <span style=\"color: #00af00; text-decoration-color: #00af00\">9,248</span> │ conv2d_16[<span style=\"color: #00af00; text-decoration-color: #00af00\">0</span>][<span style=\"color: #00af00; text-decoration-color: #00af00\">0</span>]   │\n",
              "│                     │ <span style=\"color: #00d7ff; text-decoration-color: #00d7ff\">None</span>, <span style=\"color: #00af00; text-decoration-color: #00af00\">32</span>)         │            │                   │\n",
              "├─────────────────────┼───────────────────┼────────────┼───────────────────┤\n",
              "│ concatenate_6       │ (<span style=\"color: #00d7ff; text-decoration-color: #00d7ff\">None</span>, <span style=\"color: #00d7ff; text-decoration-color: #00d7ff\">None</span>,      │          <span style=\"color: #00af00; text-decoration-color: #00af00\">0</span> │ conv2d_17[<span style=\"color: #00af00; text-decoration-color: #00af00\">0</span>][<span style=\"color: #00af00; text-decoration-color: #00af00\">0</span>],  │\n",
              "│ (<span style=\"color: #0087ff; text-decoration-color: #0087ff\">Concatenate</span>)       │ <span style=\"color: #00d7ff; text-decoration-color: #00d7ff\">None</span>, <span style=\"color: #00af00; text-decoration-color: #00af00\">64</span>)         │            │ conv2d_16[<span style=\"color: #00af00; text-decoration-color: #00af00\">0</span>][<span style=\"color: #00af00; text-decoration-color: #00af00\">0</span>]   │\n",
              "├─────────────────────┼───────────────────┼────────────┼───────────────────┤\n",
              "│ conv2d_18 (<span style=\"color: #0087ff; text-decoration-color: #0087ff\">Conv2D</span>)  │ (<span style=\"color: #00d7ff; text-decoration-color: #00d7ff\">None</span>, <span style=\"color: #00d7ff; text-decoration-color: #00d7ff\">None</span>,      │     <span style=\"color: #00af00; text-decoration-color: #00af00\">18,464</span> │ concatenate_6[<span style=\"color: #00af00; text-decoration-color: #00af00\">0</span>]… │\n",
              "│                     │ <span style=\"color: #00d7ff; text-decoration-color: #00d7ff\">None</span>, <span style=\"color: #00af00; text-decoration-color: #00af00\">32</span>)         │            │                   │\n",
              "├─────────────────────┼───────────────────┼────────────┼───────────────────┤\n",
              "│ concatenate_7       │ (<span style=\"color: #00d7ff; text-decoration-color: #00d7ff\">None</span>, <span style=\"color: #00d7ff; text-decoration-color: #00d7ff\">None</span>,      │          <span style=\"color: #00af00; text-decoration-color: #00af00\">0</span> │ conv2d_18[<span style=\"color: #00af00; text-decoration-color: #00af00\">0</span>][<span style=\"color: #00af00; text-decoration-color: #00af00\">0</span>],  │\n",
              "│ (<span style=\"color: #0087ff; text-decoration-color: #0087ff\">Concatenate</span>)       │ <span style=\"color: #00d7ff; text-decoration-color: #00d7ff\">None</span>, <span style=\"color: #00af00; text-decoration-color: #00af00\">64</span>)         │            │ conv2d_15[<span style=\"color: #00af00; text-decoration-color: #00af00\">0</span>][<span style=\"color: #00af00; text-decoration-color: #00af00\">0</span>]   │\n",
              "├─────────────────────┼───────────────────┼────────────┼───────────────────┤\n",
              "│ conv2d_19 (<span style=\"color: #0087ff; text-decoration-color: #0087ff\">Conv2D</span>)  │ (<span style=\"color: #00d7ff; text-decoration-color: #00d7ff\">None</span>, <span style=\"color: #00d7ff; text-decoration-color: #00d7ff\">None</span>,      │     <span style=\"color: #00af00; text-decoration-color: #00af00\">18,464</span> │ concatenate_7[<span style=\"color: #00af00; text-decoration-color: #00af00\">0</span>]… │\n",
              "│                     │ <span style=\"color: #00d7ff; text-decoration-color: #00d7ff\">None</span>, <span style=\"color: #00af00; text-decoration-color: #00af00\">32</span>)         │            │                   │\n",
              "├─────────────────────┼───────────────────┼────────────┼───────────────────┤\n",
              "│ concatenate_8       │ (<span style=\"color: #00d7ff; text-decoration-color: #00d7ff\">None</span>, <span style=\"color: #00d7ff; text-decoration-color: #00d7ff\">None</span>,      │          <span style=\"color: #00af00; text-decoration-color: #00af00\">0</span> │ conv2d_19[<span style=\"color: #00af00; text-decoration-color: #00af00\">0</span>][<span style=\"color: #00af00; text-decoration-color: #00af00\">0</span>],  │\n",
              "│ (<span style=\"color: #0087ff; text-decoration-color: #0087ff\">Concatenate</span>)       │ <span style=\"color: #00d7ff; text-decoration-color: #00d7ff\">None</span>, <span style=\"color: #00af00; text-decoration-color: #00af00\">64</span>)         │            │ conv2d_14[<span style=\"color: #00af00; text-decoration-color: #00af00\">0</span>][<span style=\"color: #00af00; text-decoration-color: #00af00\">0</span>]   │\n",
              "├─────────────────────┼───────────────────┼────────────┼───────────────────┤\n",
              "│ conv2d_20 (<span style=\"color: #0087ff; text-decoration-color: #0087ff\">Conv2D</span>)  │ (<span style=\"color: #00d7ff; text-decoration-color: #00d7ff\">None</span>, <span style=\"color: #00d7ff; text-decoration-color: #00d7ff\">None</span>,      │     <span style=\"color: #00af00; text-decoration-color: #00af00\">13,848</span> │ concatenate_8[<span style=\"color: #00af00; text-decoration-color: #00af00\">0</span>]… │\n",
              "│                     │ <span style=\"color: #00d7ff; text-decoration-color: #00d7ff\">None</span>, <span style=\"color: #00af00; text-decoration-color: #00af00\">24</span>)         │            │                   │\n",
              "└─────────────────────┴───────────────────┴────────────┴───────────────────┘\n",
              "</pre>\n"
            ]
          },
          "metadata": {}
        },
        {
          "output_type": "display_data",
          "data": {
            "text/plain": [
              "\u001b[1m Total params: \u001b[0m\u001b[38;5;34m79,416\u001b[0m (310.22 KB)\n"
            ],
            "text/html": [
              "<pre style=\"white-space:pre;overflow-x:auto;line-height:normal;font-family:Menlo,'DejaVu Sans Mono',consolas,'Courier New',monospace\"><span style=\"font-weight: bold\"> Total params: </span><span style=\"color: #00af00; text-decoration-color: #00af00\">79,416</span> (310.22 KB)\n",
              "</pre>\n"
            ]
          },
          "metadata": {}
        },
        {
          "output_type": "display_data",
          "data": {
            "text/plain": [
              "\u001b[1m Trainable params: \u001b[0m\u001b[38;5;34m79,416\u001b[0m (310.22 KB)\n"
            ],
            "text/html": [
              "<pre style=\"white-space:pre;overflow-x:auto;line-height:normal;font-family:Menlo,'DejaVu Sans Mono',consolas,'Courier New',monospace\"><span style=\"font-weight: bold\"> Trainable params: </span><span style=\"color: #00af00; text-decoration-color: #00af00\">79,416</span> (310.22 KB)\n",
              "</pre>\n"
            ]
          },
          "metadata": {}
        },
        {
          "output_type": "display_data",
          "data": {
            "text/plain": [
              "\u001b[1m Non-trainable params: \u001b[0m\u001b[38;5;34m0\u001b[0m (0.00 B)\n"
            ],
            "text/html": [
              "<pre style=\"white-space:pre;overflow-x:auto;line-height:normal;font-family:Menlo,'DejaVu Sans Mono',consolas,'Courier New',monospace\"><span style=\"font-weight: bold\"> Non-trainable params: </span><span style=\"color: #00af00; text-decoration-color: #00af00\">0</span> (0.00 B)\n",
              "</pre>\n"
            ]
          },
          "metadata": {}
        }
      ]
    },
    {
      "cell_type": "code",
      "source": [
        "from tensorflow.keras.models import load_model\n",
        "import tensorflow as tf\n",
        "import numpy as np\n",
        "import cv2\n",
        "from google.colab import files\n",
        "import matplotlib.pyplot as plt\n",
        "import os\n",
        "\n",
        "# Load model\n",
        "model = load_model(\"base_model.h5\", compile=False)"
      ],
      "metadata": {
        "id": "agjG7K8eexMS"
      },
      "execution_count": null,
      "outputs": []
    },
    {
      "cell_type": "code",
      "source": [
        "def load_image(filepath, target_size=None):\n",
        "    img = cv2.imread(filepath)\n",
        "    img = cv2.cvtColor(img, cv2.COLOR_BGR2RGB)\n",
        "    if target_size:\n",
        "        img = cv2.resize(img, target_size)\n",
        "    img = img.astype(np.float32) / 255.0\n",
        "    return img\n",
        "\n",
        "def save_image(img, filename):\n",
        "    img = np.clip(img * 255.0, 0, 255).astype(np.uint8)\n",
        "    cv2.imwrite(filename, cv2.cvtColor(img, cv2.COLOR_RGB2BGR))\n",
        "\n",
        "def enhance_image(img, model, iterations=8):\n",
        "    input_img = tf.convert_to_tensor(np.expand_dims(img, axis=0))\n",
        "    A = model(input_img)[0]  # shape: (H, W, 24)\n",
        "\n",
        "    R = tf.convert_to_tensor(img)\n",
        "    R = tf.identity(R)\n",
        "    for i in range(iterations):\n",
        "        a = A[..., i*3:(i+1)*3]\n",
        "        R = R + a * (tf.square(R) - R)\n",
        "    return R.numpy()"
      ],
      "metadata": {
        "id": "KibnMkCZfBcK"
      },
      "execution_count": null,
      "outputs": []
    },
    {
      "cell_type": "code",
      "source": [
        "# Upload gambar dari lokal\n",
        "uploaded = files.upload()\n",
        "\n",
        "for filename in uploaded.keys():\n",
        "    print(f\"Memproses: {filename}\")\n",
        "\n",
        "    img = load_image(filename)\n",
        "    enhanced = enhance_image(img, model)\n",
        "\n",
        "    # Tampilkan sebelum/sesudah\n",
        "    plt.figure(figsize=(10, 4))\n",
        "    plt.subplot(1, 2, 1)\n",
        "    plt.imshow(img)\n",
        "    plt.title(\"Original\")\n",
        "    plt.axis('off')\n",
        "\n",
        "    plt.subplot(1, 2, 2)\n",
        "    plt.imshow(enhanced)\n",
        "    plt.title(\"Enhanced\")\n",
        "    plt.axis('off')\n",
        "    plt.show()\n",
        "\n",
        "    # Simpan hasil\n",
        "    output_name = f\"enhanced_{os.path.basename(filename)}\"\n",
        "    save_image(enhanced, output_name)\n",
        "    files.download(output_name)"
      ],
      "metadata": {
        "colab": {
          "base_uri": "https://localhost:8080/",
          "height": 425
        },
        "id": "QomjfasYfDcP",
        "outputId": "6bb012dc-6267-4e9b-9b53-da83ad1783b6"
      },
      "execution_count": null,
      "outputs": [
        {
          "output_type": "display_data",
          "data": {
            "text/plain": [
              "<IPython.core.display.HTML object>"
            ],
            "text/html": [
              "\n",
              "     <input type=\"file\" id=\"files-eb2765c8-2d33-4785-bccd-96f5f2af6ec6\" name=\"files[]\" multiple disabled\n",
              "        style=\"border:none\" />\n",
              "     <output id=\"result-eb2765c8-2d33-4785-bccd-96f5f2af6ec6\">\n",
              "      Upload widget is only available when the cell has been executed in the\n",
              "      current browser session. Please rerun this cell to enable.\n",
              "      </output>\n",
              "      <script>// Copyright 2017 Google LLC\n",
              "//\n",
              "// Licensed under the Apache License, Version 2.0 (the \"License\");\n",
              "// you may not use this file except in compliance with the License.\n",
              "// You may obtain a copy of the License at\n",
              "//\n",
              "//      http://www.apache.org/licenses/LICENSE-2.0\n",
              "//\n",
              "// Unless required by applicable law or agreed to in writing, software\n",
              "// distributed under the License is distributed on an \"AS IS\" BASIS,\n",
              "// WITHOUT WARRANTIES OR CONDITIONS OF ANY KIND, either express or implied.\n",
              "// See the License for the specific language governing permissions and\n",
              "// limitations under the License.\n",
              "\n",
              "/**\n",
              " * @fileoverview Helpers for google.colab Python module.\n",
              " */\n",
              "(function(scope) {\n",
              "function span(text, styleAttributes = {}) {\n",
              "  const element = document.createElement('span');\n",
              "  element.textContent = text;\n",
              "  for (const key of Object.keys(styleAttributes)) {\n",
              "    element.style[key] = styleAttributes[key];\n",
              "  }\n",
              "  return element;\n",
              "}\n",
              "\n",
              "// Max number of bytes which will be uploaded at a time.\n",
              "const MAX_PAYLOAD_SIZE = 100 * 1024;\n",
              "\n",
              "function _uploadFiles(inputId, outputId) {\n",
              "  const steps = uploadFilesStep(inputId, outputId);\n",
              "  const outputElement = document.getElementById(outputId);\n",
              "  // Cache steps on the outputElement to make it available for the next call\n",
              "  // to uploadFilesContinue from Python.\n",
              "  outputElement.steps = steps;\n",
              "\n",
              "  return _uploadFilesContinue(outputId);\n",
              "}\n",
              "\n",
              "// This is roughly an async generator (not supported in the browser yet),\n",
              "// where there are multiple asynchronous steps and the Python side is going\n",
              "// to poll for completion of each step.\n",
              "// This uses a Promise to block the python side on completion of each step,\n",
              "// then passes the result of the previous step as the input to the next step.\n",
              "function _uploadFilesContinue(outputId) {\n",
              "  const outputElement = document.getElementById(outputId);\n",
              "  const steps = outputElement.steps;\n",
              "\n",
              "  const next = steps.next(outputElement.lastPromiseValue);\n",
              "  return Promise.resolve(next.value.promise).then((value) => {\n",
              "    // Cache the last promise value to make it available to the next\n",
              "    // step of the generator.\n",
              "    outputElement.lastPromiseValue = value;\n",
              "    return next.value.response;\n",
              "  });\n",
              "}\n",
              "\n",
              "/**\n",
              " * Generator function which is called between each async step of the upload\n",
              " * process.\n",
              " * @param {string} inputId Element ID of the input file picker element.\n",
              " * @param {string} outputId Element ID of the output display.\n",
              " * @return {!Iterable<!Object>} Iterable of next steps.\n",
              " */\n",
              "function* uploadFilesStep(inputId, outputId) {\n",
              "  const inputElement = document.getElementById(inputId);\n",
              "  inputElement.disabled = false;\n",
              "\n",
              "  const outputElement = document.getElementById(outputId);\n",
              "  outputElement.innerHTML = '';\n",
              "\n",
              "  const pickedPromise = new Promise((resolve) => {\n",
              "    inputElement.addEventListener('change', (e) => {\n",
              "      resolve(e.target.files);\n",
              "    });\n",
              "  });\n",
              "\n",
              "  const cancel = document.createElement('button');\n",
              "  inputElement.parentElement.appendChild(cancel);\n",
              "  cancel.textContent = 'Cancel upload';\n",
              "  const cancelPromise = new Promise((resolve) => {\n",
              "    cancel.onclick = () => {\n",
              "      resolve(null);\n",
              "    };\n",
              "  });\n",
              "\n",
              "  // Wait for the user to pick the files.\n",
              "  const files = yield {\n",
              "    promise: Promise.race([pickedPromise, cancelPromise]),\n",
              "    response: {\n",
              "      action: 'starting',\n",
              "    }\n",
              "  };\n",
              "\n",
              "  cancel.remove();\n",
              "\n",
              "  // Disable the input element since further picks are not allowed.\n",
              "  inputElement.disabled = true;\n",
              "\n",
              "  if (!files) {\n",
              "    return {\n",
              "      response: {\n",
              "        action: 'complete',\n",
              "      }\n",
              "    };\n",
              "  }\n",
              "\n",
              "  for (const file of files) {\n",
              "    const li = document.createElement('li');\n",
              "    li.append(span(file.name, {fontWeight: 'bold'}));\n",
              "    li.append(span(\n",
              "        `(${file.type || 'n/a'}) - ${file.size} bytes, ` +\n",
              "        `last modified: ${\n",
              "            file.lastModifiedDate ? file.lastModifiedDate.toLocaleDateString() :\n",
              "                                    'n/a'} - `));\n",
              "    const percent = span('0% done');\n",
              "    li.appendChild(percent);\n",
              "\n",
              "    outputElement.appendChild(li);\n",
              "\n",
              "    const fileDataPromise = new Promise((resolve) => {\n",
              "      const reader = new FileReader();\n",
              "      reader.onload = (e) => {\n",
              "        resolve(e.target.result);\n",
              "      };\n",
              "      reader.readAsArrayBuffer(file);\n",
              "    });\n",
              "    // Wait for the data to be ready.\n",
              "    let fileData = yield {\n",
              "      promise: fileDataPromise,\n",
              "      response: {\n",
              "        action: 'continue',\n",
              "      }\n",
              "    };\n",
              "\n",
              "    // Use a chunked sending to avoid message size limits. See b/62115660.\n",
              "    let position = 0;\n",
              "    do {\n",
              "      const length = Math.min(fileData.byteLength - position, MAX_PAYLOAD_SIZE);\n",
              "      const chunk = new Uint8Array(fileData, position, length);\n",
              "      position += length;\n",
              "\n",
              "      const base64 = btoa(String.fromCharCode.apply(null, chunk));\n",
              "      yield {\n",
              "        response: {\n",
              "          action: 'append',\n",
              "          file: file.name,\n",
              "          data: base64,\n",
              "        },\n",
              "      };\n",
              "\n",
              "      let percentDone = fileData.byteLength === 0 ?\n",
              "          100 :\n",
              "          Math.round((position / fileData.byteLength) * 100);\n",
              "      percent.textContent = `${percentDone}% done`;\n",
              "\n",
              "    } while (position < fileData.byteLength);\n",
              "  }\n",
              "\n",
              "  // All done.\n",
              "  yield {\n",
              "    response: {\n",
              "      action: 'complete',\n",
              "    }\n",
              "  };\n",
              "}\n",
              "\n",
              "scope.google = scope.google || {};\n",
              "scope.google.colab = scope.google.colab || {};\n",
              "scope.google.colab._files = {\n",
              "  _uploadFiles,\n",
              "  _uploadFilesContinue,\n",
              "};\n",
              "})(self);\n",
              "</script> "
            ]
          },
          "metadata": {}
        },
        {
          "output_type": "stream",
          "name": "stdout",
          "text": [
            "Saving IMG_7179.CR2 to IMG_7179.CR2\n",
            "Memproses: IMG_7179.CR2\n"
          ]
        },
        {
          "output_type": "error",
          "ename": "error",
          "evalue": "OpenCV(4.11.0) /io/opencv/modules/imgproc/src/color.cpp:199: error: (-215:Assertion failed) !_src.empty() in function 'cvtColor'\n",
          "traceback": [
            "\u001b[0;31m---------------------------------------------------------------------------\u001b[0m",
            "\u001b[0;31merror\u001b[0m                                     Traceback (most recent call last)",
            "\u001b[0;32m<ipython-input-36-586594173119>\u001b[0m in \u001b[0;36m<cell line: 0>\u001b[0;34m()\u001b[0m\n\u001b[1;32m      5\u001b[0m     \u001b[0mprint\u001b[0m\u001b[0;34m(\u001b[0m\u001b[0;34mf\"Memproses: {filename}\"\u001b[0m\u001b[0;34m)\u001b[0m\u001b[0;34m\u001b[0m\u001b[0;34m\u001b[0m\u001b[0m\n\u001b[1;32m      6\u001b[0m \u001b[0;34m\u001b[0m\u001b[0m\n\u001b[0;32m----> 7\u001b[0;31m     \u001b[0mimg\u001b[0m \u001b[0;34m=\u001b[0m \u001b[0mload_image\u001b[0m\u001b[0;34m(\u001b[0m\u001b[0mfilename\u001b[0m\u001b[0;34m)\u001b[0m\u001b[0;34m\u001b[0m\u001b[0;34m\u001b[0m\u001b[0m\n\u001b[0m\u001b[1;32m      8\u001b[0m     \u001b[0menhanced\u001b[0m \u001b[0;34m=\u001b[0m \u001b[0menhance_image\u001b[0m\u001b[0;34m(\u001b[0m\u001b[0mimg\u001b[0m\u001b[0;34m,\u001b[0m \u001b[0mmodel\u001b[0m\u001b[0;34m)\u001b[0m\u001b[0;34m\u001b[0m\u001b[0;34m\u001b[0m\u001b[0m\n\u001b[1;32m      9\u001b[0m \u001b[0;34m\u001b[0m\u001b[0m\n",
            "\u001b[0;32m<ipython-input-34-47122671ce5e>\u001b[0m in \u001b[0;36mload_image\u001b[0;34m(filepath, target_size)\u001b[0m\n\u001b[1;32m      1\u001b[0m \u001b[0;32mdef\u001b[0m \u001b[0mload_image\u001b[0m\u001b[0;34m(\u001b[0m\u001b[0mfilepath\u001b[0m\u001b[0;34m,\u001b[0m \u001b[0mtarget_size\u001b[0m\u001b[0;34m=\u001b[0m\u001b[0;32mNone\u001b[0m\u001b[0;34m)\u001b[0m\u001b[0;34m:\u001b[0m\u001b[0;34m\u001b[0m\u001b[0;34m\u001b[0m\u001b[0m\n\u001b[1;32m      2\u001b[0m     \u001b[0mimg\u001b[0m \u001b[0;34m=\u001b[0m \u001b[0mcv2\u001b[0m\u001b[0;34m.\u001b[0m\u001b[0mimread\u001b[0m\u001b[0;34m(\u001b[0m\u001b[0mfilepath\u001b[0m\u001b[0;34m)\u001b[0m\u001b[0;34m\u001b[0m\u001b[0;34m\u001b[0m\u001b[0m\n\u001b[0;32m----> 3\u001b[0;31m     \u001b[0mimg\u001b[0m \u001b[0;34m=\u001b[0m \u001b[0mcv2\u001b[0m\u001b[0;34m.\u001b[0m\u001b[0mcvtColor\u001b[0m\u001b[0;34m(\u001b[0m\u001b[0mimg\u001b[0m\u001b[0;34m,\u001b[0m \u001b[0mcv2\u001b[0m\u001b[0;34m.\u001b[0m\u001b[0mCOLOR_BGR2RGB\u001b[0m\u001b[0;34m)\u001b[0m\u001b[0;34m\u001b[0m\u001b[0;34m\u001b[0m\u001b[0m\n\u001b[0m\u001b[1;32m      4\u001b[0m     \u001b[0;32mif\u001b[0m \u001b[0mtarget_size\u001b[0m\u001b[0;34m:\u001b[0m\u001b[0;34m\u001b[0m\u001b[0;34m\u001b[0m\u001b[0m\n\u001b[1;32m      5\u001b[0m         \u001b[0mimg\u001b[0m \u001b[0;34m=\u001b[0m \u001b[0mcv2\u001b[0m\u001b[0;34m.\u001b[0m\u001b[0mresize\u001b[0m\u001b[0;34m(\u001b[0m\u001b[0mimg\u001b[0m\u001b[0;34m,\u001b[0m \u001b[0mtarget_size\u001b[0m\u001b[0;34m)\u001b[0m\u001b[0;34m\u001b[0m\u001b[0;34m\u001b[0m\u001b[0m\n",
            "\u001b[0;31merror\u001b[0m: OpenCV(4.11.0) /io/opencv/modules/imgproc/src/color.cpp:199: error: (-215:Assertion failed) !_src.empty() in function 'cvtColor'\n"
          ]
        }
      ]
    },
    {
      "cell_type": "code",
      "source": [
        "from google.colab import files\n",
        "files.download(\"base_model.h5\")"
      ],
      "metadata": {
        "colab": {
          "base_uri": "https://localhost:8080/",
          "height": 17
        },
        "id": "nnU9fQ7NfHn6",
        "outputId": "c80a5990-f2ef-45a8-c1fd-6f4c50d7ef7c"
      },
      "execution_count": null,
      "outputs": [
        {
          "output_type": "display_data",
          "data": {
            "text/plain": [
              "<IPython.core.display.Javascript object>"
            ],
            "application/javascript": [
              "\n",
              "    async function download(id, filename, size) {\n",
              "      if (!google.colab.kernel.accessAllowed) {\n",
              "        return;\n",
              "      }\n",
              "      const div = document.createElement('div');\n",
              "      const label = document.createElement('label');\n",
              "      label.textContent = `Downloading \"${filename}\": `;\n",
              "      div.appendChild(label);\n",
              "      const progress = document.createElement('progress');\n",
              "      progress.max = size;\n",
              "      div.appendChild(progress);\n",
              "      document.body.appendChild(div);\n",
              "\n",
              "      const buffers = [];\n",
              "      let downloaded = 0;\n",
              "\n",
              "      const channel = await google.colab.kernel.comms.open(id);\n",
              "      // Send a message to notify the kernel that we're ready.\n",
              "      channel.send({})\n",
              "\n",
              "      for await (const message of channel.messages) {\n",
              "        // Send a message to notify the kernel that we're ready.\n",
              "        channel.send({})\n",
              "        if (message.buffers) {\n",
              "          for (const buffer of message.buffers) {\n",
              "            buffers.push(buffer);\n",
              "            downloaded += buffer.byteLength;\n",
              "            progress.value = downloaded;\n",
              "          }\n",
              "        }\n",
              "      }\n",
              "      const blob = new Blob(buffers, {type: 'application/binary'});\n",
              "      const a = document.createElement('a');\n",
              "      a.href = window.URL.createObjectURL(blob);\n",
              "      a.download = filename;\n",
              "      div.appendChild(a);\n",
              "      a.click();\n",
              "      div.remove();\n",
              "    }\n",
              "  "
            ]
          },
          "metadata": {}
        },
        {
          "output_type": "display_data",
          "data": {
            "text/plain": [
              "<IPython.core.display.Javascript object>"
            ],
            "application/javascript": [
              "download(\"download_2041d478-d2cd-4355-99a6-64a2135f1005\", \"base_model.h5\", 358704)"
            ]
          },
          "metadata": {}
        }
      ]
    },
    {
      "cell_type": "code",
      "source": [],
      "metadata": {
        "id": "pPDI_EPsflec"
      },
      "execution_count": null,
      "outputs": []
    }
  ],
  "metadata": {
    "accelerator": "GPU",
    "colab": {
      "gpuType": "T4",
      "provenance": []
    },
    "kernelspec": {
      "display_name": "Python 3",
      "name": "python3"
    },
    "language_info": {
      "name": "python"
    }
  },
  "nbformat": 4,
  "nbformat_minor": 0
}